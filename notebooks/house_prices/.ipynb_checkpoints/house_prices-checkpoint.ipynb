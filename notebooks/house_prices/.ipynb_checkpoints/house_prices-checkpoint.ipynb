{
 "cells": [
  {
   "cell_type": "code",
   "execution_count": 1,
   "metadata": {},
   "outputs": [],
   "source": [
    "import pandas as pd\n",
    "import numpy as np\n",
    "import seaborn as sns\n",
    "import matplotlib.pyplot as plt\n",
    "import xgboost as xgb\n",
    "from sklearn import preprocessing, model_selection, linear_model, ensemble, pipeline, metrics\n",
    "sns.set()"
   ]
  },
  {
   "cell_type": "markdown",
   "metadata": {},
   "source": [
    "### Data"
   ]
  },
  {
   "cell_type": "code",
   "execution_count": 2,
   "metadata": {},
   "outputs": [
    {
     "name": "stdout",
     "output_type": "stream",
     "text": [
      "(1460, 81)\n",
      "(1459, 80)\n"
     ]
    }
   ],
   "source": [
    "train_data = pd.read_csv('train.csv')\n",
    "test_data =  pd.read_csv('test.csv')\n",
    "print(train_data.shape)\n",
    "print(test_data.shape)"
   ]
  },
  {
   "cell_type": "code",
   "execution_count": null,
   "metadata": {},
   "outputs": [],
   "source": [
    "train_data.describe()"
   ]
  },
  {
   "cell_type": "markdown",
   "metadata": {},
   "source": [
    "### Initial EDA\n",
    "\n",
    "- Read data-description.txt.\n",
    "- Visualise distribution of response variable: `SalePrice`.\n",
    "- Identify categorical, ordinal and numerical variables.\n",
    "- Visualise the relationships between the predictors and the response variable.\n",
    "- Visualise distributions of predictors with missing values in the training set - in anticipation of the next job to be done; sensible imputation."
   ]
  },
  {
   "cell_type": "markdown",
   "metadata": {},
   "source": [
    "#### Response: Saleprice"
   ]
  },
  {
   "cell_type": "code",
   "execution_count": null,
   "metadata": {},
   "outputs": [],
   "source": [
    "_, (ax1, ax2) = plt.subplots(figsize=(15,10), ncols=2)\n",
    "sns.distplot(train_data['SalePrice'], ax=ax1)\n",
    "sns.distplot(np.log(train_data['SalePrice']), ax=ax2)"
   ]
  },
  {
   "cell_type": "markdown",
   "metadata": {},
   "source": [
    "#### Predictors: Categorical, Numerical and Ordinal"
   ]
  },
  {
   "cell_type": "code",
   "execution_count": 3,
   "metadata": {},
   "outputs": [],
   "source": [
    "categoricals = ['MSSubClass', 'MSZoning', 'Street', 'Alley', 'LandContour', \n",
    "                'LotConfig', 'Neighborhood', 'Condition1', 'Condition2', 'BldgType', \n",
    "                'HouseStyle', 'RoofStyle', 'RoofMatl', 'Exterior1st', 'Exterior2nd',\n",
    "                'MasVnrType', 'Foundation', 'Heating', 'CentralAir', 'GarageType',\n",
    "                'MoSold', 'SaleType', 'SaleCondition', 'MiscFeature']\n",
    "\n",
    "numericals = ['LotFrontage', 'LotArea', 'YearBuilt', 'YearRemodAdd', 'MasVnrArea',\n",
    "              'BsmtFinSF1', 'BsmtFinSF2', 'BsmtUnfSF', 'TotalBsmtSF', '1stFlrSF',\n",
    "              '2ndFlrSF', 'LowQualFinSF', 'GrLivArea', 'BsmtFullBath', 'BsmtHalfBath',\n",
    "              'FullBath', 'HalfBath', 'TotRmsAbvGrd', 'Fireplaces', 'GarageYrBlt',\n",
    "              'GarageCars', 'GarageArea','WoodDeckSF', 'OpenPorchSF', 'EnclosedPorch',\n",
    "              '3SsnPorch', 'ScreenPorch', 'PoolArea','YrSold', 'MiscVal', 'OverallQual',\n",
    "             'OverallCond']\n",
    "\n",
    "ordinals = ['LotShape', 'LandSlope',\n",
    "            'ExterQual', 'ExterCond', 'BsmtQual', 'BsmtCond', 'BsmtExposure', 'BsmtFinType1',\n",
    "            'BsmtFinType2', 'HeatingQC', 'Electrical', 'KitchenQual', \n",
    "            'Functional', 'FireplaceQu', 'GarageFinish', 'GarageQual', 'GarageCond',\n",
    "            'PavedDrive', 'PoolQC', 'Fence']\n",
    "\n",
    "# dropping\n",
    "# - `Utilities` as there is only one example in train with label different to the others."
   ]
  },
  {
   "cell_type": "code",
   "execution_count": null,
   "metadata": {},
   "outputs": [],
   "source": [
    "sns.stripplot(x='Utilities', y='SalePrice', data=train_data)"
   ]
  },
  {
   "cell_type": "markdown",
   "metadata": {},
   "source": [
    "##### Categoricals"
   ]
  },
  {
   "cell_type": "code",
   "execution_count": null,
   "metadata": {},
   "outputs": [],
   "source": [
    "train_data[categoricals].head()"
   ]
  },
  {
   "cell_type": "code",
   "execution_count": null,
   "metadata": {},
   "outputs": [],
   "source": [
    "_, axes = plt.subplots(nrows=len(categoricals), figsize=(7.5, 150))\n",
    "for idx, c in enumerate(categoricals):\n",
    "    ax = sns.stripplot(x=c, y='SalePrice', data=train_data, ax=axes[idx])"
   ]
  },
  {
   "cell_type": "code",
   "execution_count": null,
   "metadata": {},
   "outputs": [],
   "source": [
    "train_data[categoricals].isna().sum()"
   ]
  },
  {
   "cell_type": "markdown",
   "metadata": {},
   "source": [
    "##### Ordinals"
   ]
  },
  {
   "cell_type": "code",
   "execution_count": null,
   "metadata": {},
   "outputs": [],
   "source": [
    "train_data[ordinals].head()"
   ]
  },
  {
   "cell_type": "code",
   "execution_count": null,
   "metadata": {},
   "outputs": [],
   "source": [
    "_, axes = plt.subplots(nrows=len(ordinals), figsize=(7.5, 150))\n",
    "for idx, c in enumerate(ordinals):\n",
    "    ax = sns.stripplot(x=c, y='SalePrice', data=train_data, ax=axes[idx])"
   ]
  },
  {
   "cell_type": "code",
   "execution_count": null,
   "metadata": {},
   "outputs": [],
   "source": [
    "train_data[ordinals].isna().sum()"
   ]
  },
  {
   "cell_type": "markdown",
   "metadata": {},
   "source": [
    "##### Numericals"
   ]
  },
  {
   "cell_type": "code",
   "execution_count": null,
   "metadata": {
    "scrolled": true
   },
   "outputs": [],
   "source": [
    "train_data[numericals].head()"
   ]
  },
  {
   "cell_type": "code",
   "execution_count": null,
   "metadata": {},
   "outputs": [],
   "source": [
    "_, axes = plt.subplots(nrows=len(numericals), figsize=(7.5, 150))\n",
    "for idx, c in enumerate(numericals):\n",
    "    ax = sns.scatterplot(x=c, y='SalePrice', data=train_data, ax=axes[idx])"
   ]
  },
  {
   "cell_type": "code",
   "execution_count": null,
   "metadata": {},
   "outputs": [],
   "source": [
    "train_data[numericals].isna().sum()"
   ]
  },
  {
   "cell_type": "code",
   "execution_count": null,
   "metadata": {},
   "outputs": [],
   "source": [
    "(train_data[numericals] == 0).sum()"
   ]
  },
  {
   "cell_type": "code",
   "execution_count": null,
   "metadata": {},
   "outputs": [],
   "source": [
    "sns.distplot(train_data['LotFrontage'].dropna())"
   ]
  },
  {
   "cell_type": "code",
   "execution_count": null,
   "metadata": {},
   "outputs": [],
   "source": [
    "sns.distplot(train_data['GarageYrBlt'].dropna())"
   ]
  },
  {
   "cell_type": "code",
   "execution_count": null,
   "metadata": {},
   "outputs": [],
   "source": [
    "sns.distplot(train_data['MasVnrArea'].dropna())"
   ]
  },
  {
   "cell_type": "markdown",
   "metadata": {},
   "source": [
    "### Preprocessing I\n",
    "\n",
    "- Impute missing data\n",
    "- Sensible values for ordinal predictors"
   ]
  },
  {
   "cell_type": "markdown",
   "metadata": {},
   "source": [
    "#### Imputation"
   ]
  },
  {
   "cell_type": "code",
   "execution_count": 5,
   "metadata": {},
   "outputs": [],
   "source": [
    "def impute_missing(X):\n",
    "    df = X.copy()\n",
    "    \n",
    "    # categoricals\n",
    "    df['Alley'] = df['Alley'].fillna('missing')\n",
    "    df['GarageType'] = df['GarageType'].fillna('missing')\n",
    "    df['MiscFeature'] = df['MiscFeature'].fillna('missing')\n",
    "    # assume that if this is missing, there isn't any masonry\n",
    "    df['MasVnrType'] = df['MasVnrType'].fillna('None')\n",
    "    # these aren't missing for any obs in the training set, but are each missing for small number of obs in test\n",
    "    df['SaleType'] = df['SaleType'].fillna(df['SaleType'].mode()[0])\n",
    "    df['Exterior1st'] = df['Exterior1st'].fillna(df['Exterior1st'].mode()[0])\n",
    "    df['Exterior2nd'] = df['Exterior2nd'].fillna(df['Exterior2nd'].mode()[0])\n",
    "    df['MSZoning'] = df['MSZoning'].fillna(df['MSZoning'].mode()[0])\n",
    "\n",
    "    # ordinals\n",
    "    df['FireplaceQu'] = df['FireplaceQu'].fillna(df['FireplaceQu'].mode()[0])\n",
    "    df['Electrical'] =  df['Electrical'].fillna(df['Electrical'].mode()[0])\n",
    "    # .. garage/pool/fence NAs, correspond to no garage/pool/fence according to data_description.txt\n",
    "    df['GarageFinish'] = df['GarageFinish'].fillna('NA')\n",
    "    df['GarageCond'] = df['GarageCond'].fillna('NA')\n",
    "    df['GarageQual'] = df['GarageQual'].fillna('NA')\n",
    "    df['PoolQC'] = df['PoolQC'].fillna('NA')\n",
    "    df['Fence'] = df['Fence'].fillna('NA')\n",
    "    # .. assuming same for basements\n",
    "    df['BsmtQual'] = df['BsmtQual'].fillna('NA')\n",
    "    df['BsmtCond'] = df['BsmtCond'].fillna('NA')\n",
    "    df['BsmtExposure'] = df['BsmtExposure'].fillna('NA')\n",
    "    df['BsmtFinType1'] = df['BsmtFinType1'].fillna('NA')\n",
    "    df['BsmtFinType2'] = df['BsmtFinType2'].fillna('NA')\n",
    "    # these aren't missing for any obs in the training set, but are each missing for small number of obs in test\n",
    "    df['KitchenQual'] =  df['KitchenQual'].fillna(df['KitchenQual'].mode()[0])\n",
    "    df['Functional'] =  df['Functional'].fillna(df['Functional'].mode()[0])\n",
    "    \n",
    "    # numericals\n",
    "    df['LotFrontage'] = df['LotFrontage'].fillna(df['LotFrontage'].median())\n",
    "    df['GarageYrBlt'] = df['GarageYrBlt'].fillna(df['GarageYrBlt'].median()) # is there a better way.. feature engineer year bins and never?\n",
    "    df['MasVnrArea'] =  df['MasVnrArea'].fillna(df['MasVnrArea'].median())\n",
    "    # these aren't missing for any obs in the training set, but are each missing for small number of obs in test\n",
    "    # they all pertain to garages and basements; I'm going to assume that these facilities don't exist if these\n",
    "    # values are missing\n",
    "    df['BsmtFinSF1'] = df['BsmtFinSF1'].fillna(0)\n",
    "    df['BsmtFinSF2'] = df['BsmtFinSF2'].fillna(0)\n",
    "    df['BsmtUnfSF'] = df['BsmtFinSF2'].fillna(0)\n",
    "    df['TotalBsmtSF'] = df['BsmtFinSF2'].fillna(0)\n",
    "    df['BsmtFullBath'] = df['BsmtFullBath'].fillna(0)\n",
    "    df['BsmtHalfBath'] = df['BsmtHalfBath'].fillna(0)\n",
    "    df['GarageCars'] = df['GarageCars'].fillna(0)\n",
    "    df['GarageArea'] = df['GarageArea'].fillna(0)\n",
    "    return df    "
   ]
  },
  {
   "cell_type": "code",
   "execution_count": null,
   "metadata": {},
   "outputs": [],
   "source": [
    "impute_missing(train_data).head()"
   ]
  },
  {
   "cell_type": "code",
   "execution_count": null,
   "metadata": {},
   "outputs": [],
   "source": [
    "train_data[categoricals].isna().sum()"
   ]
  },
  {
   "cell_type": "markdown",
   "metadata": {},
   "source": [
    "#### Ordinals"
   ]
  },
  {
   "cell_type": "code",
   "execution_count": 4,
   "metadata": {},
   "outputs": [],
   "source": [
    "def qual_ordinal_score(x):\n",
    "    '''BsmtQual, GarageQual, PoolQC, FireplaceQu, BsmtCond, GarageCond'''\n",
    "    if x == 'Ex':\n",
    "        return 5\n",
    "    elif x == 'Gd':\n",
    "        return 4\n",
    "    elif x == 'TA':\n",
    "        return 3\n",
    "    elif x =='Fa':\n",
    "        return 2\n",
    "    elif x =='Po':\n",
    "        return 1\n",
    "    elif x == 'NA':\n",
    "        return 0\n",
    "    else:\n",
    "        raise ValueError('UNEXPECTED VALUE: {}'.format(x))\n",
    "\n",
    "def bsmt_exposure_ordinal_score(x):\n",
    "    '''BsmtExposure'''\n",
    "    if x == 'Gd':\n",
    "        return 4\n",
    "    elif x == 'Av':\n",
    "        return 3\n",
    "    elif x =='Mn':\n",
    "        return 2\n",
    "    elif x =='No':\n",
    "        return 1\n",
    "    elif x == 'NA':\n",
    "        return 0\n",
    "    else:\n",
    "        raise ValueError('UNEXPECTED VALUE: {}'.format(x))\n",
    "\n",
    "def bsmt_fin_type_ordinal_score(x):\n",
    "    '''BsmtExposure'''\n",
    "    if x == 'GLQ':\n",
    "        return 6\n",
    "    elif x == 'ALQ':\n",
    "        return 5\n",
    "    elif x =='BLQ':\n",
    "        return 4\n",
    "    elif x =='Rec':\n",
    "        return 3\n",
    "    elif x == 'LwQ':\n",
    "        return 2\n",
    "    elif x == 'Unf':\n",
    "        return 1\n",
    "    elif x == 'NA':\n",
    "        return 0\n",
    "    else:\n",
    "        raise ValueError('UNEXPECTED VALUE: {}'.format(x))\n",
    "        \n",
    "def garage_finish_ordinal_score(x):\n",
    "    '''GarageFinish'''\n",
    "    if x == 'Fin':\n",
    "        return 3\n",
    "    elif x == 'RFn':\n",
    "        return 2\n",
    "    elif x =='Unf':\n",
    "        return 1\n",
    "    elif x == 'NA':\n",
    "        return 0\n",
    "    else:\n",
    "        raise ValueError('UNEXPECTED VALUE: {}'.format(x))\n",
    "        \n",
    "def fence_ordinal_score(x):\n",
    "    '''Fence'''\n",
    "    if x == 'GdPrv':\n",
    "        return 4\n",
    "    elif x == 'MnPrv':\n",
    "        return 3\n",
    "    elif x =='GdWo':\n",
    "        return 2\n",
    "    elif x == 'MnWw':\n",
    "        return 1\n",
    "    elif x == 'NA':\n",
    "        return 0\n",
    "    else:\n",
    "        raise ValueError('UNEXPECTED VALUE: {}'.format(x))\n",
    "    \n",
    "def lot_shape_ordinal_score(x):\n",
    "    '''LotShape'''\n",
    "    if x == 'Reg':\n",
    "        return 0\n",
    "    elif x == 'IR1':\n",
    "        return 1\n",
    "    elif x =='IR2':\n",
    "        return 2\n",
    "    elif x == 'IR3':\n",
    "        return 3\n",
    "    else:\n",
    "        raise ValueError('UNEXPECTED VALUE: {}'.format(x))\n",
    "    \n",
    "def land_slope_ordinal(x):\n",
    "    '''LandSlope'''\n",
    "    if x == 'Gtl':\n",
    "        return 0\n",
    "    elif x == 'Mod':\n",
    "        return 1\n",
    "    elif x =='Sev':\n",
    "        return 2\n",
    "    else:\n",
    "        raise ValueError('UNEXPECTED VALUE: {}'.format(x))\n",
    "        \n",
    "def electrical_ordinal(x):\n",
    "    '''Electrical'''\n",
    "    if x == 'SBrkr':\n",
    "        return 4\n",
    "    elif x == 'FuseA':\n",
    "        return 3\n",
    "    elif x =='FuseF':\n",
    "        return 2\n",
    "    elif x == 'FuseP':\n",
    "        return 1\n",
    "    elif x == 'Mix':\n",
    "        return 0\n",
    "    else:\n",
    "        raise ValueError('UNEXPECTED VALUE: {}'.format(x))\n",
    "\n",
    "def functional_ordinal(x):\n",
    "    '''Functional'''\n",
    "    if x == 'Typ':\n",
    "        return 7\n",
    "    elif x == 'Min1':\n",
    "        return 6\n",
    "    elif x =='Min2':\n",
    "        return 5\n",
    "    elif x =='Mod':\n",
    "        return 4\n",
    "    elif x == 'Maj1':\n",
    "        return 3\n",
    "    elif x == 'Maj2':\n",
    "        return 2\n",
    "    elif x == 'Sev':\n",
    "        return 1\n",
    "    elif x == 'Sal':\n",
    "        return 0\n",
    "    else:\n",
    "        raise ValueError('UNEXPECTED VALUE: {}'.format(x))    \n",
    "\n",
    "def paved_ordinal(x):\n",
    "    '''PavedDrive'''\n",
    "    if x == 'Y':\n",
    "        return 2\n",
    "    elif x == 'P':\n",
    "        return 1\n",
    "    elif x == 'N':\n",
    "        return 0\n",
    "    else:\n",
    "        raise ValueError('UNEXPECTED VALUE: {}'.format(x))    \n",
    "        \n",
    "ordinal_extractor_map = {'LotShape' : lot_shape_ordinal_score,\n",
    "                         'LandSlope' : land_slope_ordinal,\n",
    "                         'BsmtQual' : qual_ordinal_score,\n",
    "                         'BsmtCond' : qual_ordinal_score,\n",
    "                         'BsmtExposure' : bsmt_exposure_ordinal_score,\n",
    "                         'BsmtFinType1' : bsmt_fin_type_ordinal_score,\n",
    "                         'BsmtFinType2' : bsmt_fin_type_ordinal_score,\n",
    "                         'HeatingQC' : qual_ordinal_score,\n",
    "                         'Electrical' : electrical_ordinal,\n",
    "                         'KitchenQual' : qual_ordinal_score,\n",
    "                         'Functional' : functional_ordinal,\n",
    "                         'FireplaceQu' : qual_ordinal_score,\n",
    "                         'GarageFinish' :  garage_finish_ordinal_score,\n",
    "                         'GarageQual' : qual_ordinal_score,\n",
    "                         'GarageCond' : qual_ordinal_score,\n",
    "                         'PavedDrive' : paved_ordinal,\n",
    "                         'PoolQC' : qual_ordinal_score,\n",
    "                         'Fence' : fence_ordinal_score}\n",
    "\n",
    "def extract_ordinals(X):\n",
    "    return pd.DataFrame([X[k].apply(f) for k, f in ordinal_extractor_map.items()]).T"
   ]
  },
  {
   "cell_type": "code",
   "execution_count": null,
   "metadata": {},
   "outputs": [],
   "source": [
    "extract_ordinals(impute_missing(train_data)).head()"
   ]
  },
  {
   "cell_type": "markdown",
   "metadata": {},
   "source": [
    "### More EDA\n",
    "- High level view: a pairplot and correlation matrix.\n",
    "- Investigate distributions of numerical predictors; in anticipation of transforming skewed ones to be normal.\n",
    "- Investigate non-linearities in relationships with outcome variable: in anticipation of adding polynomial features.\n",
    "- Investigate anomolies; in aniticpation of removing them."
   ]
  },
  {
   "cell_type": "code",
   "execution_count": null,
   "metadata": {},
   "outputs": [],
   "source": [
    "numericals_df = impute_missing(train_data)[numericals]\n",
    "numericals_df.head()"
   ]
  },
  {
   "cell_type": "code",
   "execution_count": null,
   "metadata": {},
   "outputs": [],
   "source": [
    "sns.pairplot(numericals_df)"
   ]
  },
  {
   "cell_type": "code",
   "execution_count": null,
   "metadata": {},
   "outputs": [],
   "source": [
    "_, ax = plt.subplots(figsize=(25, 25))\n",
    "sns.heatmap(numericals_df.corr(), annot=True, ax=ax)"
   ]
  },
  {
   "cell_type": "markdown",
   "metadata": {},
   "source": [
    "#### Distribution investigation"
   ]
  },
  {
   "cell_type": "code",
   "execution_count": null,
   "metadata": {},
   "outputs": [],
   "source": [
    "_, axes = plt.subplots(nrows=len(numericals), figsize=(25,125))\n",
    "for idx, n in enumerate(numericals_df.columns):\n",
    "    sns.distplot(numericals_df[n], ax=axes[idx])"
   ]
  },
  {
   "cell_type": "markdown",
   "metadata": {},
   "source": [
    "#### Anomaly investigation"
   ]
  },
  {
   "cell_type": "code",
   "execution_count": null,
   "metadata": {},
   "outputs": [],
   "source": [
    "oq_outliers = (train_data['OverallQual'] == 4) & (train_data['SalePrice'] > 200000)\n",
    "\n",
    "_, (ax1, ax2) = plt.subplots(ncols=2, figsize=(25, 10))\n",
    "sns.scatterplot(x='OverallQual', y='SalePrice', data=train_data, ax=ax1)\n",
    "sns.scatterplot(x='OverallQual', y='SalePrice', data=train_data[~oq_outliers], ax=ax2)"
   ]
  },
  {
   "cell_type": "code",
   "execution_count": null,
   "metadata": {},
   "outputs": [],
   "source": [
    "gt_outliers = (train_data['GrLivArea'] > 4000) & (train_data['SalePrice'] < 200000)\n",
    "\n",
    "_, (ax1, ax2) = plt.subplots(ncols=2, figsize=(25, 10))\n",
    "sns.scatterplot(x='GrLivArea', y='SalePrice', data=train_data, ax=ax1)\n",
    "sns.scatterplot(x='GrLivArea', y='SalePrice', data=train_data[~gt_outliers], ax=ax2)"
   ]
  },
  {
   "cell_type": "markdown",
   "metadata": {},
   "source": [
    "### Preprocessing II / Pipeline\n",
    "\n",
    "- one-hot encoding for categoricals\n",
    "- log transform `SalePrice`\n",
    "- log transform skewed predictors\n",
    "- add squares of predictors with non-linear relationships with `SalePrice`\n",
    "- ?remove outliers\n",
    "- ?add engineered features"
   ]
  },
  {
   "cell_type": "code",
   "execution_count": 6,
   "metadata": {},
   "outputs": [
    {
     "data": {
      "text/html": [
       "<div>\n",
       "<style scoped>\n",
       "    .dataframe tbody tr th:only-of-type {\n",
       "        vertical-align: middle;\n",
       "    }\n",
       "\n",
       "    .dataframe tbody tr th {\n",
       "        vertical-align: top;\n",
       "    }\n",
       "\n",
       "    .dataframe thead th {\n",
       "        text-align: right;\n",
       "    }\n",
       "</style>\n",
       "<table border=\"1\" class=\"dataframe\">\n",
       "  <thead>\n",
       "    <tr style=\"text-align: right;\">\n",
       "      <th></th>\n",
       "      <th>MSSubClass_20</th>\n",
       "      <th>MSSubClass_30</th>\n",
       "      <th>MSSubClass_40</th>\n",
       "      <th>MSSubClass_45</th>\n",
       "      <th>MSSubClass_50</th>\n",
       "      <th>MSSubClass_60</th>\n",
       "      <th>MSSubClass_70</th>\n",
       "      <th>MSSubClass_75</th>\n",
       "      <th>MSSubClass_80</th>\n",
       "      <th>MSSubClass_85</th>\n",
       "      <th>...</th>\n",
       "      <th>SaleCondition_AdjLand</th>\n",
       "      <th>SaleCondition_Alloca</th>\n",
       "      <th>SaleCondition_Family</th>\n",
       "      <th>SaleCondition_Normal</th>\n",
       "      <th>SaleCondition_Partial</th>\n",
       "      <th>MiscFeature_Gar2</th>\n",
       "      <th>MiscFeature_Othr</th>\n",
       "      <th>MiscFeature_Shed</th>\n",
       "      <th>MiscFeature_TenC</th>\n",
       "      <th>MiscFeature_missing</th>\n",
       "    </tr>\n",
       "  </thead>\n",
       "  <tbody>\n",
       "    <tr>\n",
       "      <th>0</th>\n",
       "      <td>0</td>\n",
       "      <td>0</td>\n",
       "      <td>0</td>\n",
       "      <td>0</td>\n",
       "      <td>0</td>\n",
       "      <td>1</td>\n",
       "      <td>0</td>\n",
       "      <td>0</td>\n",
       "      <td>0</td>\n",
       "      <td>0</td>\n",
       "      <td>...</td>\n",
       "      <td>0</td>\n",
       "      <td>0</td>\n",
       "      <td>0</td>\n",
       "      <td>1</td>\n",
       "      <td>0</td>\n",
       "      <td>0</td>\n",
       "      <td>0</td>\n",
       "      <td>0</td>\n",
       "      <td>0</td>\n",
       "      <td>1</td>\n",
       "    </tr>\n",
       "    <tr>\n",
       "      <th>1</th>\n",
       "      <td>1</td>\n",
       "      <td>0</td>\n",
       "      <td>0</td>\n",
       "      <td>0</td>\n",
       "      <td>0</td>\n",
       "      <td>0</td>\n",
       "      <td>0</td>\n",
       "      <td>0</td>\n",
       "      <td>0</td>\n",
       "      <td>0</td>\n",
       "      <td>...</td>\n",
       "      <td>0</td>\n",
       "      <td>0</td>\n",
       "      <td>0</td>\n",
       "      <td>1</td>\n",
       "      <td>0</td>\n",
       "      <td>0</td>\n",
       "      <td>0</td>\n",
       "      <td>0</td>\n",
       "      <td>0</td>\n",
       "      <td>1</td>\n",
       "    </tr>\n",
       "    <tr>\n",
       "      <th>2</th>\n",
       "      <td>0</td>\n",
       "      <td>0</td>\n",
       "      <td>0</td>\n",
       "      <td>0</td>\n",
       "      <td>0</td>\n",
       "      <td>1</td>\n",
       "      <td>0</td>\n",
       "      <td>0</td>\n",
       "      <td>0</td>\n",
       "      <td>0</td>\n",
       "      <td>...</td>\n",
       "      <td>0</td>\n",
       "      <td>0</td>\n",
       "      <td>0</td>\n",
       "      <td>1</td>\n",
       "      <td>0</td>\n",
       "      <td>0</td>\n",
       "      <td>0</td>\n",
       "      <td>0</td>\n",
       "      <td>0</td>\n",
       "      <td>1</td>\n",
       "    </tr>\n",
       "    <tr>\n",
       "      <th>3</th>\n",
       "      <td>0</td>\n",
       "      <td>0</td>\n",
       "      <td>0</td>\n",
       "      <td>0</td>\n",
       "      <td>0</td>\n",
       "      <td>0</td>\n",
       "      <td>1</td>\n",
       "      <td>0</td>\n",
       "      <td>0</td>\n",
       "      <td>0</td>\n",
       "      <td>...</td>\n",
       "      <td>0</td>\n",
       "      <td>0</td>\n",
       "      <td>0</td>\n",
       "      <td>0</td>\n",
       "      <td>0</td>\n",
       "      <td>0</td>\n",
       "      <td>0</td>\n",
       "      <td>0</td>\n",
       "      <td>0</td>\n",
       "      <td>1</td>\n",
       "    </tr>\n",
       "    <tr>\n",
       "      <th>4</th>\n",
       "      <td>0</td>\n",
       "      <td>0</td>\n",
       "      <td>0</td>\n",
       "      <td>0</td>\n",
       "      <td>0</td>\n",
       "      <td>1</td>\n",
       "      <td>0</td>\n",
       "      <td>0</td>\n",
       "      <td>0</td>\n",
       "      <td>0</td>\n",
       "      <td>...</td>\n",
       "      <td>0</td>\n",
       "      <td>0</td>\n",
       "      <td>0</td>\n",
       "      <td>1</td>\n",
       "      <td>0</td>\n",
       "      <td>0</td>\n",
       "      <td>0</td>\n",
       "      <td>0</td>\n",
       "      <td>0</td>\n",
       "      <td>1</td>\n",
       "    </tr>\n",
       "  </tbody>\n",
       "</table>\n",
       "<p>5 rows × 191 columns</p>\n",
       "</div>"
      ],
      "text/plain": [
       "   MSSubClass_20  MSSubClass_30  MSSubClass_40  MSSubClass_45  MSSubClass_50  \\\n",
       "0              0              0              0              0              0   \n",
       "1              1              0              0              0              0   \n",
       "2              0              0              0              0              0   \n",
       "3              0              0              0              0              0   \n",
       "4              0              0              0              0              0   \n",
       "\n",
       "   MSSubClass_60  MSSubClass_70  MSSubClass_75  MSSubClass_80  MSSubClass_85  \\\n",
       "0              1              0              0              0              0   \n",
       "1              0              0              0              0              0   \n",
       "2              1              0              0              0              0   \n",
       "3              0              1              0              0              0   \n",
       "4              1              0              0              0              0   \n",
       "\n",
       "          ...           SaleCondition_AdjLand  SaleCondition_Alloca  \\\n",
       "0         ...                               0                     0   \n",
       "1         ...                               0                     0   \n",
       "2         ...                               0                     0   \n",
       "3         ...                               0                     0   \n",
       "4         ...                               0                     0   \n",
       "\n",
       "   SaleCondition_Family  SaleCondition_Normal  SaleCondition_Partial  \\\n",
       "0                     0                     1                      0   \n",
       "1                     0                     1                      0   \n",
       "2                     0                     1                      0   \n",
       "3                     0                     0                      0   \n",
       "4                     0                     1                      0   \n",
       "\n",
       "   MiscFeature_Gar2  MiscFeature_Othr  MiscFeature_Shed  MiscFeature_TenC  \\\n",
       "0                 0                 0                 0                 0   \n",
       "1                 0                 0                 0                 0   \n",
       "2                 0                 0                 0                 0   \n",
       "3                 0                 0                 0                 0   \n",
       "4                 0                 0                 0                 0   \n",
       "\n",
       "   MiscFeature_missing  \n",
       "0                    1  \n",
       "1                    1  \n",
       "2                    1  \n",
       "3                    1  \n",
       "4                    1  \n",
       "\n",
       "[5 rows x 191 columns]"
      ]
     },
     "execution_count": 6,
     "metadata": {},
     "output_type": "execute_result"
    }
   ],
   "source": [
    "def extract_categorical(series):\n",
    "    df = pd.get_dummies(series)\n",
    "    df.columns = ['{}_{}'.format(series.name, c) for c in df.columns]\n",
    "    return df\n",
    "\n",
    "def extract_categoricals(X, categoricals):\n",
    "    ret = pd.DataFrame()\n",
    "    for cat in categoricals:\n",
    "        df = extract_categorical(X[cat])\n",
    "        ret = pd.concat([ret, df], axis=1)\n",
    "    return ret\n",
    "        \n",
    "extract_categoricals(impute_missing(train_data), categoricals).head()"
   ]
  },
  {
   "cell_type": "code",
   "execution_count": 7,
   "metadata": {},
   "outputs": [],
   "source": [
    "def preprocessing_remove_outliers(X, y):\n",
    "    outliers_1 = (X['OverallQual'] == 4) & (y > 200000)\n",
    "    outliers_2 = (X['GrLivArea'] > 4000) & (y < 200000)\n",
    "    outliers = outliers_1 | outliers_2\n",
    "    return X[~outliers], y[~outliers]"
   ]
  },
  {
   "cell_type": "code",
   "execution_count": 8,
   "metadata": {},
   "outputs": [],
   "source": [
    "def preprocessing_extract_predictors(X):\n",
    "    X = impute_missing(X)\n",
    "    ordinals_df = extract_ordinals(X)\n",
    "    categoricals_df = extract_categoricals(X, categoricals)\n",
    "    numericals_df = X[numericals]\n",
    "    X = pd.concat([ordinals_df, categoricals_df, numericals_df], axis=1)\n",
    "    return X"
   ]
  },
  {
   "cell_type": "code",
   "execution_count": 9,
   "metadata": {},
   "outputs": [],
   "source": [
    "log_predictors = ['LotFrontage','LotArea','MasVnrArea','BsmtFinSF1','BsmtFinSF2','BsmtUnfSF',\n",
    "                  'TotalBsmtSF','1stFlrSF','2ndFlrSF','LowQualFinSF','GrLivArea',\n",
    "                  'BsmtFullBath','BsmtHalfBath','FullBath','HalfBath',\n",
    "                  'TotRmsAbvGrd','Fireplaces','GarageCars','GarageArea','WoodDeckSF','OpenPorchSF',\n",
    "                  'EnclosedPorch','3SsnPorch','ScreenPorch','PoolArea','MiscVal','YearRemodAdd']\n",
    "\n",
    "def preprocessing_add_log_predictors(X):\n",
    "    X = X.copy()\n",
    "    for p in log_predictors:\n",
    "        X[p + '_log'] = np.log(1 + X[p])\n",
    "    return X\n",
    "\n",
    "def preprocessing_replace_log_predictors(X):\n",
    "    X = X.copy()\n",
    "    for p in log_predictors:\n",
    "        X[p] = np.log(1 + X[p])\n",
    "    return X"
   ]
  },
  {
   "cell_type": "code",
   "execution_count": 10,
   "metadata": {},
   "outputs": [],
   "source": [
    "square_predictors = ['YearRemodAdd', 'LotFrontage_log', 'TotalBsmtSF_log', '1stFlrSF_log',\n",
    "                     '2ndFlrSF_log', 'GrLivArea_log', 'GarageCars_log', 'GarageArea_log',\n",
    "                     'OverallQual', 'BsmtQual','GarageQual','FireplaceQu','KitchenQual']\n",
    "\n",
    "def preprocessing_add_square_predictors(X):\n",
    "    X = X.copy()\n",
    "    for p in square_predictors:\n",
    "        X[p + '_sq'] = X[p] ** 2\n",
    "    return X"
   ]
  },
  {
   "cell_type": "code",
   "execution_count": 98,
   "metadata": {},
   "outputs": [],
   "source": [
    "def preprocessing_pipeline_train(X, y):\n",
    "    X, y = preprocessing_remove_outliers(X, y)\n",
    "    X = preprocessing_extract_predictors(X)\n",
    "    X = preprocessing_add_log_predictors(X)\n",
    "    X = preprocessing_add_square_predictors(X)\n",
    "    return X.reindex(sorted(X.columns), axis=1), np.log(y)\n",
    "\n",
    "def preprocessing_pipeline_test(X, train_columns):\n",
    "    # Handle predictor values in test that are not in train:\n",
    "    X['MSSubClass'] = X['MSSubClass'].apply(lambda x: 160 if x == 150 else x)\n",
    "    # Perform identical preprocessing of predictors as train:\n",
    "    X = preprocessing_extract_predictors(X)\n",
    "    X = preprocessing_add_log_predictors(X)\n",
    "    X = preprocessing_add_square_predictors(X)\n",
    "    X = X.reindex(sorted(X.columns), axis=1)\n",
    "    # Handle predictor values in train that are not in test:\n",
    "    missing_cols = set(train_columns).difference(X.columns)\n",
    "    patch = np.zeros((X.shape[0],len(missing_cols)))\n",
    "    X = pd.concat([X, pd.DataFrame(patch, columns=missing_cols)], axis=1)\n",
    "    return X.reindex(sorted(X.columns), axis=1)\n",
    "    \n",
    "X = train_data.drop(['SalePrice'], axis=1)\n",
    "y = train_data['SalePrice']\n",
    "train_X, train_y = preprocessing_pipeline_train(X, y)"
   ]
  },
  {
   "cell_type": "markdown",
   "metadata": {},
   "source": [
    "### Training - Hyperparameter Tuning"
   ]
  },
  {
   "cell_type": "markdown",
   "metadata": {},
   "source": [
    "#### L1 and L2"
   ]
  },
  {
   "cell_type": "code",
   "execution_count": 18,
   "metadata": {},
   "outputs": [
    {
     "name": "stderr",
     "output_type": "stream",
     "text": [
      "/usr/local/lib/python3.6/site-packages/sklearn/linear_model/coordinate_descent.py:491: ConvergenceWarning: Objective did not converge. You might want to increase the number of iterations. Fitting data with very small alpha may cause precision problems.\n",
      "  ConvergenceWarning)\n",
      "/usr/local/lib/python3.6/site-packages/sklearn/linear_model/coordinate_descent.py:491: ConvergenceWarning: Objective did not converge. You might want to increase the number of iterations. Fitting data with very small alpha may cause precision problems.\n",
      "  ConvergenceWarning)\n",
      "/usr/local/lib/python3.6/site-packages/sklearn/linear_model/coordinate_descent.py:491: ConvergenceWarning: Objective did not converge. You might want to increase the number of iterations. Fitting data with very small alpha may cause precision problems.\n",
      "  ConvergenceWarning)\n",
      "/usr/local/lib/python3.6/site-packages/sklearn/linear_model/coordinate_descent.py:491: ConvergenceWarning: Objective did not converge. You might want to increase the number of iterations. Fitting data with very small alpha may cause precision problems.\n",
      "  ConvergenceWarning)\n",
      "/usr/local/lib/python3.6/site-packages/sklearn/linear_model/coordinate_descent.py:491: ConvergenceWarning: Objective did not converge. You might want to increase the number of iterations. Fitting data with very small alpha may cause precision problems.\n",
      "  ConvergenceWarning)\n",
      "/usr/local/lib/python3.6/site-packages/sklearn/linear_model/coordinate_descent.py:491: ConvergenceWarning: Objective did not converge. You might want to increase the number of iterations. Fitting data with very small alpha may cause precision problems.\n",
      "  ConvergenceWarning)\n",
      "/usr/local/lib/python3.6/site-packages/sklearn/linear_model/coordinate_descent.py:491: ConvergenceWarning: Objective did not converge. You might want to increase the number of iterations. Fitting data with very small alpha may cause precision problems.\n",
      "  ConvergenceWarning)\n",
      "/usr/local/lib/python3.6/site-packages/sklearn/linear_model/coordinate_descent.py:491: ConvergenceWarning: Objective did not converge. You might want to increase the number of iterations. Fitting data with very small alpha may cause precision problems.\n",
      "  ConvergenceWarning)\n",
      "/usr/local/lib/python3.6/site-packages/sklearn/linear_model/coordinate_descent.py:491: ConvergenceWarning: Objective did not converge. You might want to increase the number of iterations. Fitting data with very small alpha may cause precision problems.\n",
      "  ConvergenceWarning)\n",
      "/usr/local/lib/python3.6/site-packages/sklearn/linear_model/coordinate_descent.py:491: ConvergenceWarning: Objective did not converge. You might want to increase the number of iterations. Fitting data with very small alpha may cause precision problems.\n",
      "  ConvergenceWarning)\n",
      "/usr/local/lib/python3.6/site-packages/sklearn/linear_model/coordinate_descent.py:491: ConvergenceWarning: Objective did not converge. You might want to increase the number of iterations. Fitting data with very small alpha may cause precision problems.\n",
      "  ConvergenceWarning)\n",
      "/usr/local/lib/python3.6/site-packages/sklearn/linear_model/coordinate_descent.py:491: ConvergenceWarning: Objective did not converge. You might want to increase the number of iterations. Fitting data with very small alpha may cause precision problems.\n",
      "  ConvergenceWarning)\n",
      "/usr/local/lib/python3.6/site-packages/sklearn/linear_model/coordinate_descent.py:491: ConvergenceWarning: Objective did not converge. You might want to increase the number of iterations. Fitting data with very small alpha may cause precision problems.\n",
      "  ConvergenceWarning)\n",
      "/usr/local/lib/python3.6/site-packages/sklearn/linear_model/coordinate_descent.py:491: ConvergenceWarning: Objective did not converge. You might want to increase the number of iterations. Fitting data with very small alpha may cause precision problems.\n",
      "  ConvergenceWarning)\n",
      "/usr/local/lib/python3.6/site-packages/sklearn/linear_model/coordinate_descent.py:491: ConvergenceWarning: Objective did not converge. You might want to increase the number of iterations. Fitting data with very small alpha may cause precision problems.\n",
      "  ConvergenceWarning)\n",
      "/usr/local/lib/python3.6/site-packages/sklearn/linear_model/coordinate_descent.py:491: ConvergenceWarning: Objective did not converge. You might want to increase the number of iterations. Fitting data with very small alpha may cause precision problems.\n",
      "  ConvergenceWarning)\n",
      "/usr/local/lib/python3.6/site-packages/sklearn/linear_model/coordinate_descent.py:491: ConvergenceWarning: Objective did not converge. You might want to increase the number of iterations. Fitting data with very small alpha may cause precision problems.\n",
      "  ConvergenceWarning)\n",
      "/usr/local/lib/python3.6/site-packages/sklearn/linear_model/coordinate_descent.py:491: ConvergenceWarning: Objective did not converge. You might want to increase the number of iterations. Fitting data with very small alpha may cause precision problems.\n",
      "  ConvergenceWarning)\n",
      "/usr/local/lib/python3.6/site-packages/sklearn/linear_model/coordinate_descent.py:491: ConvergenceWarning: Objective did not converge. You might want to increase the number of iterations. Fitting data with very small alpha may cause precision problems.\n",
      "  ConvergenceWarning)\n",
      "/usr/local/lib/python3.6/site-packages/sklearn/linear_model/coordinate_descent.py:491: ConvergenceWarning: Objective did not converge. You might want to increase the number of iterations. Fitting data with very small alpha may cause precision problems.\n",
      "  ConvergenceWarning)\n",
      "/usr/local/lib/python3.6/site-packages/sklearn/linear_model/coordinate_descent.py:491: ConvergenceWarning: Objective did not converge. You might want to increase the number of iterations. Fitting data with very small alpha may cause precision problems.\n",
      "  ConvergenceWarning)\n",
      "/usr/local/lib/python3.6/site-packages/sklearn/linear_model/coordinate_descent.py:491: ConvergenceWarning: Objective did not converge. You might want to increase the number of iterations. Fitting data with very small alpha may cause precision problems.\n",
      "  ConvergenceWarning)\n",
      "/usr/local/lib/python3.6/site-packages/sklearn/linear_model/coordinate_descent.py:491: ConvergenceWarning: Objective did not converge. You might want to increase the number of iterations. Fitting data with very small alpha may cause precision problems.\n",
      "  ConvergenceWarning)\n",
      "/usr/local/lib/python3.6/site-packages/sklearn/linear_model/coordinate_descent.py:491: ConvergenceWarning: Objective did not converge. You might want to increase the number of iterations. Fitting data with very small alpha may cause precision problems.\n",
      "  ConvergenceWarning)\n",
      "/usr/local/lib/python3.6/site-packages/sklearn/linear_model/coordinate_descent.py:491: ConvergenceWarning: Objective did not converge. You might want to increase the number of iterations. Fitting data with very small alpha may cause precision problems.\n",
      "  ConvergenceWarning)\n",
      "/usr/local/lib/python3.6/site-packages/sklearn/linear_model/coordinate_descent.py:491: ConvergenceWarning: Objective did not converge. You might want to increase the number of iterations. Fitting data with very small alpha may cause precision problems.\n",
      "  ConvergenceWarning)\n",
      "/usr/local/lib/python3.6/site-packages/sklearn/linear_model/coordinate_descent.py:491: ConvergenceWarning: Objective did not converge. You might want to increase the number of iterations. Fitting data with very small alpha may cause precision problems.\n",
      "  ConvergenceWarning)\n",
      "/usr/local/lib/python3.6/site-packages/sklearn/linear_model/coordinate_descent.py:491: ConvergenceWarning: Objective did not converge. You might want to increase the number of iterations. Fitting data with very small alpha may cause precision problems.\n",
      "  ConvergenceWarning)\n",
      "/usr/local/lib/python3.6/site-packages/sklearn/linear_model/coordinate_descent.py:491: ConvergenceWarning: Objective did not converge. You might want to increase the number of iterations. Fitting data with very small alpha may cause precision problems.\n",
      "  ConvergenceWarning)\n",
      "/usr/local/lib/python3.6/site-packages/sklearn/linear_model/coordinate_descent.py:491: ConvergenceWarning: Objective did not converge. You might want to increase the number of iterations. Fitting data with very small alpha may cause precision problems.\n",
      "  ConvergenceWarning)\n"
     ]
    },
    {
     "name": "stderr",
     "output_type": "stream",
     "text": [
      "/usr/local/lib/python3.6/site-packages/sklearn/linear_model/coordinate_descent.py:491: ConvergenceWarning: Objective did not converge. You might want to increase the number of iterations. Fitting data with very small alpha may cause precision problems.\n",
      "  ConvergenceWarning)\n",
      "/usr/local/lib/python3.6/site-packages/sklearn/linear_model/coordinate_descent.py:491: ConvergenceWarning: Objective did not converge. You might want to increase the number of iterations. Fitting data with very small alpha may cause precision problems.\n",
      "  ConvergenceWarning)\n",
      "/usr/local/lib/python3.6/site-packages/sklearn/linear_model/coordinate_descent.py:491: ConvergenceWarning: Objective did not converge. You might want to increase the number of iterations. Fitting data with very small alpha may cause precision problems.\n",
      "  ConvergenceWarning)\n",
      "/usr/local/lib/python3.6/site-packages/sklearn/linear_model/coordinate_descent.py:491: ConvergenceWarning: Objective did not converge. You might want to increase the number of iterations. Fitting data with very small alpha may cause precision problems.\n",
      "  ConvergenceWarning)\n",
      "/usr/local/lib/python3.6/site-packages/sklearn/linear_model/coordinate_descent.py:491: ConvergenceWarning: Objective did not converge. You might want to increase the number of iterations. Fitting data with very small alpha may cause precision problems.\n",
      "  ConvergenceWarning)\n",
      "/usr/local/lib/python3.6/site-packages/sklearn/linear_model/coordinate_descent.py:491: ConvergenceWarning: Objective did not converge. You might want to increase the number of iterations. Fitting data with very small alpha may cause precision problems.\n",
      "  ConvergenceWarning)\n",
      "/usr/local/lib/python3.6/site-packages/sklearn/linear_model/coordinate_descent.py:491: ConvergenceWarning: Objective did not converge. You might want to increase the number of iterations. Fitting data with very small alpha may cause precision problems.\n",
      "  ConvergenceWarning)\n",
      "/usr/local/lib/python3.6/site-packages/sklearn/linear_model/coordinate_descent.py:491: ConvergenceWarning: Objective did not converge. You might want to increase the number of iterations. Fitting data with very small alpha may cause precision problems.\n",
      "  ConvergenceWarning)\n",
      "/usr/local/lib/python3.6/site-packages/sklearn/linear_model/coordinate_descent.py:491: ConvergenceWarning: Objective did not converge. You might want to increase the number of iterations. Fitting data with very small alpha may cause precision problems.\n",
      "  ConvergenceWarning)\n",
      "/usr/local/lib/python3.6/site-packages/sklearn/linear_model/coordinate_descent.py:491: ConvergenceWarning: Objective did not converge. You might want to increase the number of iterations. Fitting data with very small alpha may cause precision problems.\n",
      "  ConvergenceWarning)\n",
      "/usr/local/lib/python3.6/site-packages/sklearn/linear_model/coordinate_descent.py:491: ConvergenceWarning: Objective did not converge. You might want to increase the number of iterations. Fitting data with very small alpha may cause precision problems.\n",
      "  ConvergenceWarning)\n",
      "/usr/local/lib/python3.6/site-packages/sklearn/linear_model/coordinate_descent.py:491: ConvergenceWarning: Objective did not converge. You might want to increase the number of iterations. Fitting data with very small alpha may cause precision problems.\n",
      "  ConvergenceWarning)\n",
      "/usr/local/lib/python3.6/site-packages/sklearn/linear_model/coordinate_descent.py:491: ConvergenceWarning: Objective did not converge. You might want to increase the number of iterations. Fitting data with very small alpha may cause precision problems.\n",
      "  ConvergenceWarning)\n",
      "/usr/local/lib/python3.6/site-packages/sklearn/linear_model/coordinate_descent.py:491: ConvergenceWarning: Objective did not converge. You might want to increase the number of iterations. Fitting data with very small alpha may cause precision problems.\n",
      "  ConvergenceWarning)\n",
      "/usr/local/lib/python3.6/site-packages/sklearn/linear_model/coordinate_descent.py:491: ConvergenceWarning: Objective did not converge. You might want to increase the number of iterations. Fitting data with very small alpha may cause precision problems.\n",
      "  ConvergenceWarning)\n",
      "/usr/local/lib/python3.6/site-packages/sklearn/linear_model/coordinate_descent.py:491: ConvergenceWarning: Objective did not converge. You might want to increase the number of iterations. Fitting data with very small alpha may cause precision problems.\n",
      "  ConvergenceWarning)\n",
      "/usr/local/lib/python3.6/site-packages/sklearn/linear_model/coordinate_descent.py:491: ConvergenceWarning: Objective did not converge. You might want to increase the number of iterations. Fitting data with very small alpha may cause precision problems.\n",
      "  ConvergenceWarning)\n",
      "/usr/local/lib/python3.6/site-packages/sklearn/linear_model/coordinate_descent.py:491: ConvergenceWarning: Objective did not converge. You might want to increase the number of iterations. Fitting data with very small alpha may cause precision problems.\n",
      "  ConvergenceWarning)\n",
      "/usr/local/lib/python3.6/site-packages/sklearn/linear_model/coordinate_descent.py:491: ConvergenceWarning: Objective did not converge. You might want to increase the number of iterations. Fitting data with very small alpha may cause precision problems.\n",
      "  ConvergenceWarning)\n",
      "/usr/local/lib/python3.6/site-packages/sklearn/linear_model/coordinate_descent.py:491: ConvergenceWarning: Objective did not converge. You might want to increase the number of iterations. Fitting data with very small alpha may cause precision problems.\n",
      "  ConvergenceWarning)\n",
      "/usr/local/lib/python3.6/site-packages/sklearn/linear_model/coordinate_descent.py:491: ConvergenceWarning: Objective did not converge. You might want to increase the number of iterations. Fitting data with very small alpha may cause precision problems.\n",
      "  ConvergenceWarning)\n",
      "/usr/local/lib/python3.6/site-packages/sklearn/linear_model/coordinate_descent.py:491: ConvergenceWarning: Objective did not converge. You might want to increase the number of iterations. Fitting data with very small alpha may cause precision problems.\n",
      "  ConvergenceWarning)\n",
      "/usr/local/lib/python3.6/site-packages/sklearn/linear_model/coordinate_descent.py:491: ConvergenceWarning: Objective did not converge. You might want to increase the number of iterations. Fitting data with very small alpha may cause precision problems.\n",
      "  ConvergenceWarning)\n",
      "/usr/local/lib/python3.6/site-packages/sklearn/linear_model/coordinate_descent.py:491: ConvergenceWarning: Objective did not converge. You might want to increase the number of iterations. Fitting data with very small alpha may cause precision problems.\n",
      "  ConvergenceWarning)\n",
      "/usr/local/lib/python3.6/site-packages/sklearn/linear_model/coordinate_descent.py:491: ConvergenceWarning: Objective did not converge. You might want to increase the number of iterations. Fitting data with very small alpha may cause precision problems.\n",
      "  ConvergenceWarning)\n",
      "/usr/local/lib/python3.6/site-packages/sklearn/linear_model/coordinate_descent.py:491: ConvergenceWarning: Objective did not converge. You might want to increase the number of iterations. Fitting data with very small alpha may cause precision problems.\n",
      "  ConvergenceWarning)\n",
      "/usr/local/lib/python3.6/site-packages/sklearn/linear_model/coordinate_descent.py:491: ConvergenceWarning: Objective did not converge. You might want to increase the number of iterations. Fitting data with very small alpha may cause precision problems.\n",
      "  ConvergenceWarning)\n",
      "/usr/local/lib/python3.6/site-packages/sklearn/linear_model/coordinate_descent.py:491: ConvergenceWarning: Objective did not converge. You might want to increase the number of iterations. Fitting data with very small alpha may cause precision problems.\n",
      "  ConvergenceWarning)\n",
      "/usr/local/lib/python3.6/site-packages/sklearn/linear_model/coordinate_descent.py:491: ConvergenceWarning: Objective did not converge. You might want to increase the number of iterations. Fitting data with very small alpha may cause precision problems.\n",
      "  ConvergenceWarning)\n",
      "/usr/local/lib/python3.6/site-packages/sklearn/linear_model/coordinate_descent.py:491: ConvergenceWarning: Objective did not converge. You might want to increase the number of iterations. Fitting data with very small alpha may cause precision problems.\n",
      "  ConvergenceWarning)\n"
     ]
    },
    {
     "name": "stderr",
     "output_type": "stream",
     "text": [
      "/usr/local/lib/python3.6/site-packages/sklearn/linear_model/coordinate_descent.py:491: ConvergenceWarning: Objective did not converge. You might want to increase the number of iterations. Fitting data with very small alpha may cause precision problems.\n",
      "  ConvergenceWarning)\n",
      "/usr/local/lib/python3.6/site-packages/sklearn/linear_model/coordinate_descent.py:491: ConvergenceWarning: Objective did not converge. You might want to increase the number of iterations. Fitting data with very small alpha may cause precision problems.\n",
      "  ConvergenceWarning)\n",
      "/usr/local/lib/python3.6/site-packages/sklearn/linear_model/coordinate_descent.py:491: ConvergenceWarning: Objective did not converge. You might want to increase the number of iterations. Fitting data with very small alpha may cause precision problems.\n",
      "  ConvergenceWarning)\n",
      "/usr/local/lib/python3.6/site-packages/sklearn/linear_model/coordinate_descent.py:491: ConvergenceWarning: Objective did not converge. You might want to increase the number of iterations. Fitting data with very small alpha may cause precision problems.\n",
      "  ConvergenceWarning)\n"
     ]
    },
    {
     "name": "stdout",
     "output_type": "stream",
     "text": [
      "CPU times: user 29.4 s, sys: 256 ms, total: 29.7 s\n",
      "Wall time: 30.2 s\n"
     ]
    }
   ],
   "source": [
    "%%time\n",
    "\n",
    "p = pipeline.Pipeline([('scale', preprocessing.RobustScaler()), \n",
    "                       ('m', linear_model.Lasso())]) \n",
    "param_grid = [{'m__alpha' : np.linspace(0.00015, 0.001, 50)}]\n",
    "srch = model_selection.GridSearchCV(p, param_grid, scoring='neg_mean_squared_error', cv=5, return_train_score=False)\n",
    "srch.fit(train_X, train_y)"
   ]
  },
  {
   "cell_type": "code",
   "execution_count": 25,
   "metadata": {},
   "outputs": [
    {
     "name": "stdout",
     "output_type": "stream",
     "text": [
      "{'m__alpha': 0.0004275510204081633}\n",
      "0.10850123664376128\n"
     ]
    },
    {
     "data": {
      "text/plain": [
       "<matplotlib.axes._subplots.AxesSubplot at 0x111281780>"
      ]
     },
     "execution_count": 25,
     "metadata": {},
     "output_type": "execute_result"
    },
    {
     "data": {
      "image/png": "[encoded data removed]",
      "text/plain": [
       "<Figure size 432x288 with 1 Axes>"
      ]
     },
     "metadata": {},
     "output_type": "display_data"
    }
   ],
   "source": [
    "print(srch.best_params_)\n",
    "print((-1 * srch.best_score_) ** 0.5)\n",
    "\n",
    "rdf = pd.DataFrame(srch.cv_results_)\n",
    "rdf['rmse'] =  (-1 * rdf['mean_test_score']) ** 0.5\n",
    "sns.scatterplot(x='param_m__alpha', y='rmse', data=rdf)"
   ]
  },
  {
   "cell_type": "code",
   "execution_count": null,
   "metadata": {},
   "outputs": [],
   "source": [
    "p = pipeline.Pipeline([('scale', preprocessing.RobustScaler()), \n",
    "                       ('m', linear_model.Ridge())]).fit(train_X, train_y)\n",
    "param_grid = [{'m__alpha' : np.linspace(0.01, 20, 100)}]\n",
    "srch = model_selection.GridSearchCV(p, param_grid, scoring='neg_mean_squared_error', cv=5, return_train_score=False)\n",
    "srch.fit(train_X, train_y)"
   ]
  },
  {
   "cell_type": "code",
   "execution_count": null,
   "metadata": {},
   "outputs": [],
   "source": [
    "print(srch.best_params_)\n",
    "print((-1 * srch.best_score_) ** 0.5)\n",
    "\n",
    "rdf = pd.DataFrame(srch.cv_results_)\n",
    "rdf['rmse'] =  (-1 * rdf['mean_test_score']) ** 0.5\n",
    "sns.scatterplot(x='param_m__alpha', y='rmse', data=rdf)"
   ]
  },
  {
   "cell_type": "code",
   "execution_count": null,
   "metadata": {
    "scrolled": false
   },
   "outputs": [],
   "source": [
    "p = pipeline.Pipeline([('scale', preprocessing.RobustScaler()), \n",
    "                       ('m', linear_model.ElasticNet())]).fit(train_X, train_y)\n",
    "param_grid = [{'m__alpha' : np.linspace(0.001, 1, 25),\n",
    "               'm__l1_ratio' : np.linspace(0.2, 0.8, 11)}]\n",
    "srch = model_selection.GridSearchCV(p, param_grid, scoring='neg_mean_squared_error', cv=5, return_train_score=False)\n",
    "srch.fit(train_X, train_y)"
   ]
  },
  {
   "cell_type": "code",
   "execution_count": null,
   "metadata": {},
   "outputs": [],
   "source": [
    "rdf = pd.DataFrame(srch.cv_results_)\n",
    "rdf['rmse'] =  (-1 * rdf['mean_test_score']) ** 0.5\n",
    "\n",
    "best_alpha = srch.best_params_['m__alpha']\n",
    "best_l1_ratio = srch.best_params_['m__l1_ratio']\n",
    "best_error = (-1 * srch.best_score_) ** 0.5\n",
    "print('best combo: \\n alpha: {}, \\n ratio: {} \\n error = {}'.format(best_alpha, best_l1_ratio, best_error))\n",
    "\n",
    "# plot contours of hyperparamater space\n",
    "xx = rdf['param_m__alpha'].values.reshape(25, 11)\n",
    "yy = rdf['param_m__l1_ratio'].values.reshape(25, 11)\n",
    "zz = rdf['rmse'].values.reshape(25,11)\n",
    "plt.contourf(xx,yy,zz)\n",
    "plt.colorbar()"
   ]
  },
  {
   "cell_type": "markdown",
   "metadata": {},
   "source": [
    "#### Trees"
   ]
  },
  {
   "cell_type": "code",
   "execution_count": 20,
   "metadata": {},
   "outputs": [
    {
     "data": {
      "text/plain": [
       "GridSearchCV(cv=5, error_score='raise',\n",
       "       estimator=GradientBoostingRegressor(alpha=0.9, criterion='friedman_mse', init=None,\n",
       "             learning_rate=0.1, loss='huber', max_depth=3,\n",
       "             max_features=None, max_leaf_nodes=None,\n",
       "             min_impurity_decrease=0.0, min_impurity_split=None,\n",
       "             min_samples_leaf=1, min_samples_split=2,\n",
       "             min_weight_fraction_leaf=0.0, n_estimators=1000,\n",
       "             presort='auto', random_state=None, subsample=1.0, verbose=0,\n",
       "             warm_start=False),\n",
       "       fit_params=None, iid=True, n_jobs=-1,\n",
       "       param_grid=[{'max_depth': [1, 2], 'learning_rate': array([0.01  , 0.0575, 0.105 , 0.1525, 0.2   ])}],\n",
       "       pre_dispatch='2*n_jobs', refit=True, return_train_score=False,\n",
       "       scoring='neg_mean_squared_error', verbose=0)"
      ]
     },
     "execution_count": 20,
     "metadata": {},
     "output_type": "execute_result"
    }
   ],
   "source": [
    "p = ensemble.GradientBoostingRegressor(loss='huber', n_estimators=1000).fit(train_X, train_y)\n",
    "param_grid = [{'max_depth' : [1,2],\n",
    "               'learning_rate' : np.linspace(0.01, 0.2, 5)}]\n",
    "srch = model_selection.GridSearchCV(p, param_grid, scoring='neg_mean_squared_error', cv=5, return_train_score=False, n_jobs=-1)\n",
    "srch.fit(train_X, train_y)"
   ]
  },
  {
   "cell_type": "code",
   "execution_count": 22,
   "metadata": {},
   "outputs": [
    {
     "name": "stdout",
     "output_type": "stream",
     "text": [
      "best combo: \n",
      " depth: 1, \n",
      " learning_rate: 0.105 \n",
      " error = 0.1168400508505328\n"
     ]
    }
   ],
   "source": [
    "best_depth = srch.best_params_['max_depth']\n",
    "best_lr = srch.best_params_['learning_rate']\n",
    "best_error = (-1 * srch.best_score_) ** 0.5\n",
    "print('best combo: \\n depth: {}, \\n learning_rate: {} \\n error = {}'.format(best_depth, best_lr, best_error))"
   ]
  },
  {
   "cell_type": "code",
   "execution_count": 66,
   "metadata": {},
   "outputs": [
    {
     "data": {
      "text/plain": [
       "GridSearchCV(cv=5, error_score='raise',\n",
       "       estimator=RandomForestRegressor(bootstrap=True, criterion='mse', max_depth=None,\n",
       "           max_features='auto', max_leaf_nodes=None,\n",
       "           min_impurity_decrease=0.0, min_impurity_split=None,\n",
       "           min_samples_leaf=1, min_samples_split=2,\n",
       "           min_weight_fraction_leaf=0.0, n_estimators=1000, n_jobs=1,\n",
       "           oob_score=False, random_state=None, verbose=0, warm_start=False),\n",
       "       fit_params=None, iid=True, n_jobs=-1,\n",
       "       param_grid=[{'max_features': ['auto', 'sqrt']}],\n",
       "       pre_dispatch='2*n_jobs', refit=True, return_train_score=False,\n",
       "       scoring='neg_mean_squared_error', verbose=0)"
      ]
     },
     "execution_count": 66,
     "metadata": {},
     "output_type": "execute_result"
    }
   ],
   "source": [
    "p = ensemble.RandomForestRegressor(n_estimators=1000).fit(train_X, train_y)\n",
    "param_grid = [{'max_features' : ['auto', 'sqrt']}]\n",
    "srch = model_selection.GridSearchCV(p, param_grid, scoring='neg_mean_squared_error', cv=5, return_train_score=False, n_jobs=-1)\n",
    "srch.fit(train_X, train_y)"
   ]
  },
  {
   "cell_type": "code",
   "execution_count": 67,
   "metadata": {},
   "outputs": [
    {
     "name": "stdout",
     "output_type": "stream",
     "text": [
      "{'max_features': 'auto'}\n",
      "0.1362654081369651\n"
     ]
    }
   ],
   "source": [
    "print(srch.best_params_)\n",
    "best_error = (-1 * srch.best_score_) ** 0.5\n",
    "print(best_error)"
   ]
  },
  {
   "cell_type": "markdown",
   "metadata": {},
   "source": [
    "### Blending"
   ]
  },
  {
   "cell_type": "code",
   "execution_count": 151,
   "metadata": {},
   "outputs": [],
   "source": [
    "rest_X, test_X, rest_y, test_y = model_selection.train_test_split(train_X, train_y, test_size=0.2)\n",
    "train_X, val_X, train_y, val_y = model_selection.train_test_split(rest_X, rest_y, test_size=0.2)"
   ]
  },
  {
   "cell_type": "markdown",
   "metadata": {},
   "source": [
    "#### L1 and L2"
   ]
  },
  {
   "cell_type": "code",
   "execution_count": 152,
   "metadata": {},
   "outputs": [
    {
     "name": "stderr",
     "output_type": "stream",
     "text": [
      "/usr/local/lib/python3.6/site-packages/sklearn/linear_model/coordinate_descent.py:491: ConvergenceWarning: Objective did not converge. You might want to increase the number of iterations. Fitting data with very small alpha may cause precision problems.\n",
      "  ConvergenceWarning)\n",
      "/usr/local/lib/python3.6/site-packages/sklearn/linear_model/coordinate_descent.py:491: ConvergenceWarning: Objective did not converge. You might want to increase the number of iterations. Fitting data with very small alpha may cause precision problems.\n",
      "  ConvergenceWarning)\n",
      "/usr/local/lib/python3.6/site-packages/sklearn/linear_model/coordinate_descent.py:491: ConvergenceWarning: Objective did not converge. You might want to increase the number of iterations. Fitting data with very small alpha may cause precision problems.\n",
      "  ConvergenceWarning)\n",
      "/usr/local/lib/python3.6/site-packages/sklearn/linear_model/coordinate_descent.py:491: ConvergenceWarning: Objective did not converge. You might want to increase the number of iterations. Fitting data with very small alpha may cause precision problems.\n",
      "  ConvergenceWarning)\n",
      "/usr/local/lib/python3.6/site-packages/sklearn/linear_model/coordinate_descent.py:491: ConvergenceWarning: Objective did not converge. You might want to increase the number of iterations. Fitting data with very small alpha may cause precision problems.\n",
      "  ConvergenceWarning)\n",
      "/usr/local/lib/python3.6/site-packages/sklearn/linear_model/coordinate_descent.py:491: ConvergenceWarning: Objective did not converge. You might want to increase the number of iterations. Fitting data with very small alpha may cause precision problems.\n",
      "  ConvergenceWarning)\n",
      "/usr/local/lib/python3.6/site-packages/sklearn/linear_model/coordinate_descent.py:491: ConvergenceWarning: Objective did not converge. You might want to increase the number of iterations. Fitting data with very small alpha may cause precision problems.\n",
      "  ConvergenceWarning)\n",
      "/usr/local/lib/python3.6/site-packages/sklearn/linear_model/coordinate_descent.py:491: ConvergenceWarning: Objective did not converge. You might want to increase the number of iterations. Fitting data with very small alpha may cause precision problems.\n",
      "  ConvergenceWarning)\n",
      "/usr/local/lib/python3.6/site-packages/sklearn/linear_model/coordinate_descent.py:491: ConvergenceWarning: Objective did not converge. You might want to increase the number of iterations. Fitting data with very small alpha may cause precision problems.\n",
      "  ConvergenceWarning)\n",
      "/usr/local/lib/python3.6/site-packages/sklearn/linear_model/coordinate_descent.py:491: ConvergenceWarning: Objective did not converge. You might want to increase the number of iterations. Fitting data with very small alpha may cause precision problems.\n",
      "  ConvergenceWarning)\n",
      "/usr/local/lib/python3.6/site-packages/sklearn/linear_model/coordinate_descent.py:491: ConvergenceWarning: Objective did not converge. You might want to increase the number of iterations. Fitting data with very small alpha may cause precision problems.\n",
      "  ConvergenceWarning)\n",
      "/usr/local/lib/python3.6/site-packages/sklearn/linear_model/coordinate_descent.py:491: ConvergenceWarning: Objective did not converge. You might want to increase the number of iterations. Fitting data with very small alpha may cause precision problems.\n",
      "  ConvergenceWarning)\n",
      "/usr/local/lib/python3.6/site-packages/sklearn/linear_model/coordinate_descent.py:491: ConvergenceWarning: Objective did not converge. You might want to increase the number of iterations. Fitting data with very small alpha may cause precision problems.\n",
      "  ConvergenceWarning)\n",
      "/usr/local/lib/python3.6/site-packages/sklearn/linear_model/coordinate_descent.py:491: ConvergenceWarning: Objective did not converge. You might want to increase the number of iterations. Fitting data with very small alpha may cause precision problems.\n",
      "  ConvergenceWarning)\n",
      "/usr/local/lib/python3.6/site-packages/sklearn/linear_model/coordinate_descent.py:491: ConvergenceWarning: Objective did not converge. You might want to increase the number of iterations. Fitting data with very small alpha may cause precision problems.\n",
      "  ConvergenceWarning)\n",
      "/usr/local/lib/python3.6/site-packages/sklearn/linear_model/coordinate_descent.py:491: ConvergenceWarning: Objective did not converge. You might want to increase the number of iterations. Fitting data with very small alpha may cause precision problems.\n",
      "  ConvergenceWarning)\n",
      "/usr/local/lib/python3.6/site-packages/sklearn/linear_model/coordinate_descent.py:491: ConvergenceWarning: Objective did not converge. You might want to increase the number of iterations. Fitting data with very small alpha may cause precision problems.\n",
      "  ConvergenceWarning)\n",
      "/usr/local/lib/python3.6/site-packages/sklearn/linear_model/coordinate_descent.py:491: ConvergenceWarning: Objective did not converge. You might want to increase the number of iterations. Fitting data with very small alpha may cause precision problems.\n",
      "  ConvergenceWarning)\n",
      "/usr/local/lib/python3.6/site-packages/sklearn/linear_model/coordinate_descent.py:491: ConvergenceWarning: Objective did not converge. You might want to increase the number of iterations. Fitting data with very small alpha may cause precision problems.\n",
      "  ConvergenceWarning)\n",
      "/usr/local/lib/python3.6/site-packages/sklearn/linear_model/coordinate_descent.py:491: ConvergenceWarning: Objective did not converge. You might want to increase the number of iterations. Fitting data with very small alpha may cause precision problems.\n",
      "  ConvergenceWarning)\n",
      "/usr/local/lib/python3.6/site-packages/sklearn/linear_model/coordinate_descent.py:491: ConvergenceWarning: Objective did not converge. You might want to increase the number of iterations. Fitting data with very small alpha may cause precision problems.\n",
      "  ConvergenceWarning)\n",
      "/usr/local/lib/python3.6/site-packages/sklearn/linear_model/coordinate_descent.py:491: ConvergenceWarning: Objective did not converge. You might want to increase the number of iterations. Fitting data with very small alpha may cause precision problems.\n",
      "  ConvergenceWarning)\n",
      "/usr/local/lib/python3.6/site-packages/sklearn/linear_model/coordinate_descent.py:491: ConvergenceWarning: Objective did not converge. You might want to increase the number of iterations. Fitting data with very small alpha may cause precision problems.\n",
      "  ConvergenceWarning)\n",
      "/usr/local/lib/python3.6/site-packages/sklearn/linear_model/coordinate_descent.py:491: ConvergenceWarning: Objective did not converge. You might want to increase the number of iterations. Fitting data with very small alpha may cause precision problems.\n",
      "  ConvergenceWarning)\n"
     ]
    },
    {
     "data": {
      "text/plain": [
       "GridSearchCV(cv=5, error_score='raise',\n",
       "       estimator=Pipeline(memory=None,\n",
       "     steps=[('scale', RobustScaler(copy=True, quantile_range=(25.0, 75.0), with_centering=True,\n",
       "       with_scaling=True)), ('m', Lasso(alpha=1.0, copy_X=True, fit_intercept=True, max_iter=1000,\n",
       "   normalize=False, positive=False, precompute=False, random_state=None,\n",
       "   selection='cyclic', tol=0.0001, warm_start=False))]),\n",
       "       fit_params=None, iid=True, n_jobs=1,\n",
       "       param_grid=[{'m__alpha': array([0.00015, 0.00017, 0.00018, 0.0002 , 0.00022, 0.00024, 0.00025,\n",
       "       0.00027, 0.00029, 0.00031, 0.00032, 0.00034, 0.00036, 0.00038,\n",
       "       0.00039, 0.00041, 0.00043, 0.00044, 0.00046, 0.00048, 0.0005 ,\n",
       "       0.00051, 0.00053, 0.00055, 0.00057, 0.00058, 0.0006 , 0.00...4, 0.00086,\n",
       "       0.00088, 0.0009 , 0.00091, 0.00093, 0.00095, 0.00097, 0.00098,\n",
       "       0.001  ])}],\n",
       "       pre_dispatch='2*n_jobs', refit=True, return_train_score=False,\n",
       "       scoring='neg_mean_squared_error', verbose=0)"
      ]
     },
     "execution_count": 152,
     "metadata": {},
     "output_type": "execute_result"
    }
   ],
   "source": [
    "p = pipeline.Pipeline([('scale', preprocessing.RobustScaler()), \n",
    "                       ('m', linear_model.Lasso())]) \n",
    "param_grid = [{'m__alpha' : np.linspace(0.00015, 0.001, 50)}]\n",
    "srch = model_selection.GridSearchCV(p, param_grid, scoring='neg_mean_squared_error', cv=5, return_train_score=False)\n",
    "srch.fit(train_X, train_y)"
   ]
  },
  {
   "cell_type": "code",
   "execution_count": 153,
   "metadata": {},
   "outputs": [
    {
     "name": "stdout",
     "output_type": "stream",
     "text": [
      "{'m__alpha': 0.0006530612244897959}\n",
      "0.1238205856734014\n"
     ]
    },
    {
     "data": {
      "text/plain": [
       "<matplotlib.axes._subplots.AxesSubplot at 0x10e8bc588>"
      ]
     },
     "execution_count": 153,
     "metadata": {},
     "output_type": "execute_result"
    },
    {
     "data": {
      "image/png": "[encoded data removed]",
      "text/plain": [
       "<Figure size 432x288 with 1 Axes>"
      ]
     },
     "metadata": {},
     "output_type": "display_data"
    }
   ],
   "source": [
    "print(srch.best_params_)\n",
    "print((-1 * srch.best_score_) ** 0.5)\n",
    "\n",
    "rdf = pd.DataFrame(srch.cv_results_)\n",
    "rdf['rmse'] =  (-1 * rdf['mean_test_score']) ** 0.5\n",
    "sns.scatterplot(x='param_m__alpha', y='rmse', data=rdf)"
   ]
  },
  {
   "cell_type": "code",
   "execution_count": 154,
   "metadata": {},
   "outputs": [
    {
     "data": {
      "text/plain": [
       "GridSearchCV(cv=5, error_score='raise',\n",
       "       estimator=Pipeline(memory=None,\n",
       "     steps=[('scale', RobustScaler(copy=True, quantile_range=(25.0, 75.0), with_centering=True,\n",
       "       with_scaling=True)), ('m', Ridge(alpha=1.0, copy_X=True, fit_intercept=True, max_iter=None,\n",
       "   normalize=False, random_state=None, solver='auto', tol=0.001))]),\n",
       "       fit_params=None, iid=True, n_jobs=1,\n",
       "       param_grid=[{'m__alpha': array([1.00000e-02, 2.11919e-01, ..., 1.97981e+01, 2.00000e+01])}],\n",
       "       pre_dispatch='2*n_jobs', refit=True, return_train_score=False,\n",
       "       scoring='neg_mean_squared_error', verbose=0)"
      ]
     },
     "execution_count": 154,
     "metadata": {},
     "output_type": "execute_result"
    }
   ],
   "source": [
    "p = pipeline.Pipeline([('scale', preprocessing.RobustScaler()), \n",
    "                       ('m', linear_model.Ridge())]).fit(train_X, train_y)\n",
    "param_grid = [{'m__alpha' : np.linspace(0.01, 20, 100)}]\n",
    "srch = model_selection.GridSearchCV(p, param_grid, scoring='neg_mean_squared_error', cv=5, return_train_score=False)\n",
    "srch.fit(train_X, train_y)"
   ]
  },
  {
   "cell_type": "code",
   "execution_count": 155,
   "metadata": {},
   "outputs": [
    {
     "name": "stdout",
     "output_type": "stream",
     "text": [
      "{'m__alpha': 5.663737373737374}\n",
      "0.12715863932971175\n"
     ]
    },
    {
     "data": {
      "text/plain": [
       "<matplotlib.axes._subplots.AxesSubplot at 0x10e9d16a0>"
      ]
     },
     "execution_count": 155,
     "metadata": {},
     "output_type": "execute_result"
    },
    {
     "data": {
      "image/png": "[encoded data removed]",
      "text/plain": [
       "<Figure size 432x288 with 1 Axes>"
      ]
     },
     "metadata": {},
     "output_type": "display_data"
    }
   ],
   "source": [
    "print(srch.best_params_)\n",
    "print((-1 * srch.best_score_) ** 0.5)\n",
    "\n",
    "rdf = pd.DataFrame(srch.cv_results_)\n",
    "rdf['rmse'] =  (-1 * rdf['mean_test_score']) ** 0.5\n",
    "sns.scatterplot(x='param_m__alpha', y='rmse', data=rdf)"
   ]
  },
  {
   "cell_type": "code",
   "execution_count": 156,
   "metadata": {},
   "outputs": [
    {
     "name": "stderr",
     "output_type": "stream",
     "text": [
      "/usr/local/lib/python3.6/site-packages/sklearn/linear_model/coordinate_descent.py:491: ConvergenceWarning: Objective did not converge. You might want to increase the number of iterations. Fitting data with very small alpha may cause precision problems.\n",
      "  ConvergenceWarning)\n",
      "/usr/local/lib/python3.6/site-packages/sklearn/linear_model/coordinate_descent.py:491: ConvergenceWarning: Objective did not converge. You might want to increase the number of iterations. Fitting data with very small alpha may cause precision problems.\n",
      "  ConvergenceWarning)\n",
      "/usr/local/lib/python3.6/site-packages/sklearn/linear_model/coordinate_descent.py:491: ConvergenceWarning: Objective did not converge. You might want to increase the number of iterations. Fitting data with very small alpha may cause precision problems.\n",
      "  ConvergenceWarning)\n",
      "/usr/local/lib/python3.6/site-packages/sklearn/linear_model/coordinate_descent.py:491: ConvergenceWarning: Objective did not converge. You might want to increase the number of iterations. Fitting data with very small alpha may cause precision problems.\n",
      "  ConvergenceWarning)\n",
      "/usr/local/lib/python3.6/site-packages/sklearn/linear_model/coordinate_descent.py:491: ConvergenceWarning: Objective did not converge. You might want to increase the number of iterations. Fitting data with very small alpha may cause precision problems.\n",
      "  ConvergenceWarning)\n",
      "/usr/local/lib/python3.6/site-packages/sklearn/linear_model/coordinate_descent.py:491: ConvergenceWarning: Objective did not converge. You might want to increase the number of iterations. Fitting data with very small alpha may cause precision problems.\n",
      "  ConvergenceWarning)\n"
     ]
    },
    {
     "data": {
      "text/plain": [
       "GridSearchCV(cv=5, error_score='raise',\n",
       "       estimator=Pipeline(memory=None,\n",
       "     steps=[('scale', RobustScaler(copy=True, quantile_range=(25.0, 75.0), with_centering=True,\n",
       "       with_scaling=True)), ('m', ElasticNet(alpha=1.0, copy_X=True, fit_intercept=True, l1_ratio=0.5,\n",
       "      max_iter=1000, normalize=False, positive=False, precompute=False,\n",
       "      random_state=None, selection='cyclic', tol=0.0001, warm_start=False))]),\n",
       "       fit_params=None, iid=True, n_jobs=1,\n",
       "       param_grid=[{'m__alpha': array([0.001  , 0.04263, 0.08425, 0.12588, 0.1675 , 0.20913, 0.25075,\n",
       "       0.29237, 0.334  , 0.37563, 0.41725, 0.45888, 0.5005 , 0.54213,\n",
       "       0.58375, 0.62538, 0.667  , 0.70863, 0.75025, 0.79187, 0.8335 ,\n",
       "       0.87513, 0.91675, 0.95838, 1.     ]), 'm__l1_ratio': array([0.2 , 0.26, 0.32, 0.38, 0.44, 0.5 , 0.56, 0.62, 0.68, 0.74, 0.8 ])}],\n",
       "       pre_dispatch='2*n_jobs', refit=True, return_train_score=False,\n",
       "       scoring='neg_mean_squared_error', verbose=0)"
      ]
     },
     "execution_count": 156,
     "metadata": {},
     "output_type": "execute_result"
    }
   ],
   "source": [
    "p = pipeline.Pipeline([('scale', preprocessing.RobustScaler()), \n",
    "                       ('m', linear_model.ElasticNet())]).fit(train_X, train_y)\n",
    "param_grid = [{'m__alpha' : np.linspace(0.001, 1, 25),\n",
    "               'm__l1_ratio' : np.linspace(0.2, 0.8, 11)}]\n",
    "srch = model_selection.GridSearchCV(p, param_grid, scoring='neg_mean_squared_error', cv=5, return_train_score=False)\n",
    "srch.fit(train_X, train_y)"
   ]
  },
  {
   "cell_type": "code",
   "execution_count": 157,
   "metadata": {},
   "outputs": [
    {
     "name": "stdout",
     "output_type": "stream",
     "text": [
      "best combo: \n",
      " alpha: 0.001, \n",
      " ratio: 0.6800000000000002 \n",
      " error = 0.12396147192907477\n"
     ]
    },
    {
     "data": {
      "text/plain": [
       "<matplotlib.colorbar.Colorbar at 0x11121f400>"
      ]
     },
     "execution_count": 157,
     "metadata": {},
     "output_type": "execute_result"
    },
    {
     "data": {
      "image/png": "[encoded data removed]",
      "text/plain": [
       "<Figure size 432x288 with 2 Axes>"
      ]
     },
     "metadata": {},
     "output_type": "display_data"
    }
   ],
   "source": [
    "rdf = pd.DataFrame(srch.cv_results_)\n",
    "rdf['rmse'] =  (-1 * rdf['mean_test_score']) ** 0.5\n",
    "\n",
    "best_alpha = srch.best_params_['m__alpha']\n",
    "best_l1_ratio = srch.best_params_['m__l1_ratio']\n",
    "best_error = (-1 * srch.best_score_) ** 0.5\n",
    "print('best combo: \\n alpha: {}, \\n ratio: {} \\n error = {}'.format(best_alpha, best_l1_ratio, best_error))\n",
    "\n",
    "# plot contours of hyperparamater space\n",
    "xx = rdf['param_m__alpha'].values.reshape(25, 11)\n",
    "yy = rdf['param_m__l1_ratio'].values.reshape(25, 11)\n",
    "zz = rdf['rmse'].values.reshape(25,11)\n",
    "plt.contourf(xx,yy,zz)\n",
    "plt.colorbar()"
   ]
  },
  {
   "cell_type": "code",
   "execution_count": 169,
   "metadata": {},
   "outputs": [
    {
     "data": {
      "text/plain": [
       "GridSearchCV(cv=5, error_score='raise',\n",
       "       estimator=GradientBoostingRegressor(alpha=0.9, criterion='friedman_mse', init=None,\n",
       "             learning_rate=0.1, loss='huber', max_depth=1,\n",
       "             max_features=None, max_leaf_nodes=None,\n",
       "             min_impurity_decrease=0.0, min_impurity_split=None,\n",
       "             min_samples_leaf=1, min_samples_split=2,\n",
       "             min_weight_fraction_leaf=0.0, n_estimators=10000,\n",
       "             presort='auto', random_state=None, subsample=1.0, verbose=0,\n",
       "             warm_start=False),\n",
       "       fit_params=None, iid=True, n_jobs=-1,\n",
       "       param_grid=[{'learning_rate': [0.015]}], pre_dispatch='2*n_jobs',\n",
       "       refit=True, return_train_score=False,\n",
       "       scoring='neg_mean_squared_error', verbose=0)"
      ]
     },
     "execution_count": 169,
     "metadata": {},
     "output_type": "execute_result"
    }
   ],
   "source": [
    "p = ensemble.GradientBoostingRegressor(max_depth=1, loss='huber', n_estimators=10000).fit(train_X, train_y)\n",
    "param_grid = [{'learning_rate' : [0.015]}]\n",
    "srch = model_selection.GridSearchCV(p, param_grid, scoring='neg_mean_squared_error', cv=5, return_train_score=False, n_jobs=-1)\n",
    "srch.fit(train_X, train_y)"
   ]
  },
  {
   "cell_type": "code",
   "execution_count": 170,
   "metadata": {},
   "outputs": [
    {
     "name": "stdout",
     "output_type": "stream",
     "text": [
      "best combo: \n",
      " learning_rate: 0.015 \n",
      " error = 0.1355872578468633\n"
     ]
    }
   ],
   "source": [
    "best_lr = srch.best_params_['learning_rate']\n",
    "best_error = (-1 * srch.best_score_) ** 0.5\n",
    "print('best combo: \\n learning_rate: {} \\n error = {}'.format(best_lr, best_error))"
   ]
  },
  {
   "cell_type": "code",
   "execution_count": 172,
   "metadata": {},
   "outputs": [
    {
     "data": {
      "text/plain": [
       "GridSearchCV(cv=5, error_score='raise',\n",
       "       estimator=RandomForestRegressor(bootstrap=True, criterion='mse', max_depth=None,\n",
       "           max_features='auto', max_leaf_nodes=None,\n",
       "           min_impurity_decrease=0.0, min_impurity_split=None,\n",
       "           min_samples_leaf=1, min_samples_split=2,\n",
       "           min_weight_fraction_leaf=0.0, n_estimators=500, n_jobs=1,\n",
       "           oob_score=False, random_state=None, verbose=0, warm_start=False),\n",
       "       fit_params=None, iid=True, n_jobs=-1,\n",
       "       param_grid=[{'max_features': ['sqrt']}], pre_dispatch='2*n_jobs',\n",
       "       refit=True, return_train_score=False,\n",
       "       scoring='neg_mean_squared_error', verbose=0)"
      ]
     },
     "execution_count": 172,
     "metadata": {},
     "output_type": "execute_result"
    }
   ],
   "source": [
    "p = ensemble.RandomForestRegressor(n_estimators=500).fit(train_X, train_y)\n",
    "param_grid = [{'max_features' : ['sqrt']}]\n",
    "srch = model_selection.GridSearchCV(p, param_grid, scoring='neg_mean_squared_error', cv=5, return_train_score=False, n_jobs=-1)\n",
    "srch.fit(train_X, train_y)"
   ]
  },
  {
   "cell_type": "code",
   "execution_count": 173,
   "metadata": {},
   "outputs": [
    {
     "name": "stdout",
     "output_type": "stream",
     "text": [
      "{'max_features': 'sqrt'}\n",
      "0.1522561767436291\n"
     ]
    }
   ],
   "source": [
    "print(srch.best_params_)\n",
    "best_error = (-1 * srch.best_score_) ** 0.5\n",
    "print(best_error)"
   ]
  },
  {
   "cell_type": "code",
   "execution_count": null,
   "metadata": {},
   "outputs": [],
   "source": [
    "l1 = pipeline.Pipeline([('scale', preprocessing.RobustScaler()), \n",
    "                        ('m', linear_model.Lasso(alpha=0.0006530612244897959))]).fit(train_X, train_y)\n",
    "\n",
    "l2 = pipeline.Pipeline([('scale', preprocessing.RobustScaler()), \n",
    "                        ('m', linear_model.Ridge(alpha=5.663737373737374))]).fit(train_X, train_y)\n",
    "\n",
    "gbr = ensemble.GradientBoostingRegressor(max_depth=1, learning_rate=0.015, loss='huber', n_estimators=10000).fit(train_X, train_y)\n",
    "\n",
    "fr = ensemble.RandomForestRegressor(n_estimators=500).fit(train_X, train_y)"
   ]
  },
  {
   "cell_type": "markdown",
   "metadata": {},
   "source": [
    "### Submission"
   ]
  },
  {
   "cell_type": "code",
   "execution_count": 132,
   "metadata": {},
   "outputs": [],
   "source": [
    "# Fit model on all labelled data\n",
    "X = train_data.drop(['SalePrice'], axis=1)\n",
    "y = train_data['SalePrice']\n",
    "train_X, train_y = preprocessing_pipeline_train(X, y)\n",
    "\n",
    "#p = pipeline.Pipeline([('scale', preprocessing.RobustScaler()),('m', linear_model.Lasso(0.0004275510204081633))]) \n",
    "#p = linear_model.Lasso(0.0004275510204081633)\n",
    "#p = ensemble.GradientBoostingRegressor(learning_rate=0.105, max_depth=1, loss='huber', n_estimators=1000).fit(train_X, train_y)\n",
    "p = ensemble.RandomForestRegressor(n_estimators=1000).fit(train_X, train_y)\n",
    "\n",
    "p.fit(train_X, train_y)\n",
    "\n",
    "# Make predictions on unlabelled data\n",
    "test_X = preprocessing_pipeline_test(test_data, train_X.columns)\n",
    "preds = p.predict(test_X)\n",
    "exp_preds = np.exp(preds)\n",
    "\n",
    "# Write submission file\n",
    "submission = pd.concat([test_data['Id'],pd.DataFrame(exp_preds, columns=['SalePrice'])], axis=1)\n",
    "submission.to_csv('submit_rf.csv', index=False)"
   ]
  },
  {
   "cell_type": "markdown",
   "metadata": {},
   "source": [
    "#### Stacked submission"
   ]
  },
  {
   "cell_type": "code",
   "execution_count": 142,
   "metadata": {},
   "outputs": [],
   "source": [
    "lasso = pd.read_csv('submit_lasso.csv')\n",
    "gbr = pd.read_csv('submit_gbr.csv')\n",
    "stack_df = pd.DataFrame([lasso['SalePrice'], gbr['SalePrice']]).T"
   ]
  },
  {
   "cell_type": "code",
   "execution_count": 143,
   "metadata": {},
   "outputs": [],
   "source": [
    "# arithmetic mean\n",
    "stack_avg = stack_df.mean(axis=1)\n",
    "#stack_avg = (lasso['SalePrice'] * gbr['SalePrice']) ** 0.5\n",
    "submit_df = pd.DataFrame({'Id' : test_data['Id'], 'SalePrice' : stack_avg})\n",
    "submit_df.to_csv('submit_stack.csv', index=False)"
   ]
  },
  {
   "cell_type": "code",
   "execution_count": null,
   "metadata": {},
   "outputs": [],
   "source": [
    "# TODO\n",
    "\n",
    "# - stack models\n",
    "\n",
    "# - add indicator variables for variables with step changes\n",
    "# - more feature engineering / preprocessing\n",
    "# - look at residual plots, important tree predictors: clean up thos variables: anomaly detect add polynomials..\n",
    "\n",
    "# - What to do about expensive hyperparamater searches / training?\n",
    "# -- ? workflow for offloading to aws/goog cloud\n",
    "# -- ? alternatives to GridSearch: Bayseian optimization lookxs promising\n",
    "\n",
    "\n",
    "# - How can you speed up this workflow?\n",
    "# - How would this workflow work if thre were 10^8 rows in the training set?"
   ]
  },
  {
   "cell_type": "code",
   "execution_count": 79,
   "metadata": {},
   "outputs": [
    {
     "name": "stdout",
     "output_type": "stream",
     "text": [
      "fold: 1\n"
     ]
    },
    {
     "name": "stderr",
     "output_type": "stream",
     "text": [
      "/usr/local/lib/python3.6/site-packages/sklearn/linear_model/coordinate_descent.py:491: ConvergenceWarning: Objective did not converge. You might want to increase the number of iterations. Fitting data with very small alpha may cause precision problems.\n",
      "  ConvergenceWarning)\n",
      "/usr/local/lib/python3.6/site-packages/sklearn/linear_model/coordinate_descent.py:491: ConvergenceWarning: Objective did not converge. You might want to increase the number of iterations. Fitting data with very small alpha may cause precision problems.\n",
      "  ConvergenceWarning)\n"
     ]
    },
    {
     "name": "stdout",
     "output_type": "stream",
     "text": [
      "fold: 2\n"
     ]
    },
    {
     "name": "stderr",
     "output_type": "stream",
     "text": [
      "/usr/local/lib/python3.6/site-packages/sklearn/linear_model/coordinate_descent.py:491: ConvergenceWarning: Objective did not converge. You might want to increase the number of iterations. Fitting data with very small alpha may cause precision problems.\n",
      "  ConvergenceWarning)\n",
      "/usr/local/lib/python3.6/site-packages/sklearn/linear_model/coordinate_descent.py:491: ConvergenceWarning: Objective did not converge. You might want to increase the number of iterations. Fitting data with very small alpha may cause precision problems.\n",
      "  ConvergenceWarning)\n"
     ]
    },
    {
     "name": "stdout",
     "output_type": "stream",
     "text": [
      "fold: 3\n"
     ]
    },
    {
     "name": "stderr",
     "output_type": "stream",
     "text": [
      "/usr/local/lib/python3.6/site-packages/sklearn/linear_model/coordinate_descent.py:491: ConvergenceWarning: Objective did not converge. You might want to increase the number of iterations. Fitting data with very small alpha may cause precision problems.\n",
      "  ConvergenceWarning)\n",
      "/usr/local/lib/python3.6/site-packages/sklearn/linear_model/coordinate_descent.py:491: ConvergenceWarning: Objective did not converge. You might want to increase the number of iterations. Fitting data with very small alpha may cause precision problems.\n",
      "  ConvergenceWarning)\n"
     ]
    },
    {
     "name": "stdout",
     "output_type": "stream",
     "text": [
      "fold: 4\n"
     ]
    },
    {
     "name": "stderr",
     "output_type": "stream",
     "text": [
      "/usr/local/lib/python3.6/site-packages/sklearn/linear_model/coordinate_descent.py:491: ConvergenceWarning: Objective did not converge. You might want to increase the number of iterations. Fitting data with very small alpha may cause precision problems.\n",
      "  ConvergenceWarning)\n",
      "/usr/local/lib/python3.6/site-packages/sklearn/linear_model/coordinate_descent.py:491: ConvergenceWarning: Objective did not converge. You might want to increase the number of iterations. Fitting data with very small alpha may cause precision problems.\n",
      "  ConvergenceWarning)\n"
     ]
    },
    {
     "name": "stdout",
     "output_type": "stream",
     "text": [
      "fold: 5\n"
     ]
    },
    {
     "name": "stderr",
     "output_type": "stream",
     "text": [
      "/usr/local/lib/python3.6/site-packages/sklearn/linear_model/coordinate_descent.py:491: ConvergenceWarning: Objective did not converge. You might want to increase the number of iterations. Fitting data with very small alpha may cause precision problems.\n",
      "  ConvergenceWarning)\n",
      "/usr/local/lib/python3.6/site-packages/sklearn/linear_model/coordinate_descent.py:491: ConvergenceWarning: Objective did not converge. You might want to increase the number of iterations. Fitting data with very small alpha may cause precision problems.\n",
      "  ConvergenceWarning)\n"
     ]
    },
    {
     "name": "stdout",
     "output_type": "stream",
     "text": [
      "fold: 6\n"
     ]
    },
    {
     "name": "stderr",
     "output_type": "stream",
     "text": [
      "/usr/local/lib/python3.6/site-packages/sklearn/linear_model/coordinate_descent.py:491: ConvergenceWarning: Objective did not converge. You might want to increase the number of iterations. Fitting data with very small alpha may cause precision problems.\n",
      "  ConvergenceWarning)\n",
      "/usr/local/lib/python3.6/site-packages/sklearn/linear_model/coordinate_descent.py:491: ConvergenceWarning: Objective did not converge. You might want to increase the number of iterations. Fitting data with very small alpha may cause precision problems.\n",
      "  ConvergenceWarning)\n",
      "/usr/local/lib/python3.6/site-packages/sklearn/linear_model/coordinate_descent.py:491: ConvergenceWarning: Objective did not converge. You might want to increase the number of iterations. Fitting data with very small alpha may cause precision problems.\n",
      "  ConvergenceWarning)\n",
      "/usr/local/lib/python3.6/site-packages/sklearn/linear_model/coordinate_descent.py:491: ConvergenceWarning: Objective did not converge. You might want to increase the number of iterations. Fitting data with very small alpha may cause precision problems.\n",
      "  ConvergenceWarning)\n",
      "/usr/local/lib/python3.6/site-packages/sklearn/linear_model/coordinate_descent.py:491: ConvergenceWarning: Objective did not converge. You might want to increase the number of iterations. Fitting data with very small alpha may cause precision problems.\n",
      "  ConvergenceWarning)\n"
     ]
    },
    {
     "name": "stdout",
     "output_type": "stream",
     "text": [
      "fold: 7\n"
     ]
    },
    {
     "name": "stderr",
     "output_type": "stream",
     "text": [
      "/usr/local/lib/python3.6/site-packages/sklearn/linear_model/coordinate_descent.py:491: ConvergenceWarning: Objective did not converge. You might want to increase the number of iterations. Fitting data with very small alpha may cause precision problems.\n",
      "  ConvergenceWarning)\n",
      "/usr/local/lib/python3.6/site-packages/sklearn/linear_model/coordinate_descent.py:491: ConvergenceWarning: Objective did not converge. You might want to increase the number of iterations. Fitting data with very small alpha may cause precision problems.\n",
      "  ConvergenceWarning)\n",
      "/usr/local/lib/python3.6/site-packages/sklearn/linear_model/coordinate_descent.py:491: ConvergenceWarning: Objective did not converge. You might want to increase the number of iterations. Fitting data with very small alpha may cause precision problems.\n",
      "  ConvergenceWarning)\n"
     ]
    },
    {
     "name": "stdout",
     "output_type": "stream",
     "text": [
      "fold: 8\n",
      "fold: 9\n"
     ]
    },
    {
     "name": "stderr",
     "output_type": "stream",
     "text": [
      "/usr/local/lib/python3.6/site-packages/sklearn/linear_model/coordinate_descent.py:491: ConvergenceWarning: Objective did not converge. You might want to increase the number of iterations. Fitting data with very small alpha may cause precision problems.\n",
      "  ConvergenceWarning)\n",
      "/usr/local/lib/python3.6/site-packages/sklearn/linear_model/coordinate_descent.py:491: ConvergenceWarning: Objective did not converge. You might want to increase the number of iterations. Fitting data with very small alpha may cause precision problems.\n",
      "  ConvergenceWarning)\n"
     ]
    },
    {
     "name": "stdout",
     "output_type": "stream",
     "text": [
      "fold: 10\n"
     ]
    },
    {
     "name": "stderr",
     "output_type": "stream",
     "text": [
      "/usr/local/lib/python3.6/site-packages/sklearn/linear_model/coordinate_descent.py:491: ConvergenceWarning: Objective did not converge. You might want to increase the number of iterations. Fitting data with very small alpha may cause precision problems.\n",
      "  ConvergenceWarning)\n",
      "/usr/local/lib/python3.6/site-packages/sklearn/linear_model/coordinate_descent.py:491: ConvergenceWarning: Objective did not converge. You might want to increase the number of iterations. Fitting data with very small alpha may cause precision problems.\n",
      "  ConvergenceWarning)\n"
     ]
    },
    {
     "name": "stdout",
     "output_type": "stream",
     "text": [
      "fold: 11\n"
     ]
    },
    {
     "name": "stderr",
     "output_type": "stream",
     "text": [
      "/usr/local/lib/python3.6/site-packages/sklearn/linear_model/coordinate_descent.py:491: ConvergenceWarning: Objective did not converge. You might want to increase the number of iterations. Fitting data with very small alpha may cause precision problems.\n",
      "  ConvergenceWarning)\n",
      "/usr/local/lib/python3.6/site-packages/sklearn/linear_model/coordinate_descent.py:491: ConvergenceWarning: Objective did not converge. You might want to increase the number of iterations. Fitting data with very small alpha may cause precision problems.\n",
      "  ConvergenceWarning)\n"
     ]
    },
    {
     "name": "stdout",
     "output_type": "stream",
     "text": [
      "fold: 12\n"
     ]
    },
    {
     "name": "stderr",
     "output_type": "stream",
     "text": [
      "/usr/local/lib/python3.6/site-packages/sklearn/linear_model/coordinate_descent.py:491: ConvergenceWarning: Objective did not converge. You might want to increase the number of iterations. Fitting data with very small alpha may cause precision problems.\n",
      "  ConvergenceWarning)\n",
      "/usr/local/lib/python3.6/site-packages/sklearn/linear_model/coordinate_descent.py:491: ConvergenceWarning: Objective did not converge. You might want to increase the number of iterations. Fitting data with very small alpha may cause precision problems.\n",
      "  ConvergenceWarning)\n"
     ]
    },
    {
     "name": "stdout",
     "output_type": "stream",
     "text": [
      "fold: 13\n"
     ]
    },
    {
     "name": "stderr",
     "output_type": "stream",
     "text": [
      "/usr/local/lib/python3.6/site-packages/sklearn/linear_model/coordinate_descent.py:491: ConvergenceWarning: Objective did not converge. You might want to increase the number of iterations. Fitting data with very small alpha may cause precision problems.\n",
      "  ConvergenceWarning)\n",
      "/usr/local/lib/python3.6/site-packages/sklearn/linear_model/coordinate_descent.py:491: ConvergenceWarning: Objective did not converge. You might want to increase the number of iterations. Fitting data with very small alpha may cause precision problems.\n",
      "  ConvergenceWarning)\n"
     ]
    },
    {
     "name": "stdout",
     "output_type": "stream",
     "text": [
      "fold: 14\n"
     ]
    },
    {
     "name": "stderr",
     "output_type": "stream",
     "text": [
      "/usr/local/lib/python3.6/site-packages/sklearn/linear_model/coordinate_descent.py:491: ConvergenceWarning: Objective did not converge. You might want to increase the number of iterations. Fitting data with very small alpha may cause precision problems.\n",
      "  ConvergenceWarning)\n",
      "/usr/local/lib/python3.6/site-packages/sklearn/linear_model/coordinate_descent.py:491: ConvergenceWarning: Objective did not converge. You might want to increase the number of iterations. Fitting data with very small alpha may cause precision problems.\n",
      "  ConvergenceWarning)\n"
     ]
    },
    {
     "name": "stdout",
     "output_type": "stream",
     "text": [
      "fold: 15\n"
     ]
    },
    {
     "name": "stderr",
     "output_type": "stream",
     "text": [
      "/usr/local/lib/python3.6/site-packages/sklearn/linear_model/coordinate_descent.py:491: ConvergenceWarning: Objective did not converge. You might want to increase the number of iterations. Fitting data with very small alpha may cause precision problems.\n",
      "  ConvergenceWarning)\n",
      "/usr/local/lib/python3.6/site-packages/sklearn/linear_model/coordinate_descent.py:491: ConvergenceWarning: Objective did not converge. You might want to increase the number of iterations. Fitting data with very small alpha may cause precision problems.\n",
      "  ConvergenceWarning)\n"
     ]
    },
    {
     "name": "stdout",
     "output_type": "stream",
     "text": [
      "fold: 16\n"
     ]
    },
    {
     "name": "stderr",
     "output_type": "stream",
     "text": [
      "/usr/local/lib/python3.6/site-packages/sklearn/linear_model/coordinate_descent.py:491: ConvergenceWarning: Objective did not converge. You might want to increase the number of iterations. Fitting data with very small alpha may cause precision problems.\n",
      "  ConvergenceWarning)\n",
      "/usr/local/lib/python3.6/site-packages/sklearn/linear_model/coordinate_descent.py:491: ConvergenceWarning: Objective did not converge. You might want to increase the number of iterations. Fitting data with very small alpha may cause precision problems.\n",
      "  ConvergenceWarning)\n",
      "/usr/local/lib/python3.6/site-packages/sklearn/linear_model/coordinate_descent.py:491: ConvergenceWarning: Objective did not converge. You might want to increase the number of iterations. Fitting data with very small alpha may cause precision problems.\n",
      "  ConvergenceWarning)\n",
      "/usr/local/lib/python3.6/site-packages/sklearn/linear_model/coordinate_descent.py:491: ConvergenceWarning: Objective did not converge. You might want to increase the number of iterations. Fitting data with very small alpha may cause precision problems.\n",
      "  ConvergenceWarning)\n",
      "/usr/local/lib/python3.6/site-packages/sklearn/linear_model/coordinate_descent.py:491: ConvergenceWarning: Objective did not converge. You might want to increase the number of iterations. Fitting data with very small alpha may cause precision problems.\n",
      "  ConvergenceWarning)\n"
     ]
    },
    {
     "name": "stdout",
     "output_type": "stream",
     "text": [
      "fold: 17\n",
      "fold: 18\n"
     ]
    },
    {
     "name": "stderr",
     "output_type": "stream",
     "text": [
      "/usr/local/lib/python3.6/site-packages/sklearn/linear_model/coordinate_descent.py:491: ConvergenceWarning: Objective did not converge. You might want to increase the number of iterations. Fitting data with very small alpha may cause precision problems.\n",
      "  ConvergenceWarning)\n",
      "/usr/local/lib/python3.6/site-packages/sklearn/linear_model/coordinate_descent.py:491: ConvergenceWarning: Objective did not converge. You might want to increase the number of iterations. Fitting data with very small alpha may cause precision problems.\n",
      "  ConvergenceWarning)\n"
     ]
    },
    {
     "name": "stdout",
     "output_type": "stream",
     "text": [
      "fold: 19\n"
     ]
    },
    {
     "name": "stderr",
     "output_type": "stream",
     "text": [
      "/usr/local/lib/python3.6/site-packages/sklearn/linear_model/coordinate_descent.py:491: ConvergenceWarning: Objective did not converge. You might want to increase the number of iterations. Fitting data with very small alpha may cause precision problems.\n",
      "  ConvergenceWarning)\n",
      "/usr/local/lib/python3.6/site-packages/sklearn/linear_model/coordinate_descent.py:491: ConvergenceWarning: Objective did not converge. You might want to increase the number of iterations. Fitting data with very small alpha may cause precision problems.\n",
      "  ConvergenceWarning)\n"
     ]
    },
    {
     "name": "stdout",
     "output_type": "stream",
     "text": [
      "fold: 20\n"
     ]
    },
    {
     "name": "stderr",
     "output_type": "stream",
     "text": [
      "/usr/local/lib/python3.6/site-packages/sklearn/linear_model/coordinate_descent.py:491: ConvergenceWarning: Objective did not converge. You might want to increase the number of iterations. Fitting data with very small alpha may cause precision problems.\n",
      "  ConvergenceWarning)\n",
      "/usr/local/lib/python3.6/site-packages/sklearn/linear_model/coordinate_descent.py:491: ConvergenceWarning: Objective did not converge. You might want to increase the number of iterations. Fitting data with very small alpha may cause precision problems.\n",
      "  ConvergenceWarning)\n"
     ]
    },
    {
     "name": "stdout",
     "output_type": "stream",
     "text": [
      "0.21617213091855986\n",
      "0.17044906447618857\n",
      "0.015603691329455285\n"
     ]
    }
   ],
   "source": [
    "# NONSENSE\n",
    "# https://www.kaggle.com/agehsbarg/top-10-0-10943-stacking-mice-and-brutal-force\n",
    "\n",
    "train_df = pd.concat([train_X, train_y], axis=1)\n",
    "models = []\n",
    "l1_errors = []\n",
    "gbt_errors = []\n",
    "stack_errors = []\n",
    "for idx, (train_idx, test_idx) in enumerate(model_selection.KFold(n_splits=20).split(train_df)):\n",
    "    print('fold: {}'.format(idx + 1))\n",
    "    train, test = train_df.iloc[train_idx], train_df.iloc[test_idx]\n",
    "    train_X, test_X = train.drop(['SalePrice'], axis=1), test.drop(['SalePrice'], axis=1)\n",
    "    train_y, test_y = train['SalePrice'], test['SalePrice']\n",
    "    \n",
    "    # lasso\n",
    "    l1 = pipeline.Pipeline([('scale', preprocessing.RobustScaler()), \n",
    "                           ('m', linear_model.Lasso(0.0004275510204081633))]).fit(train_X, train_y)\n",
    "    l1.fit(train_X, train_y)\n",
    "    l1_preds = l1.predict(test_X)\n",
    "    \n",
    "    # gbt\n",
    "    gbt = ensemble.GradientBoostingRegressor(loss='huber', n_estimators=1000, max_depth=1, learning_rate=0.105).fit(train_X, train_y)\n",
    "    gbt.fit(train_X, train_y)\n",
    "    gbt_preds = gbt.predict(test_X)\n",
    "    \n",
    "    # stack\n",
    "    geo_mean = np.sqrt(l1_preds * gbt_preds)\n",
    "    stack_X = pd.DataFrame([l1_preds, gbt_preds, geo_mean]).T\n",
    "    # how to tune this hyperparamater?\n",
    "    l1_stacked = linear_model.Lasso(0.0005)\n",
    "    # surely fitting on the test fold here is an information leak / serious methodological error..\n",
    "    l1_stacked.fit(stack_X, test_y)\n",
    "    \n",
    "    # collect results\n",
    "    rmse = lambda y, y_hat: np.square(y - y_hat).mean() ** 0.5\n",
    "    models.append([l1, gbt, l1_stacked])\n",
    "    l1_errors.append(rmse(test_y, l1_preds))\n",
    "    gbt_errors.append(rmse(test_y, gbt_preds))\n",
    "\n",
    "print(np.array(l1_errors).mean())\n",
    "print(np.array(gbt_errors).mean())\n",
    "print(np.array(stack_errors).mean())"
   ]
  },
  {
   "cell_type": "code",
   "execution_count": 118,
   "metadata": {},
   "outputs": [],
   "source": [
    "#NONSENSE\n",
    "# https://www.kaggle.com/agodwinp/stacking-house-prices-walkthrough-to-top-5\n",
    "\n",
    "test_X = preprocessing_pipeline_test(test_data, train_X.columns)\n",
    "\n",
    "p1_preds_valid = p1.predict(stack_test_X)\n",
    "p2_preds_valid = p2.predict(stack_test_X)\n",
    "p1_preds_test = p1.predict(test_X)\n",
    "p2_preds_test = p2.predict(test_X)\n",
    "\n",
    "stacked_valid = pd.DataFrame([p1_preds_valid, p2_preds_valid]).T\n",
    "stacked_test = pd.DataFrame([p1_preds_test, p2_preds_test]).T\n",
    "\n",
    "stacker = linear_model.Lasso(0.0005)\n",
    "stacker.fit(stacked_valid, stack_test_y)\n",
    "\n",
    "stacked_preds = stacker.predict(stacked_test)"
   ]
  },
  {
   "cell_type": "code",
   "execution_count": 128,
   "metadata": {},
   "outputs": [],
   "source": [
    "exp_preds = np.exp(stacked_preds)\n",
    "\n",
    "submit_df = pd.DataFrame({'Id' : test_data['Id'], 'SalePrice' : exp_preds})\n",
    "submit_df.to_csv('submit_stack_mad.csv', index=False)"
   ]
  }
 ],
 "metadata": {
  "kernelspec": {
   "display_name": "Python 3",
   "language": "python",
   "name": "python3"
  },
  "language_info": {
   "codemirror_mode": {
    "name": "ipython",
    "version": 3
   },
   "file_extension": ".py",
   "mimetype": "text/x-python",
   "name": "python",
   "nbconvert_exporter": "python",
   "pygments_lexer": "ipython3",
   "version": "3.6.5"
  }
 },
 "nbformat": 4,
 "nbformat_minor": 2
}
