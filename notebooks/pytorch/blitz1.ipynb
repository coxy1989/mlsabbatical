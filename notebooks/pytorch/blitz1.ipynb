{
 "cells": [
  {
   "cell_type": "code",
   "execution_count": 84,
   "metadata": {},
   "outputs": [],
   "source": [
    "from __future__ import print_function\n",
    "import torch\n",
    "import numpy as np"
   ]
  },
  {
   "cell_type": "code",
   "execution_count": 38,
   "metadata": {},
   "outputs": [
    {
     "data": {
      "text/plain": [
       "tensor([[3., 0., 0., 0., 0.],\n",
       "        [0., 3., 0., 0., 0.],\n",
       "        [0., 0., 3., 0., 0.],\n",
       "        [0., 0., 0., 3., 0.],\n",
       "        [0., 0., 0., 0., 3.]])"
      ]
     },
     "execution_count": 38,
     "metadata": {},
     "output_type": "execute_result"
    }
   ],
   "source": [
    "torch.tensor([[5,5],[3,3]])\n",
    "res = torch.empty(5,5)\n",
    "torch.add(torch.rand(5,5), torch.rand(5,5), out=res)\n",
    "a = torch.eye(5)\n",
    "b = torch.eye(5)\n",
    "a.add_(b)\n",
    "a.add_(b)"
   ]
  },
  {
   "cell_type": "code",
   "execution_count": 57,
   "metadata": {},
   "outputs": [
    {
     "data": {
      "text/plain": [
       "tensor([[0.8217, 0.3682, 0.0575, 0.3932, 0.1108],\n",
       "        [0.2895, 0.3278, 0.6503, 0.8280, 0.3745],\n",
       "        [0.8964, 0.0869, 0.1662, 0.7305, 0.2638],\n",
       "        [0.2287, 0.3422, 0.6910, 0.8304, 0.3002],\n",
       "        [0.5839, 0.6241, 0.4226, 0.1848, 0.5247]])"
      ]
     },
     "execution_count": 57,
     "metadata": {},
     "output_type": "execute_result"
    }
   ],
   "source": [
    "a = torch.rand(5,5)\n",
    "a"
   ]
  },
  {
   "cell_type": "code",
   "execution_count": 65,
   "metadata": {},
   "outputs": [
    {
     "data": {
      "text/plain": [
       "tensor([0.8217, 0.2895, 0.8964, 0.2287, 0.5839])"
      ]
     },
     "execution_count": 65,
     "metadata": {},
     "output_type": "execute_result"
    }
   ],
   "source": [
    "a[:,0]"
   ]
  },
  {
   "cell_type": "code",
   "execution_count": 68,
   "metadata": {},
   "outputs": [
    {
     "data": {
      "text/plain": [
       "tensor([0.8217, 0.3682, 0.0575, 0.3932, 0.1108, 0.2895, 0.3278, 0.6503, 0.8280,\n",
       "        0.3745, 0.8964, 0.0869, 0.1662, 0.7305, 0.2638, 0.2287, 0.3422, 0.6910,\n",
       "        0.8304, 0.3002, 0.5839, 0.6241, 0.4226, 0.1848, 0.5247])"
      ]
     },
     "execution_count": 68,
     "metadata": {},
     "output_type": "execute_result"
    }
   ],
   "source": [
    "a.view(-1)"
   ]
  },
  {
   "cell_type": "code",
   "execution_count": 77,
   "metadata": {},
   "outputs": [
    {
     "data": {
      "text/plain": [
       "tensor([[0.8923, 0.8368],\n",
       "        [0.7983, 0.7152],\n",
       "        [0.2163, 0.9078],\n",
       "        [0.2308, 0.6515],\n",
       "        [0.8263, 0.1508],\n",
       "        [0.9419, 0.0998],\n",
       "        [0.9788, 0.6916],\n",
       "        [0.5205, 0.6308],\n",
       "        [0.0159, 0.0932],\n",
       "        [0.8546, 0.2733]])"
      ]
     },
     "execution_count": 77,
     "metadata": {},
     "output_type": "execute_result"
    }
   ],
   "source": [
    "a = torch.rand(4,5)\n",
    "a.view(10,2)"
   ]
  },
  {
   "cell_type": "code",
   "execution_count": 79,
   "metadata": {},
   "outputs": [
    {
     "data": {
      "text/plain": [
       "torch.Size([4, 5])"
      ]
     },
     "execution_count": 79,
     "metadata": {},
     "output_type": "execute_result"
    }
   ],
   "source": [
    "a.size()"
   ]
  },
  {
   "cell_type": "code",
   "execution_count": 82,
   "metadata": {},
   "outputs": [
    {
     "data": {
      "text/plain": [
       "tensor([[0.8923, 0.8368, 0.7983, 0.7152, 0.2163],\n",
       "        [0.9078, 0.2308, 0.6515, 0.8263, 0.1508],\n",
       "        [0.9419, 0.0998, 0.9788, 0.6916, 0.5205],\n",
       "        [0.6308, 0.0159, 0.0932, 0.8546, 0.2733]])"
      ]
     },
     "execution_count": 82,
     "metadata": {},
     "output_type": "execute_result"
    }
   ],
   "source": [
    "a"
   ]
  },
  {
   "cell_type": "code",
   "execution_count": 83,
   "metadata": {},
   "outputs": [
    {
     "data": {
      "text/plain": [
       "array([[0.892284  , 0.8367827 , 0.7982987 , 0.71522516, 0.21627808],\n",
       "       [0.9078297 , 0.2308135 , 0.6515364 , 0.8262927 , 0.15077609],\n",
       "       [0.94189125, 0.09979522, 0.97877645, 0.6915623 , 0.5204805 ],\n",
       "       [0.63084775, 0.01590854, 0.09315592, 0.85459226, 0.27331948]],\n",
       "      dtype=float32)"
      ]
     },
     "execution_count": 83,
     "metadata": {},
     "output_type": "execute_result"
    }
   ],
   "source": [
    "a.numpy()"
   ]
  },
  {
   "cell_type": "code",
   "execution_count": 87,
   "metadata": {},
   "outputs": [
    {
     "data": {
      "text/plain": [
       "tensor([[1., 0., 0., 0., 0.],\n",
       "        [0., 1., 0., 0., 0.],\n",
       "        [0., 0., 1., 0., 0.],\n",
       "        [0., 0., 0., 1., 0.],\n",
       "        [0., 0., 0., 0., 1.]], dtype=torch.float64)"
      ]
     },
     "execution_count": 87,
     "metadata": {},
     "output_type": "execute_result"
    }
   ],
   "source": [
    "x = np.eye(5)\n",
    "torch.from_numpy(x)"
   ]
  },
  {
   "cell_type": "code",
   "execution_count": 90,
   "metadata": {},
   "outputs": [
    {
     "data": {
      "text/plain": [
       "False"
      ]
     },
     "execution_count": 90,
     "metadata": {},
     "output_type": "execute_result"
    }
   ],
   "source": [
    "torch.cuda.is_available()"
   ]
  }
 ],
 "metadata": {
  "kernelspec": {
   "display_name": "Python 3",
   "language": "python",
   "name": "python3"
  },
  "language_info": {
   "codemirror_mode": {
    "name": "ipython",
    "version": 3
   },
   "file_extension": ".py",
   "mimetype": "text/x-python",
   "name": "python",
   "nbconvert_exporter": "python",
   "pygments_lexer": "ipython3",
   "version": "3.6.5"
  }
 },
 "nbformat": 4,
 "nbformat_minor": 2
}
