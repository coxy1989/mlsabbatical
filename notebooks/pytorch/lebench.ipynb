{
 "cells": [
  {
   "cell_type": "code",
   "execution_count": 7,
   "metadata": {},
   "outputs": [],
   "source": [
    "import torch\n",
    "import itertools\n",
    "import bcolz\n",
    "import torchvision as tv\n",
    "import pandas as pd\n",
    "import numpy as np\n",
    "import ipywidgets as widgets\n",
    "import matplotlib.pyplot as plt\n",
    "from torch.utils.data import dataset, DataLoader, Dataset\n",
    "from PIL import Image\n",
    "from functools import partial\n",
    "from ipywidgets import interact, interactive\n",
    "from tqdm import tqdm_notebook as tqdm\n",
    "from tqdm import tnrange\n",
    "from resnext_101_64x4d import resnext_101_64x4d"
   ]
  },
  {
   "cell_type": "code",
   "execution_count": 11,
   "metadata": {},
   "outputs": [],
   "source": [
    "def num_features(m):\n",
    "    c= m if isinstance(m, (list, tuple)) else list(m.children())\n",
    "    if len(c)==0: return None\n",
    "    for l in reversed(c):\n",
    "        if hasattr(l, 'num_features'): return l.num_features\n",
    "        res = num_features(l)\n",
    "        if res is not None: return res\n",
    "        \n",
    "class AdaptiveConcatPool2d(torch.nn.Module):\n",
    "    \n",
    "    def __init__(self, sz=None):\n",
    "        super().__init__()\n",
    "        sz = sz or (1,1)\n",
    "        self.ap = torch.nn.AdaptiveAvgPool2d(sz)\n",
    "        self.mp = torch.nn.AdaptiveMaxPool2d(sz)\n",
    "        \n",
    "    def forward(self, x):\n",
    "        return torch.cat([self.mp(x), self.ap(x)], 1)\n",
    "\n",
    "class Lambda(torch.nn.Module):\n",
    "    \n",
    "    def __init__(self, f):\n",
    "        super().__init__(); self.f=f\n",
    "        \n",
    "    def forward(self, x):\n",
    "        return self.f(x)\n",
    "\n",
    "class Flatten(torch.nn.Module):\n",
    "    def __init__(self):\n",
    "        super().__init__()\n",
    "        \n",
    "    def forward(self, x):\n",
    "        return x.view(x.size(0), -1)"
   ]
  },
  {
   "cell_type": "code",
   "execution_count": 12,
   "metadata": {},
   "outputs": [],
   "source": [
    "#resnext_101_64x4d()\n",
    "model = resnext_101_64x4d()\n",
    "model.load_state_dict(torch.load('./resnext_101_64x4d.pth'))\n",
    "\n",
    "front_layers = list(model.children())[:8]\n",
    "nf = num_features(front_layers) * 2\n",
    "front_layers += [AdaptiveConcatPool2d(), Flatten()]"
   ]
  }
 ],
 "metadata": {
  "kernelspec": {
   "display_name": "Python 3",
   "language": "python",
   "name": "python3"
  },
  "language_info": {
   "codemirror_mode": {
    "name": "ipython",
    "version": 3
   },
   "file_extension": ".py",
   "mimetype": "text/x-python",
   "name": "python",
   "nbconvert_exporter": "python",
   "pygments_lexer": "ipython3",
   "version": "3.6.5"
  }
 },
 "nbformat": 4,
 "nbformat_minor": 2
}
