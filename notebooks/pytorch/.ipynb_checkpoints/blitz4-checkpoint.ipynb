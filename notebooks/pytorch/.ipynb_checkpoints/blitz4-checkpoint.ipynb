{
 "cells": [
  {
   "cell_type": "code",
   "execution_count": 53,
   "metadata": {},
   "outputs": [],
   "source": [
    "import torch\n",
    "import torchvision\n",
    "import torchvision.transforms as transforms\n",
    "import torch.nn.functional as F\n",
    "import matplotlib.pyplot as plt\n",
    "import numpy as np"
   ]
  },
  {
   "cell_type": "markdown",
   "metadata": {},
   "source": [
    "# Load Data"
   ]
  },
  {
   "cell_type": "code",
   "execution_count": 20,
   "metadata": {},
   "outputs": [
    {
     "name": "stdout",
     "output_type": "stream",
     "text": [
      "Files already downloaded and verified\n",
      "Files already downloaded and verified\n"
     ]
    }
   ],
   "source": [
    "bs = 4\n",
    "tfms = transforms.Compose([transforms.ToTensor(), \n",
    "                           transforms.Normalize((0.5, 0.5, 0.5), (0.5, 0.5, 0.5))])\n",
    "trainset = torchvision.datasets.CIFAR10('./data', train=True, \n",
    "                                        download=True, transform=tfms)\n",
    "trainloader = torch.utils.data.DataLoader(trainset, batch_size=bs,\n",
    "                                          shuffle=True, num_workers=2)\n",
    "testset = torchvision.datasets.CIFAR10('./data', train=False, download=True,\n",
    "                                       transform=tfms)\n",
    "testloader = torch.utils.data.DataLoader(testset, batch_size=bs,\n",
    "                                         shuffle=True, num_workers=2)\n",
    "\n",
    "classes = ('plane', 'car', 'bird', 'cat',\n",
    "           'deer', 'dog', 'frog', 'horse', 'ship', 'truck')"
   ]
  },
  {
   "cell_type": "markdown",
   "metadata": {},
   "source": [
    "# EDA"
   ]
  },
  {
   "cell_type": "code",
   "execution_count": 52,
   "metadata": {},
   "outputs": [
    {
     "name": "stdout",
     "output_type": "stream",
     "text": [
      "['dog', 'ship', 'horse', 'car']\n"
     ]
    },
    {
     "data": {
      "image/png": "[encoded data removed]",
      "text/plain": [
       "<Figure size 432x288 with 1 Axes>"
      ]
     },
     "metadata": {},
     "output_type": "display_data"
    }
   ],
   "source": [
    "def imshow(img):\n",
    "    img = (img / 2) + 0.5\n",
    "    timg = np.transpose(img.numpy(), (1, 2, 0))\n",
    "    plt.imshow(timg)\n",
    "\n",
    "imgs, labs = next(iter(trainloader))\n",
    "grid = torchvision.utils.make_grid(imgs)\n",
    "imshow(grid)\n",
    "print([classes[l] for l in labs])"
   ]
  },
  {
   "cell_type": "markdown",
   "metadata": {},
   "source": [
    "# Model"
   ]
  },
  {
   "cell_type": "code",
   "execution_count": 57,
   "metadata": {},
   "outputs": [],
   "source": [
    "class Net(torch.nn.Module):\n",
    "    \n",
    "    def __init__(self):\n",
    "        super().__init__()\n",
    "        self.conv1 = torch.nn.Conv2d(3,6,5)\n",
    "        self.pool = torch.nn.MaxPool2d(2)\n",
    "        self.conv2 = torch.nn.Conv2d(6,16,5)\n",
    "        self.fc1 = torch.nn.Linear(16 * 5 * 5, 120)\n",
    "        self.fc2 = torch.nn.Linear(120, 84)\n",
    "        self.fc3 = torch.nn.Linear(84, 10)\n",
    "            \n",
    "    def forward(self, x):\n",
    "        x = self.pool(F.relu(self.conv1(x)))\n",
    "        x = self.pool(F.relu(self.conv2(x)))\n",
    "        x = x.view(-1, 16 * 5 * 5)\n",
    "        x = F.relu(self.fc1(x))\n",
    "        x = F.relu(self.fc2(x))\n",
    "        return self.fc3(x)"
   ]
  },
  {
   "cell_type": "markdown",
   "metadata": {},
   "source": [
    "# Train"
   ]
  },
  {
   "cell_type": "code",
   "execution_count": 81,
   "metadata": {
    "scrolled": true
   },
   "outputs": [
    {
     "name": "stdout",
     "output_type": "stream",
     "text": [
      "[epoch: 1, mini_batch: 2000], avg_loss: 2.218159733116627\n",
      "[epoch: 1, mini_batch: 4000], avg_loss: 1.9174607983529568\n",
      "[epoch: 1, mini_batch: 6000], avg_loss: 1.694190282046795\n",
      "[epoch: 1, mini_batch: 8000], avg_loss: 1.589133358478546\n",
      "[epoch: 1, mini_batch: 10000], avg_loss: 1.5243953688293694\n",
      "[epoch: 1, mini_batch: 12000], avg_loss: 1.4888407945632935\n",
      "[epoch: 2, mini_batch: 2000], avg_loss: 1.3996654999554157\n",
      "[epoch: 2, mini_batch: 4000], avg_loss: 1.3992710198760032\n",
      "[epoch: 2, mini_batch: 6000], avg_loss: 1.3427085254490376\n",
      "[epoch: 2, mini_batch: 8000], avg_loss: 1.3229692410975695\n",
      "[epoch: 2, mini_batch: 10000], avg_loss: 1.339568853840232\n",
      "[epoch: 2, mini_batch: 12000], avg_loss: 1.2937712281793357\n"
     ]
    }
   ],
   "source": [
    "net = Net()\n",
    "criterion = torch.nn.CrossEntropyLoss()\n",
    "optimizer = torch.optim.SGD(net.parameters(), lr=0.001, momentum=0.9)\n",
    "epoch_n = 2\n",
    "\n",
    "for epoch in (range(epoch_n)):\n",
    "    \n",
    "    running_loss = 0\n",
    "    for i, data in enumerate(trainloader):\n",
    "        inputs, labels = data\n",
    "        optimizer.zero_grad()\n",
    "        outputs = net(inputs)\n",
    "        loss = criterion(outputs, labels)\n",
    "        loss.backward()\n",
    "        optimizer.step()\n",
    "        \n",
    "        running_loss += loss.item()\n",
    "        if i % 2000 == 1999:\n",
    "            print(f'[epoch: {epoch + 1}, mini_batch: {i + 1}], avg_loss: {running_loss / 2000}')\n",
    "            running_loss = 0"
   ]
  },
  {
   "cell_type": "markdown",
   "metadata": {},
   "source": [
    "# Evaluate"
   ]
  },
  {
   "cell_type": "code",
   "execution_count": 97,
   "metadata": {},
   "outputs": [
    {
     "name": "stdout",
     "output_type": "stream",
     "text": [
      "Actual:\n",
      "['truck', 'car', 'car', 'cat']\n",
      "Predicted:\n",
      "['bird', 'car', 'car', 'cat']\n"
     ]
    },
    {
     "data": {
      "image/png": "[encoded data removed]",
      "text/plain": [
       "<Figure size 432x288 with 1 Axes>"
      ]
     },
     "metadata": {},
     "output_type": "display_data"
    }
   ],
   "source": [
    "imgs, labels = iter(testloader).next()\n",
    "img = torchvision.utils.make_grid(imgs)\n",
    "imshow(img)\n",
    "print('Actual:')\n",
    "print([classes[l] for l in labels])\n",
    "_, idxs = torch.max(net(imgs), 1)\n",
    "print('Predicted:')\n",
    "print([classes[l] for l in idxs])"
   ]
  },
  {
   "cell_type": "code",
   "execution_count": 101,
   "metadata": {},
   "outputs": [
    {
     "name": "stdout",
     "output_type": "stream",
     "text": [
      "Accuracy: 52.6%\n"
     ]
    }
   ],
   "source": [
    "correct = 0\n",
    "total = 0\n",
    "\n",
    "with torch.no_grad():\n",
    "    for data in testloader:\n",
    "        images, labels = data\n",
    "        outputs = net(images)\n",
    "        _, idxs = torch.max(outputs, 1)\n",
    "        total += labels.size(0)\n",
    "        correct += (idxs == labels).sum().item()\n",
    "        \n",
    "print(f'Accuracy: {100 * correct / total}%')"
   ]
  }
 ],
 "metadata": {
  "kernelspec": {
   "display_name": "Python 3",
   "language": "python",
   "name": "python3"
  },
  "language_info": {
   "codemirror_mode": {
    "name": "ipython",
    "version": 3
   },
   "file_extension": ".py",
   "mimetype": "text/x-python",
   "name": "python",
   "nbconvert_exporter": "python",
   "pygments_lexer": "ipython3",
   "version": "3.6.5"
  }
 },
 "nbformat": 4,
 "nbformat_minor": 2
}
