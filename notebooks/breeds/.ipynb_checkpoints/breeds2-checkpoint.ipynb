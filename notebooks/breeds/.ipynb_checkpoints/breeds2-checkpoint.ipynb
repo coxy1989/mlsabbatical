{
 "cells": [
  {
   "cell_type": "code",
   "execution_count": 141,
   "metadata": {},
   "outputs": [],
   "source": [
    "import torch\n",
    "import itertools\n",
    "import bcolz\n",
    "import torchvision as tv\n",
    "import pandas as pd\n",
    "import numpy as np\n",
    "import ipywidgets as widgets\n",
    "import matplotlib.pyplot as plt\n",
    "from torch.utils.data import dataset, DataLoader, Dataset\n",
    "from PIL import Image\n",
    "from functools import partial\n",
    "from ipywidgets import interact, interactive\n",
    "from tqdm import tqdm_notebook as tqdm\n",
    "from tqdm import tnrange\n",
    "from resnext_101_64x4d import resnext_101_64x4d"
   ]
  },
  {
   "cell_type": "code",
   "execution_count": 3,
   "metadata": {},
   "outputs": [],
   "source": [
    "device = torch.device('cuda') if torch.cuda.is_available() else torch.device('cpu')"
   ]
  },
  {
   "cell_type": "markdown",
   "metadata": {},
   "source": [
    "# Data"
   ]
  },
  {
   "cell_type": "code",
   "execution_count": 2,
   "metadata": {},
   "outputs": [
    {
     "data": {
      "text/html": [
       "<div>\n",
       "<style scoped>\n",
       "    .dataframe tbody tr th:only-of-type {\n",
       "        vertical-align: middle;\n",
       "    }\n",
       "\n",
       "    .dataframe tbody tr th {\n",
       "        vertical-align: top;\n",
       "    }\n",
       "\n",
       "    .dataframe thead th {\n",
       "        text-align: right;\n",
       "    }\n",
       "</style>\n",
       "<table border=\"1\" class=\"dataframe\">\n",
       "  <thead>\n",
       "    <tr style=\"text-align: right;\">\n",
       "      <th></th>\n",
       "      <th>id</th>\n",
       "      <th>breed</th>\n",
       "    </tr>\n",
       "  </thead>\n",
       "  <tbody>\n",
       "    <tr>\n",
       "      <th>0</th>\n",
       "      <td>000bec180eb18c7604dcecc8fe0dba07</td>\n",
       "      <td>boston_bull</td>\n",
       "    </tr>\n",
       "    <tr>\n",
       "      <th>1</th>\n",
       "      <td>001513dfcb2ffafc82cccf4d8bbaba97</td>\n",
       "      <td>dingo</td>\n",
       "    </tr>\n",
       "    <tr>\n",
       "      <th>2</th>\n",
       "      <td>001cdf01b096e06d78e9e5112d419397</td>\n",
       "      <td>pekinese</td>\n",
       "    </tr>\n",
       "    <tr>\n",
       "      <th>3</th>\n",
       "      <td>00214f311d5d2247d5dfe4fe24b2303d</td>\n",
       "      <td>bluetick</td>\n",
       "    </tr>\n",
       "    <tr>\n",
       "      <th>4</th>\n",
       "      <td>0021f9ceb3235effd7fcde7f7538ed62</td>\n",
       "      <td>golden_retriever</td>\n",
       "    </tr>\n",
       "  </tbody>\n",
       "</table>\n",
       "</div>"
      ],
      "text/plain": [
       "                                 id             breed\n",
       "0  000bec180eb18c7604dcecc8fe0dba07       boston_bull\n",
       "1  001513dfcb2ffafc82cccf4d8bbaba97             dingo\n",
       "2  001cdf01b096e06d78e9e5112d419397          pekinese\n",
       "3  00214f311d5d2247d5dfe4fe24b2303d          bluetick\n",
       "4  0021f9ceb3235effd7fcde7f7538ed62  golden_retriever"
      ]
     },
     "execution_count": 2,
     "metadata": {},
     "output_type": "execute_result"
    }
   ],
   "source": [
    "RAW_DATA_DIR = '/home/ubuntu/data/dogbreed/'\n",
    "pd.read_csv(f'{RAW_DATA_DIR}/labels.csv').head()"
   ]
  },
  {
   "cell_type": "code",
   "execution_count": 4,
   "metadata": {},
   "outputs": [],
   "source": [
    "class DogsDataset(Dataset):\n",
    "    \n",
    "    def __init__(self, labels_df, data_path, transform=None):\n",
    "        super().__init__()\n",
    "        self.labels_df = labels_df\n",
    "        self.data_path = data_path\n",
    "        self.transform = transform\n",
    "        \n",
    "    def __len__(self):\n",
    "        return self.labels_df.shape[0]\n",
    "    \n",
    "    def __getitem__(self, idx):\n",
    "        row = self.labels_df.iloc[idx]\n",
    "        id, breed = row['id'], row['breed']\n",
    "        img = Image.open(f'{self.data_path}/{id}.jpg')\n",
    "        if self.transform:\n",
    "            img = self.transform(img)\n",
    "        return img, breed"
   ]
  },
  {
   "cell_type": "code",
   "execution_count": 5,
   "metadata": {},
   "outputs": [
    {
     "data": {
      "text/plain": [
       "(<PIL.JpegImagePlugin.JpegImageFile image mode=RGB size=500x375 at 0x7FF3E8D7B2E8>,\n",
       " 'boston_bull')"
      ]
     },
     "execution_count": 5,
     "metadata": {},
     "output_type": "execute_result"
    }
   ],
   "source": [
    "# sanity check\n",
    "next(iter(DogsDataset(pd.read_csv(f'{RAW_DATA_DIR}/labels.csv'), f'{RAW_DATA_DIR}/train')))"
   ]
  },
  {
   "cell_type": "code",
   "execution_count": 5,
   "metadata": {},
   "outputs": [],
   "source": [
    "def gen_split_indexes(size, train_size=0.8):\n",
    "    idxs = range(0, size)\n",
    "    perm = np.random.permutation(idxs)\n",
    "    split_idx = int(0.8 * len(perm))\n",
    "    return perm[:split_idx], perm[split_idx:]"
   ]
  },
  {
   "cell_type": "code",
   "execution_count": 6,
   "metadata": {},
   "outputs": [],
   "source": [
    "def resize_image(target_size, image_path):\n",
    "    image = Image.open(image_path)\n",
    "    w, h = image.size\n",
    "    target_ratio = target_size / min(w, h)\n",
    "    new_w = np.floor(max(w * target_ratio, target_size))\n",
    "    new_h = np.floor(max(h * target_ratio, target_size))\n",
    "    return image.resize((int(new_w), int(new_h)))\n",
    "\n",
    "def transform_files(file_names, source_dir, dest_dir, tform):\n",
    "    for name in file_names:\n",
    "        file = tform(f'{source_dir}/{name}')\n",
    "        file.save(f'{dest_dir}/{name}')"
   ]
  },
  {
   "cell_type": "code",
   "execution_count": 7,
   "metadata": {},
   "outputs": [],
   "source": [
    "labels_df = pd.read_csv(f'{RAW_DATA_DIR}/labels.csv')\n",
    "breed_lookup = {breed : idx for idx, breed in enumerate(sorted(labels_df['breed'].unique()))}\n",
    "labels_df['breed'] = labels_df['breed'].map(breed_lookup)\n",
    "train_idxs, val_idxs = gen_split_indexes(labels_df.shape[0])"
   ]
  },
  {
   "cell_type": "code",
   "execution_count": 8,
   "metadata": {},
   "outputs": [
    {
     "data": {
      "text/plain": [
       "True"
      ]
     },
     "execution_count": 8,
     "metadata": {},
     "output_type": "execute_result"
    }
   ],
   "source": [
    "# sanity check\n",
    "len(train_idxs) + len(val_idxs) == labels_df.shape[0]"
   ]
  },
  {
   "cell_type": "markdown",
   "metadata": {},
   "source": [
    "# Util"
   ]
  },
  {
   "cell_type": "code",
   "execution_count": 10,
   "metadata": {},
   "outputs": [],
   "source": [
    "def num_features(m):\n",
    "    c= m if isinstance(m, (list, tuple)) else list(m.children())\n",
    "    if len(c)==0: return None\n",
    "    for l in reversed(c):\n",
    "        if hasattr(l, 'num_features'): return l.num_features\n",
    "        res = num_features(l)\n",
    "        if res is not None: return res"
   ]
  },
  {
   "cell_type": "code",
   "execution_count": 11,
   "metadata": {},
   "outputs": [],
   "source": [
    "class AdaptiveConcatPool2d(torch.nn.Module):\n",
    "    \n",
    "    def __init__(self, sz=None):\n",
    "        super().__init__()\n",
    "        sz = sz or (1,1)\n",
    "        self.ap = torch.nn.AdaptiveAvgPool2d(sz)\n",
    "        self.mp = torch.nn.AdaptiveMaxPool2d(sz)\n",
    "        \n",
    "    def forward(self, x):\n",
    "        return torch.cat([self.mp(x), self.ap(x)], 1)\n",
    "\n",
    "class Lambda(torch.nn.Module):\n",
    "    \n",
    "    def __init__(self, f):\n",
    "        super().__init__(); self.f=f\n",
    "        \n",
    "    def forward(self, x):\n",
    "        return self.f(x)\n",
    "\n",
    "class Flatten(torch.nn.Module):\n",
    "    def __init__(self):\n",
    "        super().__init__()\n",
    "        \n",
    "    def forward(self, x):\n",
    "        return x.view(x.size(0), -1)\n"
   ]
  },
  {
   "cell_type": "code",
   "execution_count": 12,
   "metadata": {},
   "outputs": [],
   "source": [
    "def cond_init(m, init_fn):\n",
    "    if not isinstance(m, (torch.nn.BatchNorm1d, torch.nn.BatchNorm2d, torch.nn.BatchNorm3d)):\n",
    "        if hasattr(m, 'weight'): init_fn(m.weight)\n",
    "        if hasattr(m, 'bias') and hasattr(m.bias, 'data'): m.bias.data.fill_(0.)"
   ]
  },
  {
   "cell_type": "code",
   "execution_count": 52,
   "metadata": {},
   "outputs": [],
   "source": [
    "class ArrayDataset(Dataset):\n",
    "    \n",
    "    def __init__(self, x, y):\n",
    "        super().__init__()\n",
    "        self.x = x\n",
    "        self.y = y\n",
    "        \n",
    "    def __len__(self):\n",
    "        return self.x.shape[0]\n",
    "    \n",
    "    def __getitem__(self, idx):\n",
    "        return self.x[idx], self.y[idx]"
   ]
  },
  {
   "cell_type": "markdown",
   "metadata": {
    "heading_collapsed": true
   },
   "source": [
    "# Model 1"
   ]
  },
  {
   "cell_type": "code",
   "execution_count": null,
   "metadata": {
    "hidden": true
   },
   "outputs": [],
   "source": [
    "def train_epoch(trainloader, model, criterion, optimizer):\n",
    "    ''' run a single epoch of training'''\n",
    "    for idx, (input, target) in enumerate(tqdm(trainloader)):\n",
    "        output = model(input.to(device))\n",
    "        loss = criterion(output, target.to(device))\n",
    "        optimizer.zero_grad()\n",
    "        loss.backward()\n",
    "        optimizer.step()\n",
    "\n",
    "def evaluate(validationloader, model, criterion):\n",
    "    '''evaluate the model'''\n",
    "    model.eval()\n",
    "    loss_cum = loss_n = correct_cum = correct_n = 0\n",
    "    for idx, (input, target) in enumerate(tqdm(validationloader)):\n",
    "        output = model(input.to(device))\n",
    "        _, preds = output.max(1)\n",
    "        correct_cum += (preds == target.to(device)).double().sum()\n",
    "        correct_n += len(target)\n",
    "        loss_cum += criterion(output, target.to(device)).data\n",
    "        loss_n +=1\n",
    "    return (loss_cum / loss_n).item(), (correct_cum / correct_n).item()\n",
    "        \n",
    "def fit(model, trainloader, validationloader, learn_rate, epochs):\n",
    "    criterion = torch.nn.CrossEntropyLoss().to(device)\n",
    "    optimizer = torch.optim.SGD(model.parameters(), learn_rate, momentum=0.9, weight_decay=1e-4)\n",
    "    for epoch in range(1, epochs + 1):\n",
    "        print(f'EPOCH: {epoch}')\n",
    "        train_epoch(trainloader, model, criterion, optimizer)\n",
    "        val_loss, val_acc = evaluate(validationloader, model, criterion)\n",
    "        train_loss, train_acc = evaluate(trainloader, model, criterion)\n",
    "        print(f'val_loss {val_loss}')\n",
    "        print(f'trn_loss {train_loss}')\n",
    "        print(f'val_acc {val_acc}')\n",
    "        print(f'trn_acc {train_acc}')"
   ]
  },
  {
   "cell_type": "code",
   "execution_count": 42,
   "metadata": {
    "hidden": true
   },
   "outputs": [],
   "source": [
    "class SimpleCNN(torch.nn.Module):\n",
    "    \n",
    "    def __init__(self):\n",
    "        super().__init__()\n",
    "        self.cv_layers = torch.nn.Sequential(torch.nn.Conv2d(3, 8, kernel_size=7, stride=1, padding=3),\n",
    "                                             torch.nn.ReLU(),\n",
    "                                             torch.nn.MaxPool2d(kernel_size=2, stride=2),\n",
    "                                             torch.nn.Conv2d(8, 16, kernel_size=3, stride=1, padding=1),\n",
    "                                             torch.nn.ReLU(),\n",
    "                                             torch.nn.MaxPool2d(kernel_size=2, stride=2))\n",
    "        \n",
    "        self.fc_layers = torch.nn.Sequential(torch.nn.Linear(16 * 56 * 56, 1028),\n",
    "                                             torch.nn.ReLU(),\n",
    "                                             torch.nn.Linear(1028, 120),\n",
    "                                             torch.nn.ReLU())\n",
    "    def forward(self, x):\n",
    "        x = self.cv_layers(x)\n",
    "        x = x.view(x.size(0), -1)\n",
    "        return self.fc_layers(x)"
   ]
  },
  {
   "cell_type": "code",
   "execution_count": 45,
   "metadata": {
    "hidden": true
   },
   "outputs": [
    {
     "name": "stdout",
     "output_type": "stream",
     "text": [
      "EPOCH: {epoch}\n"
     ]
    },
    {
     "data": {
      "application/vnd.jupyter.widget-view+json": {
       "model_id": "39455597e57f4f93947944c630d12f39",
       "version_major": 2,
       "version_minor": 0
      },
      "text/plain": [
       "HBox(children=(IntProgress(value=0, max=1023), HTML(value='')))"
      ]
     },
     "metadata": {},
     "output_type": "display_data"
    },
    {
     "data": {
      "application/vnd.jupyter.widget-view+json": {
       "model_id": "0fbb32242d1b4fb5a644b2e992106cf7",
       "version_major": 2,
       "version_minor": 0
      },
      "text/plain": [
       "HBox(children=(IntProgress(value=0, max=256), HTML(value='')))"
      ]
     },
     "metadata": {},
     "output_type": "display_data"
    },
    {
     "data": {
      "application/vnd.jupyter.widget-view+json": {
       "model_id": "b7e404d202b940d99442c187d14a165f",
       "version_major": 2,
       "version_minor": 0
      },
      "text/plain": [
       "HBox(children=(IntProgress(value=0, max=1023), HTML(value='')))"
      ]
     },
     "metadata": {},
     "output_type": "display_data"
    },
    {
     "name": "stdout",
     "output_type": "stream",
     "text": [
      "validation accuracy 0.011735941320293397\n",
      "train accuracy 0.01491989727283845\n",
      "EPOCH: {epoch}\n"
     ]
    },
    {
     "data": {
      "application/vnd.jupyter.widget-view+json": {
       "model_id": "f5ec9e75316b44a9af7f90208551921a",
       "version_major": 2,
       "version_minor": 0
      },
      "text/plain": [
       "HBox(children=(IntProgress(value=0, max=1023), HTML(value='')))"
      ]
     },
     "metadata": {},
     "output_type": "display_data"
    },
    {
     "data": {
      "application/vnd.jupyter.widget-view+json": {
       "model_id": "500639666f30408096e80090eec8a99c",
       "version_major": 2,
       "version_minor": 0
      },
      "text/plain": [
       "HBox(children=(IntProgress(value=0, max=256), HTML(value='')))"
      ]
     },
     "metadata": {},
     "output_type": "display_data"
    },
    {
     "data": {
      "application/vnd.jupyter.widget-view+json": {
       "model_id": "f1da9d646d024d119adb0558c5473777",
       "version_major": 2,
       "version_minor": 0
      },
      "text/plain": [
       "HBox(children=(IntProgress(value=0, max=1023), HTML(value='')))"
      ]
     },
     "metadata": {},
     "output_type": "display_data"
    },
    {
     "name": "stdout",
     "output_type": "stream",
     "text": [
      "validation accuracy 0.020537897310513444\n",
      "train accuracy 0.03277485630426807\n",
      "EPOCH: {epoch}\n"
     ]
    },
    {
     "data": {
      "application/vnd.jupyter.widget-view+json": {
       "model_id": "1e40f7f4a5394f80ad446389e6ae21a6",
       "version_major": 2,
       "version_minor": 0
      },
      "text/plain": [
       "HBox(children=(IntProgress(value=0, max=1023), HTML(value='')))"
      ]
     },
     "metadata": {},
     "output_type": "display_data"
    },
    {
     "data": {
      "application/vnd.jupyter.widget-view+json": {
       "model_id": "165f1df73dac423ab9d040095e22f7d7",
       "version_major": 2,
       "version_minor": 0
      },
      "text/plain": [
       "HBox(children=(IntProgress(value=0, max=256), HTML(value='')))"
      ]
     },
     "metadata": {},
     "output_type": "display_data"
    },
    {
     "data": {
      "application/vnd.jupyter.widget-view+json": {
       "model_id": "fee9bd9204804e4f96b55bbf5ffd00d1",
       "version_major": 2,
       "version_minor": 0
      },
      "text/plain": [
       "HBox(children=(IntProgress(value=0, max=1023), HTML(value='')))"
      ]
     },
     "metadata": {},
     "output_type": "display_data"
    },
    {
     "name": "stdout",
     "output_type": "stream",
     "text": [
      "validation accuracy 0.02689486552567237\n",
      "train accuracy 0.04842851901675431\n",
      "EPOCH: {epoch}\n"
     ]
    },
    {
     "data": {
      "application/vnd.jupyter.widget-view+json": {
       "model_id": "59d11a90b0024c2da15db67ce40199dc",
       "version_major": 2,
       "version_minor": 0
      },
      "text/plain": [
       "HBox(children=(IntProgress(value=0, max=1023), HTML(value='')))"
      ]
     },
     "metadata": {},
     "output_type": "display_data"
    },
    {
     "data": {
      "application/vnd.jupyter.widget-view+json": {
       "model_id": "1492b9647c9c4d4f89a01a945dcc51f9",
       "version_major": 2,
       "version_minor": 0
      },
      "text/plain": [
       "HBox(children=(IntProgress(value=0, max=256), HTML(value='')))"
      ]
     },
     "metadata": {},
     "output_type": "display_data"
    },
    {
     "data": {
      "application/vnd.jupyter.widget-view+json": {
       "model_id": "830fc367bf2d4adeb2061ac6e3376c10",
       "version_major": 2,
       "version_minor": 0
      },
      "text/plain": [
       "HBox(children=(IntProgress(value=0, max=1023), HTML(value='')))"
      ]
     },
     "metadata": {},
     "output_type": "display_data"
    },
    {
     "name": "stdout",
     "output_type": "stream",
     "text": [
      "validation accuracy 0.035207823960880194\n",
      "train accuracy 0.05552158493334964\n",
      "EPOCH: {epoch}\n"
     ]
    },
    {
     "data": {
      "application/vnd.jupyter.widget-view+json": {
       "model_id": "bdacc226a18048e3b14244f878443917",
       "version_major": 2,
       "version_minor": 0
      },
      "text/plain": [
       "HBox(children=(IntProgress(value=0, max=1023), HTML(value='')))"
      ]
     },
     "metadata": {},
     "output_type": "display_data"
    },
    {
     "data": {
      "application/vnd.jupyter.widget-view+json": {
       "model_id": "0fe60962a70041c288b88f72dbeb0072",
       "version_major": 2,
       "version_minor": 0
      },
      "text/plain": [
       "HBox(children=(IntProgress(value=0, max=256), HTML(value='')))"
      ]
     },
     "metadata": {},
     "output_type": "display_data"
    },
    {
     "data": {
      "application/vnd.jupyter.widget-view+json": {
       "model_id": "11f7b9995f04402ba5739bb3dca80a6a",
       "version_major": 2,
       "version_minor": 0
      },
      "text/plain": [
       "HBox(children=(IntProgress(value=0, max=1023), HTML(value='')))"
      ]
     },
     "metadata": {},
     "output_type": "display_data"
    },
    {
     "name": "stdout",
     "output_type": "stream",
     "text": [
      "validation accuracy 0.04156479217603912\n",
      "train accuracy 0.08560596795890914\n"
     ]
    }
   ],
   "source": [
    "DATA_PATH = '/home/ubuntu/data/dogbreed/tmp/funk/340'\n",
    "\n",
    "epochs = 5\n",
    "bs = 8\n",
    "n_work = 1\n",
    "learn_rate = 1e-3\n",
    "\n",
    "train_labels_df = labels_df.iloc[train_idxs].reset_index(drop=True)\n",
    "val_labels_df = labels_df.iloc[val_idxs].reset_index(drop=True)\n",
    "tfm = tv.transforms.Compose([pil_tform, tv.transforms.ToTensor()])\n",
    "train_ds = DogsDataset(train_labels_df, DATA_PATH, transform=tfm)\n",
    "val_ds = DogsDataset(val_labels_df, DATA_PATH, transform=tfm)\n",
    "\n",
    "trainloader = DataLoader(train_ds, batch_size=bs, shuffle=True, num_workers=n_work, pin_memory=True)\n",
    "validationloader = DataLoader(val_ds, batch_size=bs, shuffle=True, num_workers=n_work, pin_memory=True)\n",
    "\n",
    "model = SimpleCNN().to(device)\n",
    "fit(model, trainloader, validationloader, learn_rate, epochs)"
   ]
  },
  {
   "cell_type": "markdown",
   "metadata": {
    "heading_collapsed": true
   },
   "source": [
    "# Model 2"
   ]
  },
  {
   "cell_type": "code",
   "execution_count": null,
   "metadata": {
    "hidden": true
   },
   "outputs": [],
   "source": [
    "def train_epoch(trainloader, model, criterion, optimizer):\n",
    "    ''' run a single epoch of training'''\n",
    "    for idx, (input, target) in enumerate(tqdm(trainloader)):\n",
    "        output = model(input.to(device))\n",
    "        loss = criterion(output, target.to(device))\n",
    "        optimizer.zero_grad()\n",
    "        loss.backward()\n",
    "        optimizer.step()\n",
    "\n",
    "def evaluate(validationloader, model, criterion):\n",
    "    '''evaluate the model'''\n",
    "    model.eval()\n",
    "    loss_cum = loss_n = correct_cum = correct_n = 0\n",
    "    for idx, (input, target) in enumerate(tqdm(validationloader)):\n",
    "        output = model(input.to(device))\n",
    "        _, preds = output.max(1)\n",
    "        correct_cum += (preds == target.to(device)).double().sum()\n",
    "        correct_n += len(target)\n",
    "        loss_cum += criterion(output, target.to(device)).data\n",
    "        loss_n +=1\n",
    "    return (loss_cum / loss_n).item(), (correct_cum / correct_n).item()\n",
    "        \n",
    "def fit(model, trainloader, validationloader, learn_rate, epochs):\n",
    "    criterion = torch.nn.CrossEntropyLoss().to(device)\n",
    "    optimizer = torch.optim.SGD(model.parameters(), learn_rate, momentum=0.9, weight_decay=1e-4)\n",
    "    for epoch in range(1, epochs + 1):\n",
    "        print(f'EPOCH: {epoch}')\n",
    "        train_epoch(trainloader, model, criterion, optimizer)\n",
    "        val_loss, val_acc = evaluate(validationloader, model, criterion)\n",
    "        train_loss, train_acc = evaluate(trainloader, model, criterion)\n",
    "        print(f'val_loss {val_loss}')\n",
    "        print(f'trn_loss {train_loss}')\n",
    "        print(f'val_acc {val_acc}')\n",
    "        print(f'trn_acc {train_acc}')"
   ]
  },
  {
   "cell_type": "code",
   "execution_count": 52,
   "metadata": {
    "hidden": true
   },
   "outputs": [
    {
     "name": "stdout",
     "output_type": "stream",
     "text": [
      "EPOCH: 1\n"
     ]
    },
    {
     "data": {
      "application/vnd.jupyter.widget-view+json": {
       "model_id": "6fd8a8bcfc0346ea8da25c8a147f52d7",
       "version_major": 2,
       "version_minor": 0
      },
      "text/plain": [
       "HBox(children=(IntProgress(value=0, max=1023), HTML(value='')))"
      ]
     },
     "metadata": {},
     "output_type": "display_data"
    },
    {
     "data": {
      "application/vnd.jupyter.widget-view+json": {
       "model_id": "82bddb67dfa74305a62aee6563050f6b",
       "version_major": 2,
       "version_minor": 0
      },
      "text/plain": [
       "HBox(children=(IntProgress(value=0, max=256), HTML(value='')))"
      ]
     },
     "metadata": {},
     "output_type": "display_data"
    },
    {
     "data": {
      "application/vnd.jupyter.widget-view+json": {
       "model_id": "a139e4241c1a45fb81d78001ed6b725e",
       "version_major": 2,
       "version_minor": 0
      },
      "text/plain": [
       "HBox(children=(IntProgress(value=0, max=1023), HTML(value='')))"
      ]
     },
     "metadata": {},
     "output_type": "display_data"
    },
    {
     "name": "stdout",
     "output_type": "stream",
     "text": [
      "validation accuracy 0.5075794621026894\n",
      "train accuracy 0.5554604378133791\n",
      "EPOCH: 2\n"
     ]
    },
    {
     "data": {
      "application/vnd.jupyter.widget-view+json": {
       "model_id": "187971f5a2144f46ab9502e3738052f0",
       "version_major": 2,
       "version_minor": 0
      },
      "text/plain": [
       "HBox(children=(IntProgress(value=0, max=1023), HTML(value='')))"
      ]
     },
     "metadata": {},
     "output_type": "display_data"
    },
    {
     "data": {
      "application/vnd.jupyter.widget-view+json": {
       "model_id": "04bd9c3b29d74271931c96686ed613f1",
       "version_major": 2,
       "version_minor": 0
      },
      "text/plain": [
       "HBox(children=(IntProgress(value=0, max=256), HTML(value='')))"
      ]
     },
     "metadata": {},
     "output_type": "display_data"
    },
    {
     "data": {
      "application/vnd.jupyter.widget-view+json": {
       "model_id": "87737b677a864285b25bce178fc7effb",
       "version_major": 2,
       "version_minor": 0
      },
      "text/plain": [
       "HBox(children=(IntProgress(value=0, max=1023), HTML(value='')))"
      ]
     },
     "metadata": {},
     "output_type": "display_data"
    },
    {
     "name": "stdout",
     "output_type": "stream",
     "text": [
      "validation accuracy 0.6102689486552567\n",
      "train accuracy 0.701968937263055\n",
      "EPOCH: 3\n"
     ]
    },
    {
     "data": {
      "application/vnd.jupyter.widget-view+json": {
       "model_id": "4f4e77a800a94b2b9461d6ee3a360ff8",
       "version_major": 2,
       "version_minor": 0
      },
      "text/plain": [
       "HBox(children=(IntProgress(value=0, max=1023), HTML(value='')))"
      ]
     },
     "metadata": {},
     "output_type": "display_data"
    },
    {
     "data": {
      "application/vnd.jupyter.widget-view+json": {
       "model_id": "a0d07c5456e3498196837f0074cf82c9",
       "version_major": 2,
       "version_minor": 0
      },
      "text/plain": [
       "HBox(children=(IntProgress(value=0, max=256), HTML(value='')))"
      ]
     },
     "metadata": {},
     "output_type": "display_data"
    },
    {
     "data": {
      "application/vnd.jupyter.widget-view+json": {
       "model_id": "21c0da18148547b2ba4375c815f8fed3",
       "version_major": 2,
       "version_minor": 0
      },
      "text/plain": [
       "HBox(children=(IntProgress(value=0, max=1023), HTML(value='')))"
      ]
     },
     "metadata": {},
     "output_type": "display_data"
    },
    {
     "name": "stdout",
     "output_type": "stream",
     "text": [
      "validation accuracy 0.6650366748166259\n",
      "train accuracy 0.7715543597896539\n",
      "EPOCH: 4\n"
     ]
    },
    {
     "data": {
      "application/vnd.jupyter.widget-view+json": {
       "model_id": "38a0cffc42c646c095a2064f49ce50bc",
       "version_major": 2,
       "version_minor": 0
      },
      "text/plain": [
       "HBox(children=(IntProgress(value=0, max=1023), HTML(value='')))"
      ]
     },
     "metadata": {},
     "output_type": "display_data"
    },
    {
     "data": {
      "application/vnd.jupyter.widget-view+json": {
       "model_id": "61ef9d1454214925a35061008dc5b471",
       "version_major": 2,
       "version_minor": 0
      },
      "text/plain": [
       "HBox(children=(IntProgress(value=0, max=256), HTML(value='')))"
      ]
     },
     "metadata": {},
     "output_type": "display_data"
    },
    {
     "data": {
      "application/vnd.jupyter.widget-view+json": {
       "model_id": "80ba137d31cf4d988ac428611e2abe17",
       "version_major": 2,
       "version_minor": 0
      },
      "text/plain": [
       "HBox(children=(IntProgress(value=0, max=1023), HTML(value='')))"
      ]
     },
     "metadata": {},
     "output_type": "display_data"
    },
    {
     "name": "stdout",
     "output_type": "stream",
     "text": [
      "validation accuracy 0.6767726161369193\n",
      "train accuracy 0.8106885165708695\n",
      "EPOCH: 5\n"
     ]
    },
    {
     "data": {
      "application/vnd.jupyter.widget-view+json": {
       "model_id": "fa935a3b17be44208cf17f45789ca987",
       "version_major": 2,
       "version_minor": 0
      },
      "text/plain": [
       "HBox(children=(IntProgress(value=0, max=1023), HTML(value='')))"
      ]
     },
     "metadata": {},
     "output_type": "display_data"
    },
    {
     "data": {
      "application/vnd.jupyter.widget-view+json": {
       "model_id": "0c0f7babc7ab442dbd27a9aa2f3fdfbc",
       "version_major": 2,
       "version_minor": 0
      },
      "text/plain": [
       "HBox(children=(IntProgress(value=0, max=256), HTML(value='')))"
      ]
     },
     "metadata": {},
     "output_type": "display_data"
    },
    {
     "data": {
      "application/vnd.jupyter.widget-view+json": {
       "model_id": "8d3159a75e1f4da8b6535f9024ac5dba",
       "version_major": 2,
       "version_minor": 0
      },
      "text/plain": [
       "HBox(children=(IntProgress(value=0, max=1023), HTML(value='')))"
      ]
     },
     "metadata": {},
     "output_type": "display_data"
    },
    {
     "name": "stdout",
     "output_type": "stream",
     "text": [
      "validation accuracy 0.671882640586797\n",
      "train accuracy 0.838693897517427\n"
     ]
    }
   ],
   "source": [
    "DATA_PATH = '/home/ubuntu/data/dogbreed/tmp/funk/340'\n",
    "pil_tform = tv.transforms.CenterCrop(224)\n",
    "\n",
    "epochs = 5\n",
    "bs = 8\n",
    "n_work = 1\n",
    "learn_rate = 1e-3\n",
    "\n",
    "train_labels_df = labels_df.iloc[train_idxs].reset_index(drop=True)\n",
    "val_labels_df = labels_df.iloc[val_idxs].reset_index(drop=True)\n",
    "tfm = tv.transforms.Compose([pil_tform, tv.transforms.ToTensor()])\n",
    "train_ds = DogsDataset(train_labels_df, DATA_PATH, transform=tfm)\n",
    "val_ds = DogsDataset(val_labels_df, DATA_PATH, transform=tfm)\n",
    "\n",
    "trainloader = DataLoader(train_ds, batch_size=bs, shuffle=True, num_workers=n_work, pin_memory=True)\n",
    "validationloader = DataLoader(val_ds, batch_size=bs, shuffle=True, num_workers=n_work, pin_memory=True)\n",
    "\n",
    "model = tv.models.resnet18(pretrained=True)\n",
    "for param in model.parameters():\n",
    "    param.requires_grad = False\n",
    "\n",
    "num_fx = model.fc.in_features\n",
    "model.fc = torch.nn.Linear(num_fx, 120)\n",
    "fit(model.to(device), trainloader, validationloader, learn_rate, epochs)"
   ]
  },
  {
   "cell_type": "code",
   "execution_count": 51,
   "metadata": {
    "hidden": true
   },
   "outputs": [
    {
     "name": "stdout",
     "output_type": "stream",
     "text": [
      "EPOCH: 1\n"
     ]
    },
    {
     "data": {
      "application/vnd.jupyter.widget-view+json": {
       "model_id": "fe4cdfa3aad8442386b94c9c803f27f6",
       "version_major": 2,
       "version_minor": 0
      },
      "text/plain": [
       "HBox(children=(IntProgress(value=0, max=1023), HTML(value='')))"
      ]
     },
     "metadata": {},
     "output_type": "display_data"
    },
    {
     "data": {
      "application/vnd.jupyter.widget-view+json": {
       "model_id": "ee05998f1038462f8371d85bd4855689",
       "version_major": 2,
       "version_minor": 0
      },
      "text/plain": [
       "HBox(children=(IntProgress(value=0, max=256), HTML(value='')))"
      ]
     },
     "metadata": {},
     "output_type": "display_data"
    },
    {
     "data": {
      "application/vnd.jupyter.widget-view+json": {
       "model_id": "75834d8efbd34fa6b07525a83dc1ff4b",
       "version_major": 2,
       "version_minor": 0
      },
      "text/plain": [
       "HBox(children=(IntProgress(value=0, max=1023), HTML(value='')))"
      ]
     },
     "metadata": {},
     "output_type": "display_data"
    },
    {
     "name": "stdout",
     "output_type": "stream",
     "text": [
      "validation accuracy 0.5349633251833741\n",
      "train accuracy 0.6114711997064939\n",
      "EPOCH: 2\n"
     ]
    },
    {
     "data": {
      "application/vnd.jupyter.widget-view+json": {
       "model_id": "04f0f0f355be4bbbb18073ef53ddd5fd",
       "version_major": 2,
       "version_minor": 0
      },
      "text/plain": [
       "HBox(children=(IntProgress(value=0, max=1023), HTML(value='')))"
      ]
     },
     "metadata": {},
     "output_type": "display_data"
    },
    {
     "data": {
      "application/vnd.jupyter.widget-view+json": {
       "model_id": "bca8bff15b4a4cf9a4a2fb7f4abdf1d3",
       "version_major": 2,
       "version_minor": 0
      },
      "text/plain": [
       "HBox(children=(IntProgress(value=0, max=256), HTML(value='')))"
      ]
     },
     "metadata": {},
     "output_type": "display_data"
    },
    {
     "data": {
      "application/vnd.jupyter.widget-view+json": {
       "model_id": "d93c2844ecf94ccc82f267d78f390864",
       "version_major": 2,
       "version_minor": 0
      },
      "text/plain": [
       "HBox(children=(IntProgress(value=0, max=1023), HTML(value='')))"
      ]
     },
     "metadata": {},
     "output_type": "display_data"
    },
    {
     "name": "stdout",
     "output_type": "stream",
     "text": [
      "validation accuracy 0.6009779951100244\n",
      "train accuracy 0.7365782071664425\n",
      "EPOCH: 3\n"
     ]
    },
    {
     "data": {
      "application/vnd.jupyter.widget-view+json": {
       "model_id": "1f644803cd6244029d39df5aa5766fd4",
       "version_major": 2,
       "version_minor": 0
      },
      "text/plain": [
       "HBox(children=(IntProgress(value=0, max=1023), HTML(value='')))"
      ]
     },
     "metadata": {},
     "output_type": "display_data"
    },
    {
     "data": {
      "application/vnd.jupyter.widget-view+json": {
       "model_id": "f3cc374518a6455f90741537d5f4e4bf",
       "version_major": 2,
       "version_minor": 0
      },
      "text/plain": [
       "HBox(children=(IntProgress(value=0, max=256), HTML(value='')))"
      ]
     },
     "metadata": {},
     "output_type": "display_data"
    },
    {
     "data": {
      "application/vnd.jupyter.widget-view+json": {
       "model_id": "1de6f86481084167ba9018f6b3e18f02",
       "version_major": 2,
       "version_minor": 0
      },
      "text/plain": [
       "HBox(children=(IntProgress(value=0, max=1023), HTML(value='')))"
      ]
     },
     "metadata": {},
     "output_type": "display_data"
    },
    {
     "name": "stdout",
     "output_type": "stream",
     "text": [
      "validation accuracy 0.5731051344743275\n",
      "train accuracy 0.7541885777179895\n",
      "EPOCH: 4\n"
     ]
    },
    {
     "data": {
      "application/vnd.jupyter.widget-view+json": {
       "model_id": "81160ff5a8a742a0bc25d88dbb67a68f",
       "version_major": 2,
       "version_minor": 0
      },
      "text/plain": [
       "HBox(children=(IntProgress(value=0, max=1023), HTML(value='')))"
      ]
     },
     "metadata": {},
     "output_type": "display_data"
    },
    {
     "data": {
      "application/vnd.jupyter.widget-view+json": {
       "model_id": "005b9a2b91224a8fbf4162c30d87e131",
       "version_major": 2,
       "version_minor": 0
      },
      "text/plain": [
       "HBox(children=(IntProgress(value=0, max=256), HTML(value='')))"
      ]
     },
     "metadata": {},
     "output_type": "display_data"
    },
    {
     "data": {
      "application/vnd.jupyter.widget-view+json": {
       "model_id": "3e441fc29845462c9ffb981176ea5b71",
       "version_major": 2,
       "version_minor": 0
      },
      "text/plain": [
       "HBox(children=(IntProgress(value=0, max=1023), HTML(value='')))"
      ]
     },
     "metadata": {},
     "output_type": "display_data"
    },
    {
     "name": "stdout",
     "output_type": "stream",
     "text": [
      "validation accuracy 0.5716381418092908\n",
      "train accuracy 0.7880640821817293\n",
      "EPOCH: 5\n"
     ]
    },
    {
     "data": {
      "application/vnd.jupyter.widget-view+json": {
       "model_id": "ddb67da916aa4259af3e72d3a8096f90",
       "version_major": 2,
       "version_minor": 0
      },
      "text/plain": [
       "HBox(children=(IntProgress(value=0, max=1023), HTML(value='')))"
      ]
     },
     "metadata": {},
     "output_type": "display_data"
    },
    {
     "data": {
      "application/vnd.jupyter.widget-view+json": {
       "model_id": "f583b46d50b54a21b3ad9cf17ba2a941",
       "version_major": 2,
       "version_minor": 0
      },
      "text/plain": [
       "HBox(children=(IntProgress(value=0, max=256), HTML(value='')))"
      ]
     },
     "metadata": {},
     "output_type": "display_data"
    },
    {
     "data": {
      "application/vnd.jupyter.widget-view+json": {
       "model_id": "90e749e82e7a4f08b1b64e0d90e97f8f",
       "version_major": 2,
       "version_minor": 0
      },
      "text/plain": [
       "HBox(children=(IntProgress(value=0, max=1023), HTML(value='')))"
      ]
     },
     "metadata": {},
     "output_type": "display_data"
    },
    {
     "name": "stdout",
     "output_type": "stream",
     "text": [
      "validation accuracy 0.6078239608801955\n",
      "train accuracy 0.8728139904610493\n"
     ]
    }
   ],
   "source": [
    "DATA_PATH = '/home/ubuntu/data/dogbreed/tmp/funk/340'\n",
    "pil_tform = tv.transforms.CenterCrop(224)\n",
    "\n",
    "epochs = 5\n",
    "bs = 8\n",
    "n_work = 1\n",
    "learn_rate = 1e-2\n",
    "\n",
    "train_labels_df = labels_df.iloc[train_idxs].reset_index(drop=True)\n",
    "val_labels_df = labels_df.iloc[val_idxs].reset_index(drop=True)\n",
    "tfm = tv.transforms.Compose([pil_tform, tv.transforms.ToTensor()])\n",
    "train_ds = DogsDataset(train_labels_df, DATA_PATH, transform=tfm)\n",
    "val_ds = DogsDataset(val_labels_df, DATA_PATH, transform=tfm)\n",
    "\n",
    "trainloader = DataLoader(train_ds, batch_size=bs, shuffle=True, num_workers=n_work, pin_memory=True)\n",
    "validationloader = DataLoader(val_ds, batch_size=bs, shuffle=True, num_workers=n_work, pin_memory=True)\n",
    "\n",
    "model = tv.models.resnet18(pretrained=True)\n",
    "for param in model.parameters():\n",
    "    param.requires_grad = False\n",
    "\n",
    "num_fx = model.fc.in_features\n",
    "model.fc = torch.nn.Linear(num_fx, 120)\n",
    "fit(model.to(device), trainloader, validationloader, learn_rate, epochs)"
   ]
  },
  {
   "cell_type": "code",
   "execution_count": 50,
   "metadata": {
    "hidden": true
   },
   "outputs": [
    {
     "name": "stdout",
     "output_type": "stream",
     "text": [
      "EPOCH: 1\n"
     ]
    },
    {
     "data": {
      "application/vnd.jupyter.widget-view+json": {
       "model_id": "105cc57bfca54cd78bc54fd24ea5a5bd",
       "version_major": 2,
       "version_minor": 0
      },
      "text/plain": [
       "HBox(children=(IntProgress(value=0, max=1023), HTML(value='')))"
      ]
     },
     "metadata": {},
     "output_type": "display_data"
    },
    {
     "data": {
      "application/vnd.jupyter.widget-view+json": {
       "model_id": "b2f2d356af2e40b29ccd628dadd27c9c",
       "version_major": 2,
       "version_minor": 0
      },
      "text/plain": [
       "HBox(children=(IntProgress(value=0, max=256), HTML(value='')))"
      ]
     },
     "metadata": {},
     "output_type": "display_data"
    },
    {
     "data": {
      "application/vnd.jupyter.widget-view+json": {
       "model_id": "f72df36406294bca808a1eef78ce5349",
       "version_major": 2,
       "version_minor": 0
      },
      "text/plain": [
       "HBox(children=(IntProgress(value=0, max=1023), HTML(value='')))"
      ]
     },
     "metadata": {},
     "output_type": "display_data"
    },
    {
     "name": "stdout",
     "output_type": "stream",
     "text": [
      "validation accuracy 0.45232273838630804\n",
      "train accuracy 0.5109453344747462\n",
      "EPOCH: 2\n"
     ]
    },
    {
     "data": {
      "application/vnd.jupyter.widget-view+json": {
       "model_id": "f9442a3f947c4bc1b91716d0e7080e8d",
       "version_major": 2,
       "version_minor": 0
      },
      "text/plain": [
       "HBox(children=(IntProgress(value=0, max=1023), HTML(value='')))"
      ]
     },
     "metadata": {},
     "output_type": "display_data"
    },
    {
     "data": {
      "application/vnd.jupyter.widget-view+json": {
       "model_id": "413f80bbcffc4eebac83254c11715ece",
       "version_major": 2,
       "version_minor": 0
      },
      "text/plain": [
       "HBox(children=(IntProgress(value=0, max=256), HTML(value='')))"
      ]
     },
     "metadata": {},
     "output_type": "display_data"
    },
    {
     "data": {
      "application/vnd.jupyter.widget-view+json": {
       "model_id": "7d1a9fb3cfe243f1ac46d7942544e7f0",
       "version_major": 2,
       "version_minor": 0
      },
      "text/plain": [
       "HBox(children=(IntProgress(value=0, max=1023), HTML(value='')))"
      ]
     },
     "metadata": {},
     "output_type": "display_data"
    },
    {
     "name": "stdout",
     "output_type": "stream",
     "text": [
      "validation accuracy 0.6322738386308068\n",
      "train accuracy 0.6855815091109209\n",
      "EPOCH: 3\n"
     ]
    },
    {
     "data": {
      "application/vnd.jupyter.widget-view+json": {
       "model_id": "0a1b2b7d60f7428f9c1288127f15819b",
       "version_major": 2,
       "version_minor": 0
      },
      "text/plain": [
       "HBox(children=(IntProgress(value=0, max=1023), HTML(value='')))"
      ]
     },
     "metadata": {},
     "output_type": "display_data"
    },
    {
     "data": {
      "application/vnd.jupyter.widget-view+json": {
       "model_id": "85e4dca78e044236ab6bf2506bc02739",
       "version_major": 2,
       "version_minor": 0
      },
      "text/plain": [
       "HBox(children=(IntProgress(value=0, max=256), HTML(value='')))"
      ]
     },
     "metadata": {},
     "output_type": "display_data"
    },
    {
     "data": {
      "application/vnd.jupyter.widget-view+json": {
       "model_id": "1f65d5bdf23149658c601b6bf4ffc3cd",
       "version_major": 2,
       "version_minor": 0
      },
      "text/plain": [
       "HBox(children=(IntProgress(value=0, max=1023), HTML(value='')))"
      ]
     },
     "metadata": {},
     "output_type": "display_data"
    },
    {
     "name": "stdout",
     "output_type": "stream",
     "text": [
      "validation accuracy 0.6342298288508557\n",
      "train accuracy 0.7250825486119604\n",
      "EPOCH: 4\n"
     ]
    },
    {
     "data": {
      "application/vnd.jupyter.widget-view+json": {
       "model_id": "2af777411e504b68801f8e0a2ee38c20",
       "version_major": 2,
       "version_minor": 0
      },
      "text/plain": [
       "HBox(children=(IntProgress(value=0, max=1023), HTML(value='')))"
      ]
     },
     "metadata": {},
     "output_type": "display_data"
    },
    {
     "data": {
      "application/vnd.jupyter.widget-view+json": {
       "model_id": "7a01d87b11c841339276e1664c7a1e15",
       "version_major": 2,
       "version_minor": 0
      },
      "text/plain": [
       "HBox(children=(IntProgress(value=0, max=256), HTML(value='')))"
      ]
     },
     "metadata": {},
     "output_type": "display_data"
    },
    {
     "data": {
      "application/vnd.jupyter.widget-view+json": {
       "model_id": "4752ba86f19641eb9b46188890063bb4",
       "version_major": 2,
       "version_minor": 0
      },
      "text/plain": [
       "HBox(children=(IntProgress(value=0, max=1023), HTML(value='')))"
      ]
     },
     "metadata": {},
     "output_type": "display_data"
    },
    {
     "name": "stdout",
     "output_type": "stream",
     "text": [
      "validation accuracy 0.6645476772616137\n",
      "train accuracy 0.7574905221964046\n",
      "EPOCH: 5\n"
     ]
    },
    {
     "data": {
      "application/vnd.jupyter.widget-view+json": {
       "model_id": "ea45b21a9ba645bfa6f60d29c58bf1fb",
       "version_major": 2,
       "version_minor": 0
      },
      "text/plain": [
       "HBox(children=(IntProgress(value=0, max=1023), HTML(value='')))"
      ]
     },
     "metadata": {},
     "output_type": "display_data"
    },
    {
     "data": {
      "application/vnd.jupyter.widget-view+json": {
       "model_id": "eb20ff899cfb41999e46871fe0ab336c",
       "version_major": 2,
       "version_minor": 0
      },
      "text/plain": [
       "HBox(children=(IntProgress(value=0, max=256), HTML(value='')))"
      ]
     },
     "metadata": {},
     "output_type": "display_data"
    },
    {
     "data": {
      "application/vnd.jupyter.widget-view+json": {
       "model_id": "9f1f23d510164a2d84ab3a11c6640e2d",
       "version_major": 2,
       "version_minor": 0
      },
      "text/plain": [
       "HBox(children=(IntProgress(value=0, max=1023), HTML(value='')))"
      ]
     },
     "metadata": {},
     "output_type": "display_data"
    },
    {
     "name": "stdout",
     "output_type": "stream",
     "text": [
      "validation accuracy 0.6640586797066014\n",
      "train accuracy 0.7726550079491257\n"
     ]
    }
   ],
   "source": [
    "DATA_PATH = '/home/ubuntu/data/dogbreed/tmp/funk/340'\n",
    "tfm = tv.transforms.Compose([\n",
    "    tv.transforms.RandomRotation(10),\n",
    "    tv.transforms.ColorJitter(0.05,0.05,0.05,0.05),\n",
    "    tv.transforms.RandomHorizontalFlip(0.5),\n",
    "    tv.transforms.CenterCrop(224),\n",
    "    tv.transforms.ToTensor(),\n",
    "    tv.transforms.Normalize(mean=[0.485, 0.456, 0.406], std=[0.229, 0.224, 0.225])])\n",
    "\n",
    "epochs = 5\n",
    "bs = 8\n",
    "n_work = 1\n",
    "learn_rate = 1e-3\n",
    "\n",
    "train_labels_df = labels_df.iloc[train_idxs].reset_index(drop=True)\n",
    "val_labels_df = labels_df.iloc[val_idxs].reset_index(drop=True)\n",
    "train_ds = DogsDataset(train_labels_df, DATA_PATH, transform=tfm)\n",
    "val_ds = DogsDataset(val_labels_df, DATA_PATH, transform=tfm)\n",
    "\n",
    "trainloader = DataLoader(train_ds, batch_size=bs, shuffle=True, num_workers=n_work, pin_memory=True)\n",
    "validationloader = DataLoader(val_ds, batch_size=bs, shuffle=True, num_workers=n_work, pin_memory=True)\n",
    "\n",
    "model = tv.models.resnet18(pretrained=True)\n",
    "for param in model.parameters():\n",
    "    param.requires_grad = False\n",
    "\n",
    "num_fx = model.fc.in_features\n",
    "model.fc = torch.nn.Linear(num_fx, 120)\n",
    "fit(model.to(device), trainloader, validationloader, learn_rate, epochs)"
   ]
  },
  {
   "cell_type": "code",
   "execution_count": 129,
   "metadata": {
    "hidden": true
   },
   "outputs": [],
   "source": [
    "model = resnext_101_64x4d()\n",
    "model.load_state_dict(torch.load('/home/ubuntu/data/weights/resnext_101_64x4d.pth'))\n",
    "\n",
    "front_layers = list(model.children())[:8]\n",
    "nf = num_features(front_layers) * 2\n",
    "front_layers += [AdaptiveConcatPool2d(), Flatten()]\n",
    "back_layers = [torch.nn.BatchNorm1d(num_features=nf),\n",
    "               torch.nn.Dropout(p=0.25),\n",
    "               torch.nn.Linear(in_features=nf, out_features=512),\n",
    "               torch.nn.ReLU(),\n",
    "               \n",
    "               torch.nn.BatchNorm1d(num_features=512),\n",
    "               torch.nn.Dropout(p=0.25),\n",
    "               torch.nn.Linear(in_features=512, out_features=120),\n",
    "               torch.nn.LogSoftmax()]\n",
    "\n",
    "front_model = torch.nn.Sequential(*front_layers)\n",
    "back_model = torch.nn.Sequential(*back_layers)\n",
    "\n",
    "for param in front_model.parameters():\n",
    "    param.requires_grad = False\n",
    "    \n",
    "model = torch.nn.Sequential(front_model, back_model)"
   ]
  },
  {
   "cell_type": "code",
   "execution_count": 125,
   "metadata": {
    "hidden": true
   },
   "outputs": [
    {
     "name": "stdout",
     "output_type": "stream",
     "text": [
      "EPOCH: 1\n"
     ]
    },
    {
     "data": {
      "application/vnd.jupyter.widget-view+json": {
       "model_id": "be7d4231b13148f4af36dc91c0958e98",
       "version_major": 2,
       "version_minor": 0
      },
      "text/plain": [
       "HBox(children=(IntProgress(value=0, max=256), HTML(value='')))"
      ]
     },
     "metadata": {},
     "output_type": "display_data"
    },
    {
     "data": {
      "application/vnd.jupyter.widget-view+json": {
       "model_id": "a0efdd70bdbf4d9ca335825e1af4bba4",
       "version_major": 2,
       "version_minor": 0
      },
      "text/plain": [
       "HBox(children=(IntProgress(value=0, max=64), HTML(value='')))"
      ]
     },
     "metadata": {},
     "output_type": "display_data"
    },
    {
     "data": {
      "application/vnd.jupyter.widget-view+json": {
       "model_id": "0c00371d82724fccbc8599da9e1a039f",
       "version_major": 2,
       "version_minor": 0
      },
      "text/plain": [
       "HBox(children=(IntProgress(value=0, max=256), HTML(value='')))"
      ]
     },
     "metadata": {},
     "output_type": "display_data"
    },
    {
     "name": "stdout",
     "output_type": "stream",
     "text": [
      "validation accuracy 0.8166259168704155\n",
      "train accuracy 0.856304268068974\n",
      "EPOCH: 2\n"
     ]
    },
    {
     "data": {
      "application/vnd.jupyter.widget-view+json": {
       "model_id": "6d447b403a5e4cf1a5dc91beb9eac75a",
       "version_major": 2,
       "version_minor": 0
      },
      "text/plain": [
       "HBox(children=(IntProgress(value=0, max=256), HTML(value='')))"
      ]
     },
     "metadata": {},
     "output_type": "display_data"
    },
    {
     "data": {
      "application/vnd.jupyter.widget-view+json": {
       "model_id": "7d49720be7fb4087be66c5357a51ded7",
       "version_major": 2,
       "version_minor": 0
      },
      "text/plain": [
       "HBox(children=(IntProgress(value=0, max=64), HTML(value='')))"
      ]
     },
     "metadata": {},
     "output_type": "display_data"
    },
    {
     "data": {
      "application/vnd.jupyter.widget-view+json": {
       "model_id": "bf58a22f2b8a46d9bfaea0df1ee937a7",
       "version_major": 2,
       "version_minor": 0
      },
      "text/plain": [
       "HBox(children=(IntProgress(value=0, max=256), HTML(value='')))"
      ]
     },
     "metadata": {},
     "output_type": "display_data"
    },
    {
     "name": "stdout",
     "output_type": "stream",
     "text": [
      "validation accuracy 0.8308068459657701\n",
      "train accuracy 0.876360523419347\n",
      "EPOCH: 3\n"
     ]
    },
    {
     "data": {
      "application/vnd.jupyter.widget-view+json": {
       "model_id": "13491e8a1a9a4369a18d3ec234bf4ff5",
       "version_major": 2,
       "version_minor": 0
      },
      "text/plain": [
       "HBox(children=(IntProgress(value=0, max=256), HTML(value='')))"
      ]
     },
     "metadata": {},
     "output_type": "display_data"
    },
    {
     "data": {
      "application/vnd.jupyter.widget-view+json": {
       "model_id": "2bb1e329a83144898872bbf93363128d",
       "version_major": 2,
       "version_minor": 0
      },
      "text/plain": [
       "HBox(children=(IntProgress(value=0, max=64), HTML(value='')))"
      ]
     },
     "metadata": {},
     "output_type": "display_data"
    },
    {
     "data": {
      "application/vnd.jupyter.widget-view+json": {
       "model_id": "b9c5b2d9ff5e4946aca24515a4146fa3",
       "version_major": 2,
       "version_minor": 0
      },
      "text/plain": [
       "HBox(children=(IntProgress(value=0, max=256), HTML(value='')))"
      ]
     },
     "metadata": {},
     "output_type": "display_data"
    },
    {
     "name": "stdout",
     "output_type": "stream",
     "text": [
      "validation accuracy 0.8381418092909535\n",
      "train accuracy 0.8878561819738291\n",
      "EPOCH: 4\n"
     ]
    },
    {
     "data": {
      "application/vnd.jupyter.widget-view+json": {
       "model_id": "eee2d708f63c42b5976d071b27899e8d",
       "version_major": 2,
       "version_minor": 0
      },
      "text/plain": [
       "HBox(children=(IntProgress(value=0, max=256), HTML(value='')))"
      ]
     },
     "metadata": {},
     "output_type": "display_data"
    },
    {
     "data": {
      "application/vnd.jupyter.widget-view+json": {
       "model_id": "7793de6883e2418a894bbbeb2953e4f5",
       "version_major": 2,
       "version_minor": 0
      },
      "text/plain": [
       "HBox(children=(IntProgress(value=0, max=64), HTML(value='')))"
      ]
     },
     "metadata": {},
     "output_type": "display_data"
    },
    {
     "data": {
      "application/vnd.jupyter.widget-view+json": {
       "model_id": "8aea0873d183400bab6a36ef00c2efaf",
       "version_major": 2,
       "version_minor": 0
      },
      "text/plain": [
       "HBox(children=(IntProgress(value=0, max=256), HTML(value='')))"
      ]
     },
     "metadata": {},
     "output_type": "display_data"
    },
    {
     "name": "stdout",
     "output_type": "stream",
     "text": [
      "validation accuracy 0.8405867970660146\n",
      "train accuracy 0.8991072520484286\n",
      "EPOCH: 5\n"
     ]
    },
    {
     "data": {
      "application/vnd.jupyter.widget-view+json": {
       "model_id": "b3414da12a114077a53d8ea7a8f86eb5",
       "version_major": 2,
       "version_minor": 0
      },
      "text/plain": [
       "HBox(children=(IntProgress(value=0, max=256), HTML(value='')))"
      ]
     },
     "metadata": {},
     "output_type": "display_data"
    },
    {
     "data": {
      "application/vnd.jupyter.widget-view+json": {
       "model_id": "0625a0de23b64bebab8d5eb6cc26ab7a",
       "version_major": 2,
       "version_minor": 0
      },
      "text/plain": [
       "HBox(children=(IntProgress(value=0, max=64), HTML(value='')))"
      ]
     },
     "metadata": {},
     "output_type": "display_data"
    },
    {
     "data": {
      "application/vnd.jupyter.widget-view+json": {
       "model_id": "f2bcb772a7d240cc81cd901853411d82",
       "version_major": 2,
       "version_minor": 0
      },
      "text/plain": [
       "HBox(children=(IntProgress(value=0, max=256), HTML(value='')))"
      ]
     },
     "metadata": {},
     "output_type": "display_data"
    },
    {
     "name": "stdout",
     "output_type": "stream",
     "text": [
      "validation accuracy 0.8376528117359412\n",
      "train accuracy 0.9059557294851412\n"
     ]
    }
   ],
   "source": [
    "DATA_PATH = '/home/ubuntu/data/dogbreed/tmp/funk/340'\n",
    "tfm = tv.transforms.Compose([\n",
    "    tv.transforms.RandomRotation(10),\n",
    "    tv.transforms.ColorJitter(0.05,0.05,0.05,0.05),\n",
    "    tv.transforms.RandomHorizontalFlip(0.5),\n",
    "    tv.transforms.CenterCrop(224),\n",
    "    tv.transforms.ToTensor(),\n",
    "    tv.transforms.Normalize(mean=[0.485, 0.456, 0.406], std=[0.229, 0.224, 0.225])])\n",
    "\n",
    "epochs = 5\n",
    "bs = 32\n",
    "n_work = 1\n",
    "learn_rate = 1e-3\n",
    "\n",
    "train_labels_df = labels_df.iloc[train_idxs].reset_index(drop=True)\n",
    "val_labels_df = labels_df.iloc[val_idxs].reset_index(drop=True)\n",
    "train_ds = DogsDataset(train_labels_df, DATA_PATH, transform=tfm)\n",
    "val_ds = DogsDataset(val_labels_df, DATA_PATH, transform=tfm)\n",
    "\n",
    "trainloader = DataLoader(train_ds, batch_size=bs, shuffle=True, num_workers=n_work, pin_memory=True)\n",
    "validationloader = DataLoader(val_ds, batch_size=bs, shuffle=True, num_workers=n_work, pin_memory=True)\n",
    "\n",
    "fit(model.to(device), trainloader, validationloader, learn_rate, epochs)"
   ]
  },
  {
   "cell_type": "markdown",
   "metadata": {
    "heading_collapsed": true
   },
   "source": [
    "# Model 3"
   ]
  },
  {
   "cell_type": "code",
   "execution_count": null,
   "metadata": {
    "hidden": true
   },
   "outputs": [],
   "source": [
    "def train_epoch(trainloader, model, criterion, optimizer):\n",
    "    ''' run a single epoch of training'''\n",
    "    for idx, (input, target) in enumerate(tqdm(trainloader)):\n",
    "        output = model(input.to(device))\n",
    "        loss = criterion(output, target.to(device))\n",
    "        optimizer.zero_grad()\n",
    "        loss.backward()\n",
    "        optimizer.step()\n",
    "\n",
    "def evaluate(validationloader, model, criterion):\n",
    "    '''evaluate the model'''\n",
    "    model.eval()\n",
    "    loss_cum = loss_n = correct_cum = correct_n = 0\n",
    "    for idx, (input, target) in enumerate(tqdm(validationloader)):\n",
    "        output = model(input.to(device))\n",
    "        _, preds = output.max(1)\n",
    "        correct_cum += (preds == target.to(device)).double().sum()\n",
    "        correct_n += len(target)\n",
    "        loss_cum += criterion(output, target.to(device)).data\n",
    "        loss_n +=1\n",
    "    return (loss_cum / loss_n).item(), (correct_cum / correct_n).item()\n",
    "        \n",
    "def fit(model, trainloader, validationloader, learn_rate, epochs):\n",
    "    criterion = torch.nn.CrossEntropyLoss().to(device)\n",
    "    optimizer = torch.optim.SGD(model.parameters(), learn_rate, momentum=0.9, weight_decay=1e-4)\n",
    "    for epoch in range(1, epochs + 1):\n",
    "        print(f'EPOCH: {epoch}')\n",
    "        train_epoch(trainloader, model, criterion, optimizer)\n",
    "        val_loss, val_acc = evaluate(validationloader, model, criterion)\n",
    "        train_loss, train_acc = evaluate(trainloader, model, criterion)\n",
    "        print(f'val_loss {val_loss}')\n",
    "        print(f'trn_loss {train_loss}')\n",
    "        print(f'val_acc {val_acc}')\n",
    "        print(f'trn_acc {train_acc}')"
   ]
  },
  {
   "cell_type": "code",
   "execution_count": 83,
   "metadata": {
    "hidden": true
   },
   "outputs": [],
   "source": [
    "model = resnext_101_64x4d()\n",
    "model.load_state_dict(torch.load('/home/ubuntu/data/weights/resnext_101_64x4d.pth'))\n",
    "\n",
    "front_layers = list(model.children())[:8]\n",
    "nf = num_features(front_layers) * 2\n",
    "front_layers += [AdaptiveConcatPool2d(), Flatten()]\n",
    "back_layers = [torch.nn.BatchNorm1d(num_features=nf),\n",
    "               torch.nn.Dropout(p=0.5),\n",
    "               torch.nn.Linear(in_features=nf, out_features=512),\n",
    "               torch.nn.ReLU(),\n",
    "               \n",
    "               torch.nn.BatchNorm1d(num_features=512),\n",
    "               torch.nn.Dropout(p=0.5),\n",
    "               torch.nn.Linear(in_features=512, out_features=120),\n",
    "               torch.nn.LogSoftmax()]\n",
    "\n",
    "front_model = torch.nn.Sequential(*front_layers)\n",
    "for param in front_model.parameters():\n",
    "    param.requires_grad = False\n",
    "    \n",
    "back_model = torch.nn.Sequential(*back_layers)\n",
    "back_model.apply(lambda submodule: cond_init(submodule, torch.nn.init.kaiming_normal_))\n",
    "\n",
    "    \n",
    "model = torch.nn.Sequential(front_model, back_model)"
   ]
  },
  {
   "cell_type": "code",
   "execution_count": 40,
   "metadata": {
    "hidden": true
   },
   "outputs": [
    {
     "name": "stdout",
     "output_type": "stream",
     "text": [
      "EPOCH: 1\n"
     ]
    },
    {
     "data": {
      "application/vnd.jupyter.widget-view+json": {
       "model_id": "e6ff6e62e32f41d696f8d373ae9a5746",
       "version_major": 2,
       "version_minor": 0
      },
      "text/plain": [
       "HBox(children=(IntProgress(value=0, max=32), HTML(value='')))"
      ]
     },
     "metadata": {},
     "output_type": "display_data"
    },
    {
     "data": {
      "application/vnd.jupyter.widget-view+json": {
       "model_id": "b5665f40a06a4c008e937e39c3f3156f",
       "version_major": 2,
       "version_minor": 0
      },
      "text/plain": [
       "HBox(children=(IntProgress(value=0, max=8), HTML(value='')))"
      ]
     },
     "metadata": {},
     "output_type": "display_data"
    },
    {
     "data": {
      "application/vnd.jupyter.widget-view+json": {
       "model_id": "1fdbb0c1abf849db92e17999322f4254",
       "version_major": 2,
       "version_minor": 0
      },
      "text/plain": [
       "HBox(children=(IntProgress(value=0, max=32), HTML(value='')))"
      ]
     },
     "metadata": {},
     "output_type": "display_data"
    },
    {
     "name": "stdout",
     "output_type": "stream",
     "text": [
      "val_loss 0.8843400478363037\n",
      "trn_loss 0.7078558802604675\n",
      "val_acc 0.7985330073349632\n",
      "trn_acc 0.8517793811911459\n",
      "EPOCH: 2\n"
     ]
    },
    {
     "data": {
      "application/vnd.jupyter.widget-view+json": {
       "model_id": "b1db66550e1e4e79b200284442161c30",
       "version_major": 2,
       "version_minor": 0
      },
      "text/plain": [
       "HBox(children=(IntProgress(value=0, max=32), HTML(value='')))"
      ]
     },
     "metadata": {},
     "output_type": "display_data"
    },
    {
     "data": {
      "application/vnd.jupyter.widget-view+json": {
       "model_id": "766a95345e5a47998cc44c02a6e94a5b",
       "version_major": 2,
       "version_minor": 0
      },
      "text/plain": [
       "HBox(children=(IntProgress(value=0, max=8), HTML(value='')))"
      ]
     },
     "metadata": {},
     "output_type": "display_data"
    },
    {
     "data": {
      "application/vnd.jupyter.widget-view+json": {
       "model_id": "8742fa391fa24bdabadb7101c2f9b70e",
       "version_major": 2,
       "version_minor": 0
      },
      "text/plain": [
       "HBox(children=(IntProgress(value=0, max=32), HTML(value='')))"
      ]
     },
     "metadata": {},
     "output_type": "display_data"
    },
    {
     "name": "stdout",
     "output_type": "stream",
     "text": [
      "val_loss 0.7485789060592651\n",
      "trn_loss 0.5386099219322205\n",
      "val_acc 0.8014669926650366\n",
      "trn_acc 0.8761159349394644\n"
     ]
    }
   ],
   "source": [
    "DATA_PATH = '/home/ubuntu/data/dogbreed/tmp/funk/340'\n",
    "tfm = tv.transforms.Compose([\n",
    "    tv.transforms.RandomRotation(10),\n",
    "    tv.transforms.ColorJitter(0.05,0.05,0.05,0.05),\n",
    "    tv.transforms.RandomHorizontalFlip(0.5),\n",
    "    tv.transforms.CenterCrop(224),\n",
    "    tv.transforms.ToTensor(),\n",
    "    tv.transforms.Normalize(mean=[0.485, 0.456, 0.406], std=[0.229, 0.224, 0.225])])\n",
    "\n",
    "epochs = 2\n",
    "bs = 256 #512 -> CUDA OUT OF MEMORY, JH -> 54\n",
    "n_work = 4\n",
    "learn_rate = 1e-2\n",
    "\n",
    "train_labels_df = labels_df.iloc[train_idxs].reset_index(drop=True)\n",
    "val_labels_df = labels_df.iloc[val_idxs].reset_index(drop=True)\n",
    "train_ds = DogsDataset(train_labels_df, DATA_PATH, transform=tfm)\n",
    "val_ds = DogsDataset(val_labels_df, DATA_PATH, transform=tfm)\n",
    "\n",
    "trainloader = DataLoader(train_ds, batch_size=bs, shuffle=True, num_workers=n_work, pin_memory=True)\n",
    "validationloader = DataLoader(val_ds, batch_size=bs, shuffle=True, num_workers=n_work, pin_memory=True)\n",
    "\n",
    "fit(model.to(device), trainloader, validationloader, learn_rate, epochs)\n",
    "\n",
    "#58, 75"
   ]
  },
  {
   "cell_type": "markdown",
   "metadata": {},
   "source": [
    "# Model 4"
   ]
  },
  {
   "cell_type": "code",
   "execution_count": 202,
   "metadata": {},
   "outputs": [],
   "source": [
    "def train_epoch(trainloader, model, criterion, optimizer):\n",
    "    ''' run a single epoch of training'''\n",
    "    t = tqdm(iter(trainloader), leave=False, total=len(trainloader), miniters=0, desc='training')\n",
    "    for input, target in t:\n",
    "        output = model(input.to(device))\n",
    "        loss = criterion(output, target.to(device))\n",
    "        optimizer.zero_grad()\n",
    "        loss.backward()\n",
    "        optimizer.step()\n",
    "\n",
    "def evaluate(validationloader, model, criterion):\n",
    "    '''evaluate the model'''\n",
    "    model.eval()\n",
    "    loss_cum = loss_n = correct_cum = correct_n = 0\n",
    "    t = tqdm(iter(validationloader), leave=False, total=len(validationloader), miniters=0, desc='validation')\n",
    "    for input, target in t:\n",
    "        output = model(input.to(device))\n",
    "        _, preds = output.max(1)\n",
    "        correct_cum += (preds == target.to(device)).double().sum()\n",
    "        correct_n += len(target)\n",
    "        loss_cum += criterion(output, target.to(device)).data\n",
    "        loss_n +=1\n",
    "    return (loss_cum / loss_n).item(), (correct_cum / correct_n).item()\n",
    "        \n",
    "def fit(model, trainloader, validationloader, learn_rate, epochs):\n",
    "    criterion = torch.nn.CrossEntropyLoss().to(device)\n",
    "    optimizer = torch.optim.SGD(model.parameters(), learn_rate, momentum=0.9, weight_decay=1e-4)\n",
    "    for epoch in tqdm(range(1, epochs + 1), desc='epoch'):\n",
    "        train_epoch(trainloader, model, criterion, optimizer)\n",
    "        val_loss, val_acc = evaluate(validationloader, model, criterion)\n",
    "        trn_loss, trn_acc = evaluate(trainloader, model, criterion)\n",
    "        # print message\n",
    "        headings = ['epoch', 'trn_loss', 'val_loss', 'trn_acc', 'val_acc']\n",
    "        stats = [epoch] + [np.round(x, 6) for x in [trn_loss, val_loss, trn_acc, val_acc]]\n",
    "        layout = '{!s:10}' * len(headings)\n",
    "        if epoch == 1:\n",
    "            print(layout.format(*headings))\n",
    "        print(layout.format(*stats))"
   ]
  },
  {
   "cell_type": "code",
   "execution_count": 211,
   "metadata": {},
   "outputs": [],
   "source": [
    "model = resnext_101_64x4d()\n",
    "model.load_state_dict(torch.load('/home/ubuntu/data/weights/resnext_101_64x4d.pth'))\n",
    "\n",
    "front_layers = list(model.children())[:8]\n",
    "nf = num_features(front_layers) * 2\n",
    "front_layers += [AdaptiveConcatPool2d(), Flatten()]\n",
    "back_layers = [torch.nn.BatchNorm1d(num_features=nf),\n",
    "               torch.nn.Dropout(p=0.5),\n",
    "               torch.nn.Linear(in_features=nf, out_features=512),\n",
    "               torch.nn.ReLU(),\n",
    "               \n",
    "               torch.nn.BatchNorm1d(num_features=512),\n",
    "               torch.nn.Dropout(p=0.5),\n",
    "               torch.nn.Linear(in_features=512, out_features=120),\n",
    "               torch.nn.LogSoftmax()]\n",
    "\n",
    "front_model = torch.nn.Sequential(*front_layers)\n",
    "for param in front_model.parameters():\n",
    "    param.requires_grad = False\n",
    "    \n",
    "back_model = torch.nn.Sequential(*back_layers)\n",
    "_ = back_model.apply(lambda submodule: cond_init(submodule, torch.nn.init.kaiming_normal_))\n"
   ]
  },
  {
   "cell_type": "code",
   "execution_count": 212,
   "metadata": {},
   "outputs": [],
   "source": [
    "# Precompute activations\n",
    "DATA_PATH = '/home/ubuntu/data/dogbreed/tmp/funk/340'\n",
    "tfm = tv.transforms.Compose([\n",
    "    tv.transforms.CenterCrop(224),\n",
    "    tv.transforms.ToTensor(),\n",
    "    tv.transforms.Normalize(mean=[0.485, 0.456, 0.406], std=[0.229, 0.224, 0.225])])\n",
    "\n",
    "bs = 128 #512 -> CUDA OUT OF MEMORY, JH -> 54\n",
    "n_work = 4\n",
    "\n",
    "train_labels_df = labels_df.iloc[train_idxs].reset_index(drop=True)\n",
    "val_labels_df = labels_df.iloc[val_idxs].reset_index(drop=True)\n",
    "train_ds = DogsDataset(train_labels_df, DATA_PATH, transform=tfm)\n",
    "val_ds = DogsDataset(val_labels_df, DATA_PATH, transform=tfm)\n",
    "trainloader = DataLoader(train_ds, batch_size=bs, num_workers=n_work, pin_memory=True)\n",
    "validationloader = DataLoader(val_ds, batch_size=bs, num_workers=n_work, pin_memory=True)\n",
    "\n",
    "\n",
    "model = front_model.to(device)\n",
    "\n",
    "path = '/home/ubuntu/data/dogbreed/tmp/funk/precompute'\n",
    "#bc = bcolz.carray(np.zeros((0, 4096), dtype=np.float32), rootdir=path, mode='w', chunklen=1)\n",
    "#for idx, (input, target) in enumerate(tqdm(trainloader)):\n",
    "#    output = model(input.to(device))\n",
    "#    bc.append(output)\n",
    "#    bc.flush()\n",
    "    \n",
    "path = '/home/ubuntu/data/dogbreed/tmp/funk/precompute_val'\n",
    "#bc = bcolz.carray(np.zeros((0, 4096), dtype=np.float32), rootdir=path, mode='w', chunklen=1)\n",
    "#for idx, (input, target) in enumerate(tqdm(validationloader)):\n",
    "#    output = model(input.to(device))\n",
    "#    bc.append(output)\n",
    "#    bc.flush()"
   ]
  },
  {
   "cell_type": "code",
   "execution_count": 215,
   "metadata": {},
   "outputs": [
    {
     "data": {
      "application/vnd.jupyter.widget-view+json": {
       "model_id": "2a21b91c5cbc49f190c1f18df1eeba1c",
       "version_major": 2,
       "version_minor": 0
      },
      "text/plain": [
       "HBox(children=(IntProgress(value=0, description='epoch', max=5, style=ProgressStyle(description_width='initial…"
      ]
     },
     "metadata": {},
     "output_type": "display_data"
    },
    {
     "data": {
      "application/vnd.jupyter.widget-view+json": {
       "model_id": "",
       "version_major": 2,
       "version_minor": 0
      },
      "text/plain": [
       "HBox(children=(IntProgress(value=0, description='training', max=64, style=ProgressStyle(description_width='ini…"
      ]
     },
     "metadata": {},
     "output_type": "display_data"
    },
    {
     "data": {
      "application/vnd.jupyter.widget-view+json": {
       "model_id": "",
       "version_major": 2,
       "version_minor": 0
      },
      "text/plain": [
       "HBox(children=(IntProgress(value=0, description='validation', max=16, style=ProgressStyle(description_width='i…"
      ]
     },
     "metadata": {},
     "output_type": "display_data"
    },
    {
     "data": {
      "application/vnd.jupyter.widget-view+json": {
       "model_id": "",
       "version_major": 2,
       "version_minor": 0
      },
      "text/plain": [
       "HBox(children=(IntProgress(value=0, description='validation', max=64, style=ProgressStyle(description_width='i…"
      ]
     },
     "metadata": {},
     "output_type": "display_data"
    },
    {
     "name": "stdout",
     "output_type": "stream",
     "text": [
      "epoch     trn_loss  val_loss  trn_acc   val_acc   \n",
      "1         0.064953  0.508096  0.997554  0.845966  \n"
     ]
    },
    {
     "data": {
      "application/vnd.jupyter.widget-view+json": {
       "model_id": "",
       "version_major": 2,
       "version_minor": 0
      },
      "text/plain": [
       "HBox(children=(IntProgress(value=0, description='training', max=64, style=ProgressStyle(description_width='ini…"
      ]
     },
     "metadata": {},
     "output_type": "display_data"
    },
    {
     "data": {
      "application/vnd.jupyter.widget-view+json": {
       "model_id": "",
       "version_major": 2,
       "version_minor": 0
      },
      "text/plain": [
       "HBox(children=(IntProgress(value=0, description='validation', max=16, style=ProgressStyle(description_width='i…"
      ]
     },
     "metadata": {},
     "output_type": "display_data"
    },
    {
     "data": {
      "application/vnd.jupyter.widget-view+json": {
       "model_id": "",
       "version_major": 2,
       "version_minor": 0
      },
      "text/plain": [
       "HBox(children=(IntProgress(value=0, description='validation', max=64, style=ProgressStyle(description_width='i…"
      ]
     },
     "metadata": {},
     "output_type": "display_data"
    },
    {
     "name": "stdout",
     "output_type": "stream",
     "text": [
      "2         0.056065  0.507651  0.99841   0.845477  \n"
     ]
    },
    {
     "data": {
      "application/vnd.jupyter.widget-view+json": {
       "model_id": "",
       "version_major": 2,
       "version_minor": 0
      },
      "text/plain": [
       "HBox(children=(IntProgress(value=0, description='training', max=64, style=ProgressStyle(description_width='ini…"
      ]
     },
     "metadata": {},
     "output_type": "display_data"
    },
    {
     "data": {
      "application/vnd.jupyter.widget-view+json": {
       "model_id": "",
       "version_major": 2,
       "version_minor": 0
      },
      "text/plain": [
       "HBox(children=(IntProgress(value=0, description='validation', max=16, style=ProgressStyle(description_width='i…"
      ]
     },
     "metadata": {},
     "output_type": "display_data"
    },
    {
     "data": {
      "application/vnd.jupyter.widget-view+json": {
       "model_id": "",
       "version_major": 2,
       "version_minor": 0
      },
      "text/plain": [
       "HBox(children=(IntProgress(value=0, description='validation', max=64, style=ProgressStyle(description_width='i…"
      ]
     },
     "metadata": {},
     "output_type": "display_data"
    },
    {
     "name": "stdout",
     "output_type": "stream",
     "text": [
      "3         0.049051  0.507737  0.998899  0.847433  \n"
     ]
    },
    {
     "data": {
      "application/vnd.jupyter.widget-view+json": {
       "model_id": "",
       "version_major": 2,
       "version_minor": 0
      },
      "text/plain": [
       "HBox(children=(IntProgress(value=0, description='training', max=64, style=ProgressStyle(description_width='ini…"
      ]
     },
     "metadata": {},
     "output_type": "display_data"
    },
    {
     "data": {
      "application/vnd.jupyter.widget-view+json": {
       "model_id": "",
       "version_major": 2,
       "version_minor": 0
      },
      "text/plain": [
       "HBox(children=(IntProgress(value=0, description='validation', max=16, style=ProgressStyle(description_width='i…"
      ]
     },
     "metadata": {},
     "output_type": "display_data"
    },
    {
     "data": {
      "application/vnd.jupyter.widget-view+json": {
       "model_id": "",
       "version_major": 2,
       "version_minor": 0
      },
      "text/plain": [
       "HBox(children=(IntProgress(value=0, description='validation', max=64, style=ProgressStyle(description_width='i…"
      ]
     },
     "metadata": {},
     "output_type": "display_data"
    },
    {
     "name": "stdout",
     "output_type": "stream",
     "text": [
      "4         0.043412  0.508225  0.999389  0.847433  \n"
     ]
    },
    {
     "data": {
      "application/vnd.jupyter.widget-view+json": {
       "model_id": "",
       "version_major": 2,
       "version_minor": 0
      },
      "text/plain": [
       "HBox(children=(IntProgress(value=0, description='training', max=64, style=ProgressStyle(description_width='ini…"
      ]
     },
     "metadata": {},
     "output_type": "display_data"
    },
    {
     "data": {
      "application/vnd.jupyter.widget-view+json": {
       "model_id": "",
       "version_major": 2,
       "version_minor": 0
      },
      "text/plain": [
       "HBox(children=(IntProgress(value=0, description='validation', max=16, style=ProgressStyle(description_width='i…"
      ]
     },
     "metadata": {},
     "output_type": "display_data"
    },
    {
     "data": {
      "application/vnd.jupyter.widget-view+json": {
       "model_id": "",
       "version_major": 2,
       "version_minor": 0
      },
      "text/plain": [
       "HBox(children=(IntProgress(value=0, description='validation', max=64, style=ProgressStyle(description_width='i…"
      ]
     },
     "metadata": {},
     "output_type": "display_data"
    },
    {
     "name": "stdout",
     "output_type": "stream",
     "text": [
      "5         0.038824  0.508888  0.999511  0.848411  \n"
     ]
    }
   ],
   "source": [
    "# CAREFUL: this is order dependent - depends on the train indexes used when the\n",
    "# precompute file was written.\n",
    "\n",
    "trn = bcolz.open('/home/ubuntu/data/dogbreed/tmp/funk/precompute')\n",
    "val = bcolz.open('/home/ubuntu/data/dogbreed/tmp/funk/precompute_val')\n",
    "\n",
    "trn_ds = ArrayDataset(trn, train_labels_df['breed'].values)\n",
    "val_ds = ArrayDataset(val, val_labels_df['breed'].values)\n",
    "\n",
    "trainloader = DataLoader(trn_ds, batch_size=bs, num_workers=n_work, pin_memory=True)\n",
    "validationloader = DataLoader(val_ds, batch_size=bs, num_workers=n_work, pin_memory=True)\n",
    "\n",
    "epochs = 5\n",
    "learn_rate = 1e-2\n",
    "\n",
    "fit(back_model.to(device), trainloader, validationloader, learn_rate, epochs)"
   ]
  },
  {
   "cell_type": "code",
   "execution_count": null,
   "metadata": {},
   "outputs": [],
   "source": [
    "# HIT LIST\n",
    "# (1) Loss - is yours correct? esp. traning losses - check the OS imagenet train loop.\n",
    "# (2) Match fast.ai default performance\n",
    "# (3) Implement train loop bells and whistles\n",
    "# (4) Composable training loop  (boot task interface?)"
   ]
  }
 ],
 "metadata": {
  "kernelspec": {
   "display_name": "Python 3",
   "language": "python",
   "name": "python3"
  },
  "language_info": {
   "codemirror_mode": {
    "name": "ipython",
    "version": 3
   },
   "file_extension": ".py",
   "mimetype": "text/x-python",
   "name": "python",
   "nbconvert_exporter": "python",
   "pygments_lexer": "ipython3",
   "version": "3.6.6"
  }
 },
 "nbformat": 4,
 "nbformat_minor": 2
}
