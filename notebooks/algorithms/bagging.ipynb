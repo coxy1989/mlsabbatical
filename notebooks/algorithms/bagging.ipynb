{
 "cells": [
  {
   "cell_type": "code",
   "execution_count": 219,
   "metadata": {},
   "outputs": [],
   "source": [
    "import numpy as np\n",
    "import seaborn as sns\n",
    "import pandas as pd\n",
    "import sys\n",
    "import matplotlib.pyplot as plt\n",
    "from sklearn import datasets, model_selection\n",
    "sns.set(rc={'figure.figsize':(10,10)})"
   ]
  },
  {
   "cell_type": "markdown",
   "metadata": {},
   "source": [
    "Leo Brieman [first described bagging in 1996](https://link.springer.com/content/pdf/10.1023%2FA%3A1018054314350.pdf)"
   ]
  },
  {
   "cell_type": "markdown",
   "metadata": {},
   "source": [
    "### Get some data"
   ]
  },
  {
   "cell_type": "code",
   "execution_count": 281,
   "metadata": {},
   "outputs": [
    {
     "data": {
      "text/html": [
       "<div>\n",
       "<style scoped>\n",
       "    .dataframe tbody tr th:only-of-type {\n",
       "        vertical-align: middle;\n",
       "    }\n",
       "\n",
       "    .dataframe tbody tr th {\n",
       "        vertical-align: top;\n",
       "    }\n",
       "\n",
       "    .dataframe thead th {\n",
       "        text-align: right;\n",
       "    }\n",
       "</style>\n",
       "<table border=\"1\" class=\"dataframe\">\n",
       "  <thead>\n",
       "    <tr style=\"text-align: right;\">\n",
       "      <th></th>\n",
       "      <th>CRIM</th>\n",
       "      <th>ZN</th>\n",
       "      <th>INDUS</th>\n",
       "      <th>CHAS</th>\n",
       "      <th>NOX</th>\n",
       "      <th>RM</th>\n",
       "      <th>AGE</th>\n",
       "      <th>DIS</th>\n",
       "      <th>RAD</th>\n",
       "      <th>TAX</th>\n",
       "      <th>PTRATIO</th>\n",
       "      <th>B</th>\n",
       "      <th>LSTAT</th>\n",
       "      <th>target</th>\n",
       "    </tr>\n",
       "  </thead>\n",
       "  <tbody>\n",
       "    <tr>\n",
       "      <th>76</th>\n",
       "      <td>0.10153</td>\n",
       "      <td>0.0</td>\n",
       "      <td>12.83</td>\n",
       "      <td>0.0</td>\n",
       "      <td>0.437</td>\n",
       "      <td>6.279</td>\n",
       "      <td>74.5</td>\n",
       "      <td>4.0522</td>\n",
       "      <td>5.0</td>\n",
       "      <td>398.0</td>\n",
       "      <td>18.7</td>\n",
       "      <td>373.66</td>\n",
       "      <td>11.97</td>\n",
       "      <td>20.0</td>\n",
       "    </tr>\n",
       "    <tr>\n",
       "      <th>409</th>\n",
       "      <td>14.43830</td>\n",
       "      <td>0.0</td>\n",
       "      <td>18.10</td>\n",
       "      <td>0.0</td>\n",
       "      <td>0.597</td>\n",
       "      <td>6.852</td>\n",
       "      <td>100.0</td>\n",
       "      <td>1.4655</td>\n",
       "      <td>24.0</td>\n",
       "      <td>666.0</td>\n",
       "      <td>20.2</td>\n",
       "      <td>179.36</td>\n",
       "      <td>19.78</td>\n",
       "      <td>27.5</td>\n",
       "    </tr>\n",
       "    <tr>\n",
       "      <th>214</th>\n",
       "      <td>0.28955</td>\n",
       "      <td>0.0</td>\n",
       "      <td>10.59</td>\n",
       "      <td>0.0</td>\n",
       "      <td>0.489</td>\n",
       "      <td>5.412</td>\n",
       "      <td>9.8</td>\n",
       "      <td>3.5875</td>\n",
       "      <td>4.0</td>\n",
       "      <td>277.0</td>\n",
       "      <td>18.6</td>\n",
       "      <td>348.93</td>\n",
       "      <td>29.55</td>\n",
       "      <td>23.7</td>\n",
       "    </tr>\n",
       "    <tr>\n",
       "      <th>13</th>\n",
       "      <td>0.62976</td>\n",
       "      <td>0.0</td>\n",
       "      <td>8.14</td>\n",
       "      <td>0.0</td>\n",
       "      <td>0.538</td>\n",
       "      <td>5.949</td>\n",
       "      <td>61.8</td>\n",
       "      <td>4.7075</td>\n",
       "      <td>4.0</td>\n",
       "      <td>307.0</td>\n",
       "      <td>21.0</td>\n",
       "      <td>396.90</td>\n",
       "      <td>8.26</td>\n",
       "      <td>20.4</td>\n",
       "    </tr>\n",
       "    <tr>\n",
       "      <th>145</th>\n",
       "      <td>2.37934</td>\n",
       "      <td>0.0</td>\n",
       "      <td>19.58</td>\n",
       "      <td>0.0</td>\n",
       "      <td>0.871</td>\n",
       "      <td>6.130</td>\n",
       "      <td>100.0</td>\n",
       "      <td>1.4191</td>\n",
       "      <td>5.0</td>\n",
       "      <td>403.0</td>\n",
       "      <td>14.7</td>\n",
       "      <td>172.91</td>\n",
       "      <td>27.80</td>\n",
       "      <td>13.8</td>\n",
       "    </tr>\n",
       "  </tbody>\n",
       "</table>\n",
       "</div>"
      ],
      "text/plain": [
       "         CRIM   ZN  INDUS  CHAS    NOX     RM    AGE     DIS   RAD    TAX  \\\n",
       "76    0.10153  0.0  12.83   0.0  0.437  6.279   74.5  4.0522   5.0  398.0   \n",
       "409  14.43830  0.0  18.10   0.0  0.597  6.852  100.0  1.4655  24.0  666.0   \n",
       "214   0.28955  0.0  10.59   0.0  0.489  5.412    9.8  3.5875   4.0  277.0   \n",
       "13    0.62976  0.0   8.14   0.0  0.538  5.949   61.8  4.7075   4.0  307.0   \n",
       "145   2.37934  0.0  19.58   0.0  0.871  6.130  100.0  1.4191   5.0  403.0   \n",
       "\n",
       "     PTRATIO       B  LSTAT  target  \n",
       "76      18.7  373.66  11.97    20.0  \n",
       "409     20.2  179.36  19.78    27.5  \n",
       "214     18.6  348.93  29.55    23.7  \n",
       "13      21.0  396.90   8.26    20.4  \n",
       "145     14.7  172.91  27.80    13.8  "
      ]
     },
     "execution_count": 281,
     "metadata": {},
     "output_type": "execute_result"
    }
   ],
   "source": [
    "boston_data = datasets.load_boston()\n",
    "df_boston = pd.DataFrame(boston_data.data,columns=boston_data.feature_names)\n",
    "df_boston['target'] = pd.Series(boston_data.target)\n",
    "train, test = model_selection.train_test_split(df_boston, test_size=0.2)\n",
    "train_X = train.drop('target', axis=1).values\n",
    "train_y = train['target'].values\n",
    "test_X = test.drop('target', axis=1).values\n",
    "test_y = test['target'].values\n",
    "train.head()"
   ]
  },
  {
   "cell_type": "markdown",
   "metadata": {},
   "source": [
    "### Regression Tree Algorithm"
   ]
  },
  {
   "cell_type": "code",
   "execution_count": 343,
   "metadata": {},
   "outputs": [],
   "source": [
    "def compute_sum_split_variance(xs, y, v):\n",
    "    '''xs - 1D array of scalars\n",
    "        v - scalar to split on'''\n",
    "    left = y[xs <= v]\n",
    "    right = y[xs > v]\n",
    "    left_var = 0 if len(left) == 0 else ((left - left.mean()) ** 2).sum()\n",
    "    right_var = 0 if len(right) == 0 else ((right - right.mean()) ** 2).sum()\n",
    "    return  left_var + right_var\n",
    "\n",
    "def node(i, s, p, c, l, r):\n",
    "    return {'internal': i,\n",
    "            'split': s,\n",
    "            'p': p,\n",
    "            'c':c,\n",
    "            'l':l,\n",
    "            'r':r}\n",
    "\n",
    "def splitf(X, y, max_leaf_n):\n",
    "    if X.shape[0] <= max_leaf_n:\n",
    "        return node(False, None, None, y.mean(), None, None)\n",
    "    \n",
    "    lowest_var, best_p_idx, best_split = sys.float_info.max, None, None\n",
    "    for p_idx in range(0, X.shape[1]):\n",
    "        for n_idx in range(0, X.shape[0]):\n",
    "            split = X[n_idx][p_idx]\n",
    "            var = compute_sum_split_variance(X[:,p_idx], y, split)\n",
    "            if var < lowest_var:\n",
    "                lowest_var = var\n",
    "                best_p_idx = p_idx\n",
    "                best_split = split\n",
    "    left_idxs = X[:, best_p_idx] <= best_split\n",
    "    right_idxs = X[:, best_p_idx] > best_split\n",
    "    \n",
    "    if len(y[left_idxs]) == 0 or len(y[right_idxs]) == 0:\n",
    "        # this can only happen if yi = yi+1 ... = yn\n",
    "        # in which case.. there is no benefit to branching more.\n",
    "        assert(np.unique(y).size == 1)\n",
    "        return node(False, None, None, y.mean(), None, None)\n",
    "    \n",
    "    l = splitf(X[left_idxs], y[left_idxs], max_leaf_n)\n",
    "    r = splitf(X[right_idxs], y[right_idxs], max_leaf_n)\n",
    "    return node(True, best_split, best_p_idx, None, l, r)\n",
    "\n",
    "def predict(x, model):\n",
    "    if not model['internal']:\n",
    "        return model['c']\n",
    "    if x[model['p']] <= model['split']:\n",
    "        return predict(x, model['l'])\n",
    "    else:\n",
    "        return predict(x, model['r'])"
   ]
  },
  {
   "cell_type": "code",
   "execution_count": 344,
   "metadata": {},
   "outputs": [
    {
     "name": "stdout",
     "output_type": "stream",
     "text": [
      "training error: 0.4043543931349389\n",
      "test error: 4.514991368632229\n"
     ]
    }
   ],
   "source": [
    "max_leaf_n = 2\n",
    "tree = splitf(train_X, train_y, max_leaf_n)\n",
    "\n",
    "# evaluate training error\n",
    "preds = [predict(r, tree) for r in train_X]\n",
    "print('training error: {}'.format(np.sqrt(((train_y - preds) ** 2).sum() / train_y.shape[0])))\n",
    "\n",
    "# evaluate test error\n",
    "preds = [predict(r, tree) for r in test_X]\n",
    "print('test error: {}'.format(np.sqrt(((test_y - preds) ** 2).sum() / test_y.shape[0])))"
   ]
  },
  {
   "cell_type": "markdown",
   "metadata": {},
   "source": [
    "### Bagging"
   ]
  },
  {
   "cell_type": "code",
   "execution_count": 345,
   "metadata": {},
   "outputs": [],
   "source": [
    "def bagged_predict(x, trees):\n",
    "    return np.array([predict(x, t) for t in trees]).mean()\n",
    "    \n",
    "def bagged_trees(X, y, max_leaf_n, b):\n",
    "    n = X.shape[0]\n",
    "    trees = []\n",
    "    for _ in range(0,b):\n",
    "        b_sample = np.random.randint(0, n, n)\n",
    "        trees.append(splitf(X[b_sample], y[b_sample], max_leaf_n))\n",
    "    return trees"
   ]
  },
  {
   "cell_type": "code",
   "execution_count": 353,
   "metadata": {},
   "outputs": [
    {
     "name": "stdout",
     "output_type": "stream",
     "text": [
      "training error: 1.3357320034904139\n",
      "test error: 3.5211720697940962\n"
     ]
    }
   ],
   "source": [
    "max_leaf_n = 2\n",
    "b = 50\n",
    "trees = bagged_trees(train_X, train_y, max_leaf_n, b)\n",
    "\n",
    "# evaluate training error\n",
    "preds = [bagged_predict(x, trees) for x in train_X]\n",
    "print('training error: {}'.format(np.sqrt(((train_y - preds) ** 2).sum() / train_y.shape[0])))\n",
    "\n",
    "# evaluate test error\n",
    "preds = [bagged_predict(x, trees) for x in test_X]\n",
    "print('test error: {}'.format(np.sqrt(((test_y - preds) ** 2).sum() / test_y.shape[0])))"
   ]
  }
 ],
 "metadata": {
  "kernelspec": {
   "display_name": "Python 3",
   "language": "python",
   "name": "python3"
  },
  "language_info": {
   "codemirror_mode": {
    "name": "ipython",
    "version": 3
   },
   "file_extension": ".py",
   "mimetype": "text/x-python",
   "name": "python",
   "nbconvert_exporter": "python",
   "pygments_lexer": "ipython3",
   "version": "3.6.5"
  }
 },
 "nbformat": 4,
 "nbformat_minor": 2
}
