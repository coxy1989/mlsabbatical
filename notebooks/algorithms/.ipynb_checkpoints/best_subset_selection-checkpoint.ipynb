{
 "cells": [
  {
   "cell_type": "code",
   "execution_count": 6,
   "metadata": {},
   "outputs": [],
   "source": [
    "import pandas as pd\n",
    "import numpy as np\n",
    "import time\n",
    "import seaborn as sns\n",
    "from itertools import combinations\n",
    "from sklearn import model_selection, linear_model, metrics\n",
    "sns.set(rc={'figure.figsize':(10,10)})"
   ]
  },
  {
   "cell_type": "markdown",
   "metadata": {},
   "source": [
    "### Naive Algorithm"
   ]
  },
  {
   "cell_type": "code",
   "execution_count": 2,
   "metadata": {},
   "outputs": [],
   "source": [
    "def n_choose_k(n, k):\n",
    "    return int(np.math.factorial(n) / (np.math.factorial(n - k) * np.math.factorial(k)))\n",
    "\n",
    "def n_choose_upto_k_sum(n, up_to_k):\n",
    "    return np.array([n_choose_k(n, k) for k in range(1, up_to_k + 1)]).sum()\n",
    "    \n",
    "def best_subset(n_predictors, target_column, data):\n",
    "    i = 1\n",
    "    predictors = data.drop(target_column, axis=1).columns\n",
    "    search_size = n_choose_upto_k_sum(len(predictors), n_predictors)\n",
    "    single_fit_time = 0.0012\n",
    "    print('searching over {} models'.format(search_size))\n",
    "    print('estimated time: {} seconds'.format(single_fit_time * search_size))\n",
    "    top_models = []\n",
    "    top_combs = []\n",
    "    loop_tick = time.time() \n",
    "    while i <= n_predictors:\n",
    "        print('-----------')\n",
    "        print('n choose: {}'.format(i))\n",
    "        cmbs = list(combinations(predictors, i))\n",
    "        print('{} combinations'.format(len(cmbs)))\n",
    "        tick = time.time()\n",
    "        top_model = None\n",
    "        top_score = None\n",
    "        top_comb = None\n",
    "        for s in cmbs:\n",
    "            x = data[list(s)]\n",
    "            model = linear_model.LinearRegression().fit(x, data[target_column])\n",
    "            # `score` calculates R^2\n",
    "            score = model.score(x, data[target_column])\n",
    "            if top_score == None or score > top_score:\n",
    "                top_model = model\n",
    "                top_score = score\n",
    "                top_comb = s\n",
    "        tock = time.time()\n",
    "        print('done: {} seconds ({} secs/model)'.format(tock - tick, (tock - tick) / len(cmbs)))\n",
    "        top_models.append(top_model)\n",
    "        top_combs.append(top_comb)\n",
    "        tock = time.time()\n",
    "        i += 1\n",
    "    \n",
    "    print('--- FINISHED ---')\n",
    "    loop_tock = time.time()\n",
    "    print('total time: {} seconds'.format((loop_tock-loop_tick)))\n",
    "    print('secs/model: {}'.format((loop_tock-loop_tick)/ search_size))\n",
    "    return pd.DataFrame({'model' : top_models, 'n_predictors' : range(1, n_predictors + 1)}), top_combs"
   ]
  },
  {
   "cell_type": "markdown",
   "metadata": {},
   "source": [
    "### Generate some data"
   ]
  },
  {
   "cell_type": "code",
   "execution_count": 3,
   "metadata": {},
   "outputs": [],
   "source": [
    "def generate_example_data(n, p, beta, epsilon):\n",
    "    x = np.random.normal(0, 1, (n, p))\n",
    "    eps = np.random.normal(0, epsilon, n)\n",
    "    y = (x @ beta.reshape(-1, 1)) + eps.reshape(-1, 1)\n",
    "    data = pd.DataFrame(x, columns= ['x' + str(i) for i in range(0, x.shape[1])])\n",
    "    data['y'] = y\n",
    "    return model_selection.train_test_split(data, test_size=0.9)\n",
    "\n",
    "def compute_rmses(combs, df, test):\n",
    "    rmses = []\n",
    "    for idx, m in enumerate(df['model']):\n",
    "        comb = combs[idx]\n",
    "        x = test[list(comb)]\n",
    "        preds = m.predict(x)\n",
    "        rmses.append(np.sqrt(metrics.mean_squared_error(test['y'], preds)))\n",
    "    return rmses"
   ]
  },
  {
   "cell_type": "markdown",
   "metadata": {},
   "source": [
    "Example 1: All the predictors are equally associated with the respone"
   ]
  },
  {
   "cell_type": "code",
   "execution_count": 7,
   "metadata": {},
   "outputs": [
    {
     "name": "stdout",
     "output_type": "stream",
     "text": [
      "searching over 1023 models\n",
      "estimated time: 1.2275999999999998 seconds\n",
      "-----------\n",
      "n choose: 1\n",
      "10 combinations\n",
      "done: 0.04711413383483887 seconds (0.004711413383483886 secs/model)\n",
      "-----------\n",
      "n choose: 2\n",
      "45 combinations\n",
      "done: 0.17874789237976074 seconds (0.003972175386216905 secs/model)\n",
      "-----------\n",
      "n choose: 3\n",
      "120 combinations\n",
      "done: 0.36365532875061035 seconds (0.0030304610729217528 secs/model)\n",
      "-----------\n",
      "n choose: 4\n",
      "210 combinations\n",
      "done: 0.6240510940551758 seconds (0.002971671876453218 secs/model)\n",
      "-----------\n",
      "n choose: 5\n",
      "252 combinations\n",
      "done: 0.8620829582214355 seconds (0.0034209641199263317 secs/model)\n",
      "-----------\n",
      "n choose: 6\n",
      "210 combinations\n",
      "done: 0.5611028671264648 seconds (0.002671918414887928 secs/model)\n",
      "-----------\n",
      "n choose: 7\n",
      "120 combinations\n",
      "done: 0.427692174911499 seconds (0.003564101457595825 secs/model)\n",
      "-----------\n",
      "n choose: 8\n",
      "45 combinations\n",
      "done: 0.12628507614135742 seconds (0.0028063350253634983 secs/model)\n",
      "-----------\n",
      "n choose: 9\n",
      "10 combinations\n",
      "done: 0.047712087631225586 seconds (0.004771208763122559 secs/model)\n",
      "-----------\n",
      "n choose: 10\n",
      "1 combinations\n",
      "done: 0.008184671401977539 seconds (0.008184671401977539 secs/model)\n",
      "--- FINISHED ---\n",
      "total time: 3.2517828941345215 seconds\n",
      "secs/model: 0.003178673405801096\n"
     ]
    },
    {
     "data": {
      "text/plain": [
       "<matplotlib.axes._subplots.AxesSubplot at 0x11766da20>"
      ]
     },
     "execution_count": 7,
     "metadata": {},
     "output_type": "execute_result"
    },
    {
     "data": {
      "image/png": "[encoded data removed]",
      "text/plain": [
       "<Figure size 720x720 with 1 Axes>"
      ]
     },
     "metadata": {},
     "output_type": "display_data"
    }
   ],
   "source": [
    "# generate data\n",
    "n = 10000\n",
    "p = 10\n",
    "beta = np.repeat(2, p)\n",
    "train, test = generate_example_data(n, p, beta, 0.2)\n",
    "# search for best subset\n",
    "df, combs = best_subset(10, 'y', train)\n",
    "\n",
    "# evalutate test error for best model for each k\n",
    "rmses = compute_rmses(combs, df, test)\n",
    "    \n",
    "# plot error vs k\n",
    "bar_df = pd.DataFrame({'RMSE' : rmses,'k' : np.arange(1, len(rmses) + 1)})\n",
    "sns.barplot(y='k', x='RMSE', data=bar_df, orient='h')"
   ]
  },
  {
   "cell_type": "markdown",
   "metadata": {},
   "source": [
    "Example 2: Half of the predictors are equally associated with the respone, the rest are not associated with the response"
   ]
  },
  {
   "cell_type": "code",
   "execution_count": 8,
   "metadata": {},
   "outputs": [
    {
     "name": "stdout",
     "output_type": "stream",
     "text": [
      "searching over 1023 models\n",
      "estimated time: 1.2275999999999998 seconds\n",
      "-----------\n",
      "n choose: 1\n",
      "10 combinations\n",
      "done: 0.0265500545501709 seconds (0.0026550054550170898 secs/model)\n",
      "-----------\n",
      "n choose: 2\n",
      "45 combinations\n",
      "done: 0.11518096923828125 seconds (0.0025595770941840277 secs/model)\n",
      "-----------\n",
      "n choose: 3\n",
      "120 combinations\n",
      "done: 0.303617000579834 seconds (0.0025301416714986163 secs/model)\n",
      "-----------\n",
      "n choose: 4\n",
      "210 combinations\n",
      "done: 0.7581140995025635 seconds (0.0036100671404883976 secs/model)\n",
      "-----------\n",
      "n choose: 5\n",
      "252 combinations\n",
      "done: 0.6419248580932617 seconds (0.0025473208654494513 secs/model)\n",
      "-----------\n",
      "n choose: 6\n",
      "210 combinations\n",
      "done: 0.6637990474700928 seconds (0.00316094784509568 secs/model)\n",
      "-----------\n",
      "n choose: 7\n",
      "120 combinations\n",
      "done: 0.31895995140075684 seconds (0.002657999595006307 secs/model)\n",
      "-----------\n",
      "n choose: 8\n",
      "45 combinations\n",
      "done: 0.12230491638183594 seconds (0.002717887030707465 secs/model)\n",
      "-----------\n",
      "n choose: 9\n",
      "10 combinations\n",
      "done: 0.028506040573120117 seconds (0.0028506040573120115 secs/model)\n",
      "-----------\n",
      "n choose: 10\n",
      "1 combinations\n",
      "done: 0.0062408447265625 seconds (0.0062408447265625 secs/model)\n",
      "--- FINISHED ---\n",
      "total time: 2.9921553134918213 seconds\n",
      "secs/model: 0.002924883004390832\n"
     ]
    },
    {
     "data": {
      "text/plain": [
       "<matplotlib.axes._subplots.AxesSubplot at 0x117a612b0>"
      ]
     },
     "execution_count": 8,
     "metadata": {},
     "output_type": "execute_result"
    },
    {
     "data": {
      "image/png": "[encoded data removed]",
      "text/plain": [
       "<Figure size 720x720 with 1 Axes>"
      ]
     },
     "metadata": {},
     "output_type": "display_data"
    }
   ],
   "source": [
    "# generate data\n",
    "n = 10000\n",
    "p = 10\n",
    "beta = np.append(np.repeat(0, 5), np.repeat(2, 5))\n",
    "train, test = generate_example_data(n, p, beta, 0.2)\n",
    "# search for best subset\n",
    "df, combs = best_subset(10, 'y', train)\n",
    "\n",
    "# evalutate test error for best model for each k\n",
    "rmses = compute_rmses(combs, df, test)\n",
    "    \n",
    "# plot error vs k\n",
    "bar_df = pd.DataFrame({'RMSE' : rmses,'k' : np.arange(1, len(rmses) + 1)})\n",
    "sns.barplot(y='k', x='RMSE', data=bar_df, orient='h')"
   ]
  },
  {
   "cell_type": "markdown",
   "metadata": {},
   "source": [
    "### Leaps and Bounds Algorithm"
   ]
  },
  {
   "cell_type": "code",
   "execution_count": null,
   "metadata": {},
   "outputs": [],
   "source": []
  }
 ],
 "metadata": {
  "kernelspec": {
   "display_name": "Python 3",
   "language": "python",
   "name": "python3"
  },
  "language_info": {
   "codemirror_mode": {
    "name": "ipython",
    "version": 3
   },
   "file_extension": ".py",
   "mimetype": "text/x-python",
   "name": "python",
   "nbconvert_exporter": "python",
   "pygments_lexer": "ipython3",
   "version": "3.6.5"
  }
 },
 "nbformat": 4,
 "nbformat_minor": 2
}
