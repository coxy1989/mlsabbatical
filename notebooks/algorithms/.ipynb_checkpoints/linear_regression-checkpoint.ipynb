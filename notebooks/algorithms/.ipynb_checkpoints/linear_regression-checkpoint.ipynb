{
 "cells": [
  {
   "cell_type": "code",
   "execution_count": 2,
   "metadata": {},
   "outputs": [],
   "source": [
    "import numpy as np"
   ]
  },
  {
   "cell_type": "markdown",
   "metadata": {},
   "source": [
    "### Generate some data"
   ]
  },
  {
   "cell_type": "code",
   "execution_count": 3,
   "metadata": {},
   "outputs": [],
   "source": [
    "intercept = 10\n",
    "coefficient = 2\n",
    "x = np.random.normal(0, 1, 100)\n",
    "eps = np.random.normal(0, 1, 100)\n",
    "y = (coefficient * x) + intercept + eps\n",
    "# Add intercept term to x for convenience of notation\n",
    "i = np.repeat(1, x.shape[0])\n",
    "X = np.vstack([i,x]).T"
   ]
  },
  {
   "cell_type": "markdown",
   "metadata": {},
   "source": [
    "### Analytical Solution - Normal Equation"
   ]
  },
  {
   "cell_type": "markdown",
   "metadata": {},
   "source": [
    "We seek coefficients to minimize the Residual Sum of Squares (RSS):\n",
    "\n",
    "$RSS(\\beta) = (\\mathbf{y} - \\mathbf{X} \\beta)^T (\\mathbf{y} - \\mathbf{X} \\beta)$"
   ]
  },
  {
   "cell_type": "markdown",
   "metadata": {},
   "source": [
    "Differentiating *RSS* with respect to the paramaters (β) yields:\n",
    "\n",
    "$\\frac{\\partial RSS}{\\partial \\beta} = -2 \\mathbf{X}^T (\\mathbf{y} - \\mathbf{X} \\beta)$"
   ]
  },
  {
   "cell_type": "markdown",
   "metadata": {},
   "source": [
    "Setting to zero and solving for β:\n",
    "\n",
    "\n",
    "$\\mathbf{X}^T(\\mathbf{y} - \\mathbf{X} \\beta) = 0$\n",
    "\n",
    "$\\beta = (\\mathbf{X}^T \\mathbf{X})^{-1}\\mathbf{X}^T \\mathbf{y}$"
   ]
  },
  {
   "cell_type": "code",
   "execution_count": 4,
   "metadata": {},
   "outputs": [
    {
     "name": "stdout",
     "output_type": "stream",
     "text": [
      "intercept: 10.036901190841963\n",
      "coefficient: 2.002203706392211\n"
     ]
    }
   ],
   "source": [
    "beta = np.linalg.inv(X.T @ X) @ X.T @ y\n",
    "print('intercept: {}'.format(beta[0]))\n",
    "print('coefficient: {}'.format(beta[1]))"
   ]
  },
  {
   "cell_type": "markdown",
   "metadata": {},
   "source": [
    "### Numerical Solution - Gradient Descent"
   ]
  },
  {
   "cell_type": "code",
   "execution_count": 5,
   "metadata": {},
   "outputs": [
    {
     "name": "stdout",
     "output_type": "stream",
     "text": [
      "intercept: 10.03690119084196\n",
      "coefficient: 2.0022037063922093\n"
     ]
    }
   ],
   "source": [
    "def partial_rss_wrt_beta(X, beta):\n",
    "    return -2 * X.T @ (y - (X @ beta))\n",
    "\n",
    "beta = np.repeat(0, 2)\n",
    "alpha = 0.001\n",
    "i = 0  \n",
    "while i < (10 ** 5):\n",
    "    partial = partial_rss_wrt_beta(X, beta)\n",
    "    partial\n",
    "    beta = beta - (alpha * partial)\n",
    "    i += 1\n",
    "\n",
    "print('intercept: {}'.format(beta[0]))\n",
    "print('coefficient: {}'.format(beta[1]))"
   ]
  }
 ],
 "metadata": {
  "kernelspec": {
   "display_name": "Python 3",
   "language": "python",
   "name": "python3"
  },
  "language_info": {
   "codemirror_mode": {
    "name": "ipython",
    "version": 3
   },
   "file_extension": ".py",
   "mimetype": "text/x-python",
   "name": "python",
   "nbconvert_exporter": "python",
   "pygments_lexer": "ipython3",
   "version": "3.6.5"
  }
 },
 "nbformat": 4,
 "nbformat_minor": 2
}
