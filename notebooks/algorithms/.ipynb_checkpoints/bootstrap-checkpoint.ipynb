{
 "cells": [
  {
   "cell_type": "code",
   "execution_count": 2,
   "metadata": {},
   "outputs": [],
   "source": [
    "import numpy as np"
   ]
  },
  {
   "cell_type": "markdown",
   "metadata": {},
   "source": [
    "The [bootstrap](https://en.wikipedia.org/wiki/Bootstrapping_(statistics)) was cooked up by Brad Effron (Hastie's and Tibshirani's supervisor) at Stanford in 1979."
   ]
  },
  {
   "cell_type": "markdown",
   "metadata": {},
   "source": [
    "### Algorithm\n",
    "\n",
    "*This is a trivial algorithm - the bootstrap is simply sampling with replacement*."
   ]
  },
  {
   "cell_type": "code",
   "execution_count": 18,
   "metadata": {},
   "outputs": [
    {
     "data": {
      "text/plain": [
       "[array([[1],\n",
       "        [4],\n",
       "        [8],\n",
       "        [8],\n",
       "        [7],\n",
       "        [9],\n",
       "        [2],\n",
       "        [9],\n",
       "        [4],\n",
       "        [3]]), array([[2],\n",
       "        [2],\n",
       "        [9],\n",
       "        [0],\n",
       "        [8],\n",
       "        [7],\n",
       "        [8],\n",
       "        [0],\n",
       "        [1],\n",
       "        [7]]), array([[9],\n",
       "        [3],\n",
       "        [0],\n",
       "        [1],\n",
       "        [2],\n",
       "        [7],\n",
       "        [8],\n",
       "        [0],\n",
       "        [5],\n",
       "        [2]]), array([[1],\n",
       "        [4],\n",
       "        [4],\n",
       "        [7],\n",
       "        [7],\n",
       "        [4],\n",
       "        [6],\n",
       "        [3],\n",
       "        [9],\n",
       "        [4]]), array([[1],\n",
       "        [1],\n",
       "        [5],\n",
       "        [1],\n",
       "        [9],\n",
       "        [6],\n",
       "        [3],\n",
       "        [5],\n",
       "        [3],\n",
       "        [5]])]"
      ]
     },
     "execution_count": 18,
     "metadata": {},
     "output_type": "execute_result"
    }
   ],
   "source": [
    "def bootstrap(n_bootstraps, X):\n",
    "    n = X.shape[0]\n",
    "    return [X[np.random.randint(0,n,n)] for _ in range(0, n_bootstraps)]\n",
    "    \n",
    "X = np.arange(0,10).reshape(-1,1)\n",
    "bootstrap(5, X)"
   ]
  }
 ],
 "metadata": {
  "kernelspec": {
   "display_name": "Python 3",
   "language": "python",
   "name": "python3"
  },
  "language_info": {
   "codemirror_mode": {
    "name": "ipython",
    "version": 3
   },
   "file_extension": ".py",
   "mimetype": "text/x-python",
   "name": "python",
   "nbconvert_exporter": "python",
   "pygments_lexer": "ipython3",
   "version": "3.6.5"
  }
 },
 "nbformat": 4,
 "nbformat_minor": 2
}
