{
 "cells": [
  {
   "cell_type": "code",
   "execution_count": 157,
   "metadata": {},
   "outputs": [],
   "source": [
    "import numpy as np"
   ]
  },
  {
   "cell_type": "markdown",
   "metadata": {},
   "source": [
    "### Generate some data\n",
    "\n",
    "... TODO"
   ]
  },
  {
   "cell_type": "markdown",
   "metadata": {},
   "source": [
    "### Algorithm"
   ]
  },
  {
   "cell_type": "code",
   "execution_count": 162,
   "metadata": {},
   "outputs": [
    {
     "name": "stdout",
     "output_type": "stream",
     "text": [
      "[ 0  1  2  3  4  5  6  7  8  9 10 11 12 13 14 15 16 17]\n",
      "[17 18 19 20 21 22 23 24 25 26 27 28 29 30 31 32 33 34]\n",
      "[34 35 36 37 38 39 40 41 42 43 44 45 46 47 48 49 50 51]\n",
      "[51 52 53 54 55 56 57 58 59 60 61 62 63 64 65 66 67 68]\n",
      "[68 69 70 71 72 73 74 75 76 77 78 79 80 81 82 83 84]\n",
      "[84 85 86 87 88 89 90 91 92 93 94 95 96 97 98 99]\n"
     ]
    }
   ],
   "source": [
    "n_folds = 6\n",
    "n = 100\n",
    "quotient = n // n_folds\n",
    "modulus = n % n_folds\n",
    "\n",
    "# get splits assuming integer division\n",
    "quotient_seq = np.arange(0, quotient * n_folds, quotient)\n",
    "# correct for the modulus by distributing it over the splits, starting from the front\n",
    "front_seq = np.append(np.array(0), np.repeat(1, modulus)) \n",
    "back_seq = np.repeat(0, n_folds - modulus - 1)\n",
    "shift_seq = np.cumsum(np.append(front_seq, back_seq))\n",
    "split_idxs = (quotient_seq + shift_seq)\n",
    "\n",
    "# get intervals for the splits\n",
    "a = np.append(split_idxs[1:], split_idxs[0]).reshape(-1, 1)\n",
    "b = split_idxs.reshape(-1, 1)\n",
    "intervals = np.hstack([b,a])\n",
    "# correct the last entry\n",
    "intervals[-1][-1] = n - 1\n",
    "\n",
    "# get a random list of numbers up to n (inclusive)\n",
    "indeces = np.arange(0, 100 + 1)\n",
    "np.random.shuffle(indeces)\n",
    "\n",
    "#intervals\n",
    "for (start, end) in intervals:\n",
    "    hold_out = np.arange(start, end + 1)\n",
    "    \n",
    "    print(hold_out)"
   ]
  }
 ],
 "metadata": {
  "kernelspec": {
   "display_name": "Python 3",
   "language": "python",
   "name": "python3"
  },
  "language_info": {
   "codemirror_mode": {
    "name": "ipython",
    "version": 3
   },
   "file_extension": ".py",
   "mimetype": "text/x-python",
   "name": "python",
   "nbconvert_exporter": "python",
   "pygments_lexer": "ipython3",
   "version": "3.6.5"
  }
 },
 "nbformat": 4,
 "nbformat_minor": 2
}
