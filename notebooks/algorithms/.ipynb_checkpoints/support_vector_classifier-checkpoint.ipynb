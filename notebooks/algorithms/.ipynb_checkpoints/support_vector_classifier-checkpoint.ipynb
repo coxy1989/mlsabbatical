{
 "cells": [
  {
   "cell_type": "markdown",
   "metadata": {},
   "source": [
    "## Model"
   ]
  },
  {
   "cell_type": "markdown",
   "metadata": {},
   "source": [
    "Define a hyperplane:\n",
    "\n",
    "$f(x) = x^T \\beta + \\beta_0 = 0$\n",
    "\n",
    "- $\\beta$ is a unit vector: $||\\beta||$\n",
    "- $f(x)$ gives the signed distance from the hyperplane\n",
    "\n",
    "Our **classification rule** is:\n",
    "\n",
    "$G(x) = sign[x^T \\beta + \\beta_0]$\n",
    "\n",
    "We will attempt to find $\\beta$ that creates the largest margin between training points for the classes: $\\{-1, 1\\}$. \n"
   ]
  },
  {
   "cell_type": "markdown",
   "metadata": {},
   "source": [
    "#### The Maximal Margin Classifier - the case of perfect linear seperation\n",
    "\n",
    "Our **optimisation problem** is:\n",
    "\n",
    "$max_{\\beta, \\beta_0, ||\\beta||=1} M$\n",
    "\n",
    "*Subject to:*\n",
    "\n",
    "$y_i (x_i^T, \\beta + \\beta_0) \\geq  M, i = 1,..,N$\n",
    "\n",
    "Which is equivalent to the following, since $M = \\frac{1}{||\\beta||}$:\n",
    "\n",
    "$min_{\\beta, \\beta_0} ||\\beta||$\n",
    "\n",
    "*Subject to:*\n",
    "\n",
    "$y_i (x_i^T \\beta + \\beta_0) \\geq 1, i = 1,...,N$"
   ]
  },
  {
   "cell_type": "code",
   "execution_count": null,
   "metadata": {},
   "outputs": [],
   "source": [
    "### .. in progress\n",
    "# - https://en.wikipedia.org/wiki/Sequential_minimal_optimization"
   ]
  }
 ],
 "metadata": {
  "kernelspec": {
   "display_name": "Python 3",
   "language": "python",
   "name": "python3"
  },
  "language_info": {
   "codemirror_mode": {
    "name": "ipython",
    "version": 3
   },
   "file_extension": ".py",
   "mimetype": "text/x-python",
   "name": "python",
   "nbconvert_exporter": "python",
   "pygments_lexer": "ipython3",
   "version": "3.6.5"
  }
 },
 "nbformat": 4,
 "nbformat_minor": 2
}
