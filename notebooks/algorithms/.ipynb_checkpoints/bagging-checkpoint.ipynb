{
 "cells": [
  {
   "cell_type": "code",
   "execution_count": 1,
   "metadata": {},
   "outputs": [],
   "source": [
    "import numpy as np\n",
    "import seaborn as sns\n",
    "import pandas as pd\n",
    "import sys\n",
    "import matplotlib.pyplot as plt\n",
    "from sklearn import datasets, model_selection\n",
    "sns.set(rc={'figure.figsize':(10,10)})"
   ]
  },
  {
   "cell_type": "markdown",
   "metadata": {},
   "source": [
    "Leo Brieman [first described bagging in 1996](https://link.springer.com/content/pdf/10.1023%2FA%3A1018054314350.pdf)"
   ]
  },
  {
   "cell_type": "markdown",
   "metadata": {},
   "source": [
    "### Get some data"
   ]
  },
  {
   "cell_type": "code",
   "execution_count": 2,
   "metadata": {},
   "outputs": [
    {
     "data": {
      "text/html": [
       "<div>\n",
       "<style scoped>\n",
       "    .dataframe tbody tr th:only-of-type {\n",
       "        vertical-align: middle;\n",
       "    }\n",
       "\n",
       "    .dataframe tbody tr th {\n",
       "        vertical-align: top;\n",
       "    }\n",
       "\n",
       "    .dataframe thead th {\n",
       "        text-align: right;\n",
       "    }\n",
       "</style>\n",
       "<table border=\"1\" class=\"dataframe\">\n",
       "  <thead>\n",
       "    <tr style=\"text-align: right;\">\n",
       "      <th></th>\n",
       "      <th>CRIM</th>\n",
       "      <th>ZN</th>\n",
       "      <th>INDUS</th>\n",
       "      <th>CHAS</th>\n",
       "      <th>NOX</th>\n",
       "      <th>RM</th>\n",
       "      <th>AGE</th>\n",
       "      <th>DIS</th>\n",
       "      <th>RAD</th>\n",
       "      <th>TAX</th>\n",
       "      <th>PTRATIO</th>\n",
       "      <th>B</th>\n",
       "      <th>LSTAT</th>\n",
       "      <th>target</th>\n",
       "    </tr>\n",
       "  </thead>\n",
       "  <tbody>\n",
       "    <tr>\n",
       "      <th>81</th>\n",
       "      <td>0.04462</td>\n",
       "      <td>25.0</td>\n",
       "      <td>4.86</td>\n",
       "      <td>0.0</td>\n",
       "      <td>0.426</td>\n",
       "      <td>6.619</td>\n",
       "      <td>70.4</td>\n",
       "      <td>5.4007</td>\n",
       "      <td>4.0</td>\n",
       "      <td>281.0</td>\n",
       "      <td>19.0</td>\n",
       "      <td>395.63</td>\n",
       "      <td>7.22</td>\n",
       "      <td>23.9</td>\n",
       "    </tr>\n",
       "    <tr>\n",
       "      <th>498</th>\n",
       "      <td>0.23912</td>\n",
       "      <td>0.0</td>\n",
       "      <td>9.69</td>\n",
       "      <td>0.0</td>\n",
       "      <td>0.585</td>\n",
       "      <td>6.019</td>\n",
       "      <td>65.3</td>\n",
       "      <td>2.4091</td>\n",
       "      <td>6.0</td>\n",
       "      <td>391.0</td>\n",
       "      <td>19.2</td>\n",
       "      <td>396.90</td>\n",
       "      <td>12.92</td>\n",
       "      <td>21.2</td>\n",
       "    </tr>\n",
       "    <tr>\n",
       "      <th>160</th>\n",
       "      <td>1.27346</td>\n",
       "      <td>0.0</td>\n",
       "      <td>19.58</td>\n",
       "      <td>1.0</td>\n",
       "      <td>0.605</td>\n",
       "      <td>6.250</td>\n",
       "      <td>92.6</td>\n",
       "      <td>1.7984</td>\n",
       "      <td>5.0</td>\n",
       "      <td>403.0</td>\n",
       "      <td>14.7</td>\n",
       "      <td>338.92</td>\n",
       "      <td>5.50</td>\n",
       "      <td>27.0</td>\n",
       "    </tr>\n",
       "    <tr>\n",
       "      <th>375</th>\n",
       "      <td>19.60910</td>\n",
       "      <td>0.0</td>\n",
       "      <td>18.10</td>\n",
       "      <td>0.0</td>\n",
       "      <td>0.671</td>\n",
       "      <td>7.313</td>\n",
       "      <td>97.9</td>\n",
       "      <td>1.3163</td>\n",
       "      <td>24.0</td>\n",
       "      <td>666.0</td>\n",
       "      <td>20.2</td>\n",
       "      <td>396.90</td>\n",
       "      <td>13.44</td>\n",
       "      <td>15.0</td>\n",
       "    </tr>\n",
       "    <tr>\n",
       "      <th>146</th>\n",
       "      <td>2.15505</td>\n",
       "      <td>0.0</td>\n",
       "      <td>19.58</td>\n",
       "      <td>0.0</td>\n",
       "      <td>0.871</td>\n",
       "      <td>5.628</td>\n",
       "      <td>100.0</td>\n",
       "      <td>1.5166</td>\n",
       "      <td>5.0</td>\n",
       "      <td>403.0</td>\n",
       "      <td>14.7</td>\n",
       "      <td>169.27</td>\n",
       "      <td>16.65</td>\n",
       "      <td>15.6</td>\n",
       "    </tr>\n",
       "  </tbody>\n",
       "</table>\n",
       "</div>"
      ],
      "text/plain": [
       "         CRIM    ZN  INDUS  CHAS    NOX     RM    AGE     DIS   RAD    TAX  \\\n",
       "81    0.04462  25.0   4.86   0.0  0.426  6.619   70.4  5.4007   4.0  281.0   \n",
       "498   0.23912   0.0   9.69   0.0  0.585  6.019   65.3  2.4091   6.0  391.0   \n",
       "160   1.27346   0.0  19.58   1.0  0.605  6.250   92.6  1.7984   5.0  403.0   \n",
       "375  19.60910   0.0  18.10   0.0  0.671  7.313   97.9  1.3163  24.0  666.0   \n",
       "146   2.15505   0.0  19.58   0.0  0.871  5.628  100.0  1.5166   5.0  403.0   \n",
       "\n",
       "     PTRATIO       B  LSTAT  target  \n",
       "81      19.0  395.63   7.22    23.9  \n",
       "498     19.2  396.90  12.92    21.2  \n",
       "160     14.7  338.92   5.50    27.0  \n",
       "375     20.2  396.90  13.44    15.0  \n",
       "146     14.7  169.27  16.65    15.6  "
      ]
     },
     "execution_count": 2,
     "metadata": {},
     "output_type": "execute_result"
    }
   ],
   "source": [
    "boston_data = datasets.load_boston()\n",
    "df_boston = pd.DataFrame(boston_data.data,columns=boston_data.feature_names)\n",
    "df_boston['target'] = pd.Series(boston_data.target)\n",
    "train, test = model_selection.train_test_split(df_boston, test_size=0.2)\n",
    "train_X = train.drop('target', axis=1).values\n",
    "train_y = train['target'].values\n",
    "test_X = test.drop('target', axis=1).values\n",
    "test_y = test['target'].values\n",
    "train.head()"
   ]
  },
  {
   "cell_type": "markdown",
   "metadata": {},
   "source": [
    "### Regression Tree Algorithm"
   ]
  },
  {
   "cell_type": "code",
   "execution_count": 3,
   "metadata": {},
   "outputs": [],
   "source": [
    "def compute_sum_split_variance(xs, y, v):\n",
    "    '''xs - 1D array of scalars\n",
    "        v - scalar to split on'''\n",
    "    left = y[xs <= v]\n",
    "    right = y[xs > v]\n",
    "    left_var = 0 if len(left) == 0 else ((left - left.mean()) ** 2).sum()\n",
    "    right_var = 0 if len(right) == 0 else ((right - right.mean()) ** 2).sum()\n",
    "    return  left_var + right_var\n",
    "\n",
    "def node(i, s, p, c, l, r):\n",
    "    return {'internal': i,\n",
    "            'split': s,\n",
    "            'p': p,\n",
    "            'c':c,\n",
    "            'l':l,\n",
    "            'r':r}\n",
    "\n",
    "def splitf(X, y, max_leaf_n):\n",
    "    if X.shape[0] <= max_leaf_n:\n",
    "        return node(False, None, None, y.mean(), None, None)\n",
    "    \n",
    "    lowest_var, best_p_idx, best_split = sys.float_info.max, None, None\n",
    "    for p_idx in range(0, X.shape[1]):\n",
    "        for n_idx in range(0, X.shape[0]):\n",
    "            split = X[n_idx][p_idx]\n",
    "            var = compute_sum_split_variance(X[:,p_idx], y, split)\n",
    "            if var < lowest_var:\n",
    "                lowest_var = var\n",
    "                best_p_idx = p_idx\n",
    "                best_split = split\n",
    "    left_idxs = X[:, best_p_idx] <= best_split\n",
    "    right_idxs = X[:, best_p_idx] > best_split\n",
    "    \n",
    "    if len(y[left_idxs]) == 0 or len(y[right_idxs]) == 0:\n",
    "        # this can only happen if yi = yi+1 ... = yn\n",
    "        # in which case.. there is no benefit to branching more.\n",
    "        assert(np.unique(y).size == 1)\n",
    "        return node(False, None, None, y.mean(), None, None)\n",
    "    \n",
    "    l = splitf(X[left_idxs], y[left_idxs], max_leaf_n)\n",
    "    r = splitf(X[right_idxs], y[right_idxs], max_leaf_n)\n",
    "    return node(True, best_split, best_p_idx, None, l, r)\n",
    "\n",
    "def predict(x, model):\n",
    "    if not model['internal']:\n",
    "        return model['c']\n",
    "    if x[model['p']] <= model['split']:\n",
    "        return predict(x, model['l'])\n",
    "    else:\n",
    "        return predict(x, model['r'])"
   ]
  },
  {
   "cell_type": "code",
   "execution_count": 4,
   "metadata": {},
   "outputs": [
    {
     "name": "stdout",
     "output_type": "stream",
     "text": [
      "training error: 0.4171301053058568\n",
      "test error: 3.8710463701691817\n"
     ]
    }
   ],
   "source": [
    "max_leaf_n = 2\n",
    "tree = splitf(train_X, train_y, max_leaf_n)\n",
    "\n",
    "# evaluate training error\n",
    "preds = [predict(r, tree) for r in train_X]\n",
    "print('training error: {}'.format(np.sqrt(((train_y - preds) ** 2).sum() / train_y.shape[0])))\n",
    "\n",
    "# evaluate test error\n",
    "preds = [predict(r, tree) for r in test_X]\n",
    "print('test error: {}'.format(np.sqrt(((test_y - preds) ** 2).sum() / test_y.shape[0])))"
   ]
  },
  {
   "cell_type": "markdown",
   "metadata": {},
   "source": [
    "### Bagging"
   ]
  },
  {
   "cell_type": "code",
   "execution_count": 5,
   "metadata": {},
   "outputs": [],
   "source": [
    "def bagged_predict(x, trees):\n",
    "    return np.array([predict(x, t) for t in trees]).mean()\n",
    "    \n",
    "def bagged_trees(X, y, max_leaf_n, b):\n",
    "    n = X.shape[0]\n",
    "    trees = []\n",
    "    for _ in range(0,b):\n",
    "        b_sample = np.random.randint(0, n, n)\n",
    "        trees.append(splitf(X[b_sample], y[b_sample], max_leaf_n))\n",
    "    return trees"
   ]
  },
  {
   "cell_type": "code",
   "execution_count": 6,
   "metadata": {},
   "outputs": [
    {
     "name": "stdout",
     "output_type": "stream",
     "text": [
      "training error: 1.4409052306322458\n",
      "test error: 2.776245745818707\n"
     ]
    }
   ],
   "source": [
    "max_leaf_n = 2\n",
    "b = 50\n",
    "trees = bagged_trees(train_X, train_y, max_leaf_n, b)\n",
    "\n",
    "# evaluate training error\n",
    "preds = [bagged_predict(x, trees) for x in train_X]\n",
    "print('training error: {}'.format(np.sqrt(((train_y - preds) ** 2).sum() / train_y.shape[0])))\n",
    "\n",
    "# evaluate test error\n",
    "preds = [bagged_predict(x, trees) for x in test_X]\n",
    "print('test error: {}'.format(np.sqrt(((test_y - preds) ** 2).sum() / test_y.shape[0])))"
   ]
  }
 ],
 "metadata": {
  "kernelspec": {
   "display_name": "Python 3",
   "language": "python",
   "name": "python3"
  },
  "language_info": {
   "codemirror_mode": {
    "name": "ipython",
    "version": 3
   },
   "file_extension": ".py",
   "mimetype": "text/x-python",
   "name": "python",
   "nbconvert_exporter": "python",
   "pygments_lexer": "ipython3",
   "version": "3.6.5"
  }
 },
 "nbformat": 4,
 "nbformat_minor": 2
}
