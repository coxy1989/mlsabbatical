{
 "cells": [
  {
   "cell_type": "code",
   "execution_count": 4,
   "metadata": {},
   "outputs": [],
   "source": [
    "import numpy as np"
   ]
  },
  {
   "cell_type": "markdown",
   "metadata": {},
   "source": [
    "### Algorithm"
   ]
  },
  {
   "cell_type": "code",
   "execution_count": 5,
   "metadata": {},
   "outputs": [],
   "source": [
    "def get_folds(n_folds, n):\n",
    "    \"\"\"return a list of `n_folds` two-tuples containing train/test indeces for k-fold cv\"\"\"\n",
    "    n = 100\n",
    "    quotient = n // n_folds\n",
    "    modulus = n % n_folds\n",
    "    \n",
    "    # get splits assuming integer division\n",
    "    quotient_seq = np.arange(0, quotient * n_folds, quotient)\n",
    "    # correct for the modulus by distributing it over the splits, starting from the front\n",
    "    front_seq = np.append(np.array(0), np.repeat(1, modulus)) \n",
    "    back_seq = np.repeat(0, n_folds - modulus - 1)\n",
    "    shift_seq = np.cumsum(np.append(front_seq, back_seq))\n",
    "    split_idxs = (quotient_seq + shift_seq)\n",
    "\n",
    "    # stack shifted split_array to obtain intervals for the splits\n",
    "    left = split_idxs.reshape(-1, 1)\n",
    "    right = np.append(split_idxs[1:], split_idxs[0]).reshape(-1, 1)\n",
    "    intervals = np.hstack([left, right])\n",
    "    # correct the last entry\n",
    "    intervals[-1][-1] = n\n",
    "\n",
    "    # get a random list of numbers up to n (inclusive)\n",
    "    indeces = np.arange(0, 100 + 1)\n",
    "    np.random.shuffle(indeces)\n",
    "\n",
    "    # loop over n_folds, adding the train/test split to ret\n",
    "    ret = []\n",
    "    for f in range(0, n_folds):\n",
    "        selection_mtrx = np.identity(n_folds)\n",
    "        test_strt, test_end = selection_mtrx[:,f] @ intervals\n",
    "        selection_mtrx = np.delete(selection_mtrx,f,1)\n",
    "        train = intervals.T @ selection_mtrx\n",
    "        train_indeces = np.concatenate([np.arange(s, e) for s, e in train.T])\n",
    "        test_indeces = np.arange(test_strt, test_end)\n",
    "        ret.append((train_indeces, test_indeces))\n",
    "    return ret"
   ]
  },
  {
   "cell_type": "code",
   "execution_count": 6,
   "metadata": {},
   "outputs": [
    {
     "data": {
      "text/plain": [
       "[(array([17., 18., 19., 20., 21., 22., 23., 24., 25., 26., 27., 28., 29.,\n",
       "         30., 31., 32., 33., 34., 35., 36., 37., 38., 39., 40., 41., 42.,\n",
       "         43., 44., 45., 46., 47., 48., 49., 50., 51., 52., 53., 54., 55.,\n",
       "         56., 57., 58., 59., 60., 61., 62., 63., 64., 65., 66., 67., 68.,\n",
       "         69., 70., 71., 72., 73., 74., 75., 76., 77., 78., 79., 80., 81.,\n",
       "         82., 83., 84., 85., 86., 87., 88., 89., 90., 91., 92., 93., 94.,\n",
       "         95., 96., 97., 98., 99.]),\n",
       "  array([ 0.,  1.,  2.,  3.,  4.,  5.,  6.,  7.,  8.,  9., 10., 11., 12.,\n",
       "         13., 14., 15., 16.])),\n",
       " (array([ 0.,  1.,  2.,  3.,  4.,  5.,  6.,  7.,  8.,  9., 10., 11., 12.,\n",
       "         13., 14., 15., 16., 34., 35., 36., 37., 38., 39., 40., 41., 42.,\n",
       "         43., 44., 45., 46., 47., 48., 49., 50., 51., 52., 53., 54., 55.,\n",
       "         56., 57., 58., 59., 60., 61., 62., 63., 64., 65., 66., 67., 68.,\n",
       "         69., 70., 71., 72., 73., 74., 75., 76., 77., 78., 79., 80., 81.,\n",
       "         82., 83., 84., 85., 86., 87., 88., 89., 90., 91., 92., 93., 94.,\n",
       "         95., 96., 97., 98., 99.]),\n",
       "  array([17., 18., 19., 20., 21., 22., 23., 24., 25., 26., 27., 28., 29.,\n",
       "         30., 31., 32., 33.])),\n",
       " (array([ 0.,  1.,  2.,  3.,  4.,  5.,  6.,  7.,  8.,  9., 10., 11., 12.,\n",
       "         13., 14., 15., 16., 17., 18., 19., 20., 21., 22., 23., 24., 25.,\n",
       "         26., 27., 28., 29., 30., 31., 32., 33., 51., 52., 53., 54., 55.,\n",
       "         56., 57., 58., 59., 60., 61., 62., 63., 64., 65., 66., 67., 68.,\n",
       "         69., 70., 71., 72., 73., 74., 75., 76., 77., 78., 79., 80., 81.,\n",
       "         82., 83., 84., 85., 86., 87., 88., 89., 90., 91., 92., 93., 94.,\n",
       "         95., 96., 97., 98., 99.]),\n",
       "  array([34., 35., 36., 37., 38., 39., 40., 41., 42., 43., 44., 45., 46.,\n",
       "         47., 48., 49., 50.])),\n",
       " (array([ 0.,  1.,  2.,  3.,  4.,  5.,  6.,  7.,  8.,  9., 10., 11., 12.,\n",
       "         13., 14., 15., 16., 17., 18., 19., 20., 21., 22., 23., 24., 25.,\n",
       "         26., 27., 28., 29., 30., 31., 32., 33., 34., 35., 36., 37., 38.,\n",
       "         39., 40., 41., 42., 43., 44., 45., 46., 47., 48., 49., 50., 68.,\n",
       "         69., 70., 71., 72., 73., 74., 75., 76., 77., 78., 79., 80., 81.,\n",
       "         82., 83., 84., 85., 86., 87., 88., 89., 90., 91., 92., 93., 94.,\n",
       "         95., 96., 97., 98., 99.]),\n",
       "  array([51., 52., 53., 54., 55., 56., 57., 58., 59., 60., 61., 62., 63.,\n",
       "         64., 65., 66., 67.])),\n",
       " (array([ 0.,  1.,  2.,  3.,  4.,  5.,  6.,  7.,  8.,  9., 10., 11., 12.,\n",
       "         13., 14., 15., 16., 17., 18., 19., 20., 21., 22., 23., 24., 25.,\n",
       "         26., 27., 28., 29., 30., 31., 32., 33., 34., 35., 36., 37., 38.,\n",
       "         39., 40., 41., 42., 43., 44., 45., 46., 47., 48., 49., 50., 51.,\n",
       "         52., 53., 54., 55., 56., 57., 58., 59., 60., 61., 62., 63., 64.,\n",
       "         65., 66., 67., 84., 85., 86., 87., 88., 89., 90., 91., 92., 93.,\n",
       "         94., 95., 96., 97., 98., 99.]),\n",
       "  array([68., 69., 70., 71., 72., 73., 74., 75., 76., 77., 78., 79., 80.,\n",
       "         81., 82., 83.])),\n",
       " (array([ 0.,  1.,  2.,  3.,  4.,  5.,  6.,  7.,  8.,  9., 10., 11., 12.,\n",
       "         13., 14., 15., 16., 17., 18., 19., 20., 21., 22., 23., 24., 25.,\n",
       "         26., 27., 28., 29., 30., 31., 32., 33., 34., 35., 36., 37., 38.,\n",
       "         39., 40., 41., 42., 43., 44., 45., 46., 47., 48., 49., 50., 51.,\n",
       "         52., 53., 54., 55., 56., 57., 58., 59., 60., 61., 62., 63., 64.,\n",
       "         65., 66., 67., 68., 69., 70., 71., 72., 73., 74., 75., 76., 77.,\n",
       "         78., 79., 80., 81., 82., 83.]),\n",
       "  array([84., 85., 86., 87., 88., 89., 90., 91., 92., 93., 94., 95., 96.,\n",
       "         97., 98., 99.]))]"
      ]
     },
     "execution_count": 6,
     "metadata": {},
     "output_type": "execute_result"
    }
   ],
   "source": [
    "get_folds(6, 100)"
   ]
  }
 ],
 "metadata": {
  "kernelspec": {
   "display_name": "Python 3",
   "language": "python",
   "name": "python3"
  },
  "language_info": {
   "codemirror_mode": {
    "name": "ipython",
    "version": 3
   },
   "file_extension": ".py",
   "mimetype": "text/x-python",
   "name": "python",
   "nbconvert_exporter": "python",
   "pygments_lexer": "ipython3",
   "version": "3.6.5"
  }
 },
 "nbformat": 4,
 "nbformat_minor": 2
}
