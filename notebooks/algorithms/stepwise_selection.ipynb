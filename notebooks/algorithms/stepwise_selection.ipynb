{
 "cells": [
  {
   "cell_type": "code",
   "execution_count": 8,
   "metadata": {},
   "outputs": [],
   "source": [
    "import numpy as np\n",
    "import pandas as pd\n",
    "import seaborn as sns\n",
    "from sklearn import model_selection, metrics, linear_model\n",
    "sns.set(rc={'figure.figsize':(10,10)})"
   ]
  },
  {
   "cell_type": "markdown",
   "metadata": {},
   "source": [
    "### Algorithm\n",
    "\n",
    "- In the forward direction: refit the model with each of the remaining predictors and incorporate the one which brings about the greatest improvement in performance.\n",
    "- In the reverse direction: refit the model dropping each of the remaining predictors and remove the one which leads to the smallest reduction in performance.\n",
    "- There are $1 + \\frac{p(1 + p)}{2}$ combinations to consider."
   ]
  },
  {
   "cell_type": "code",
   "execution_count": 2,
   "metadata": {},
   "outputs": [],
   "source": [
    "def stepwise(X, y, forward=True):\n",
    "    ''' X: n x p numpy array\n",
    "        y: n x 1 numpy array''' \n",
    "    \n",
    "    # How big is the search?\n",
    "    p = X.shape[1]\n",
    "    print('Searching over {} models'.format(int(1 + ((p * (1 + p))/2))))\n",
    "\n",
    "    # The degenerate case\n",
    "    # - all the predictors if backward stepwise\n",
    "    # - none of the predictors if forward stepwise\n",
    "    best = np.repeat(0, p)\n",
    "    selection = best if forward else np.logical_not(best)\n",
    "    Xf = X @ np.diag(selection)\n",
    "    model = linear_model.LinearRegression().fit(Xf, y)\n",
    "    score = model.score(X, y)\n",
    "\n",
    "    # Add result of degenerate case to acummulators\n",
    "    scores = [score]\n",
    "    models = [model]\n",
    "    vectors = [best]\n",
    "    \n",
    "    # `Best` is a binary vector\n",
    "    # - forward stepwise: 1's represent predictors included in the current best model\n",
    "    # - backward stepwise: 1's represent predictors NOT included in the current best model\n",
    "    # Terminating condition for loop is when `best` is a vector of 1's\n",
    "    while not np.array_equal(best, np.repeat(1, p)):\n",
    "        selection_matrix = np.identity(p) @ np.diag(np.logical_not(best))\n",
    "        best_vector = None\n",
    "        best_score = None\n",
    "        best_model = None\n",
    "        # loop over every column in the selection matrix and evaluate the model represented\n",
    "        # by the set of predictors specified by the column.\n",
    "        for c in selection_matrix.T:\n",
    "            # Ignore columns of zeros in the selection_matrix\n",
    "            if np.array_equal(c, np.zeros(len(c))):\n",
    "                continue\n",
    "            # evaluate model\n",
    "            # - including predictor represented by this column if forward stepwise\n",
    "            # - excluding predictor represented by this column if backward stepwise\n",
    "            trace = c + best\n",
    "            selection = trace if forward else np.logical_not(trace)\n",
    "            Xf = X @ np.diag(selection)\n",
    "            model = linear_model.LinearRegression().fit(Xf, y)\n",
    "            score = model.score(X, y)\n",
    "            if best_score == None or score > best_score:\n",
    "                best_vector = c\n",
    "                best_score = score\n",
    "                best_model = model\n",
    "        best = best + best_vector\n",
    "        scores.append(best_score)\n",
    "        models.append(best_model)\n",
    "        vectors.append(best)\n",
    "    return scores, models, vectors"
   ]
  },
  {
   "cell_type": "markdown",
   "metadata": {},
   "source": [
    "### Generate some data"
   ]
  },
  {
   "cell_type": "code",
   "execution_count": 3,
   "metadata": {},
   "outputs": [],
   "source": [
    "def generate_example_data(n, p, beta, epsilon):\n",
    "    x = np.random.normal(0, 1, (n, p))\n",
    "    eps = np.random.normal(0, epsilon, n)\n",
    "    y = (x @ beta.reshape(-1, 1)) + eps.reshape(-1, 1)\n",
    "    data = pd.DataFrame(x, columns= ['x' + str(i) for i in range(0, x.shape[1])])\n",
    "    data['y'] = y\n",
    "    return model_selection.train_test_split(data, test_size=0.9)\n",
    "\n",
    "def compute_rmses(models, vectors, test_X, test_y, forward=True):\n",
    "    rmses = []\n",
    "    for idx, (model, vector) in enumerate(zip(models, vectors)):\n",
    "        selection = vector if forward else np.logical_not(vector)\n",
    "        X = test_X @ np.diag(selection)\n",
    "        preds = model.predict(X)\n",
    "        rmses.append(np.sqrt(metrics.mean_squared_error(test_y, preds)))\n",
    "    return rmses"
   ]
  },
  {
   "cell_type": "markdown",
   "metadata": {},
   "source": [
    "Example 1: **Forward stepwise** - all predictors are equally associated with the outcome"
   ]
  },
  {
   "cell_type": "code",
   "execution_count": 4,
   "metadata": {},
   "outputs": [
    {
     "name": "stdout",
     "output_type": "stream",
     "text": [
      "Searching over 56 models\n"
     ]
    },
    {
     "name": "stderr",
     "output_type": "stream",
     "text": [
      "/usr/local/lib/python3.6/site-packages/sklearn/linear_model/base.py:509: RuntimeWarning: internal gelsd driver lwork query error, required iwork dimension not returned. This is likely the result of LAPACK bug 0038, fixed in LAPACK 3.2.2 (released July 21, 2010). Falling back to 'gelss' driver.\n",
      "  linalg.lstsq(X, y)\n"
     ]
    },
    {
     "data": {
      "text/plain": [
       "<matplotlib.axes._subplots.AxesSubplot at 0x10fb03390>"
      ]
     },
     "execution_count": 4,
     "metadata": {},
     "output_type": "execute_result"
    },
    {
     "data": {
      "image/png": "[encoded data removed]",
      "text/plain": [
       "<Figure size 432x288 with 1 Axes>"
      ]
     },
     "metadata": {},
     "output_type": "display_data"
    }
   ],
   "source": [
    "# generate data\n",
    "n = 10000\n",
    "p = 10\n",
    "beta = np.repeat(2, p)\n",
    "train, test = generate_example_data(n, p, beta, 0.2)\n",
    "\n",
    "# Search for best predictors with training set\n",
    "train_X, train_y = train.drop('y', axis=1), train.y\n",
    "scores, models, vectors = stepwise(train_X ,train_y, forward=True)\n",
    "\n",
    "# Evaluate best predictors with test set\n",
    "test_X, test_y = test.drop('y', axis=1), test.y\n",
    "rmses = compute_rmses(models, vectors, test_X.values, test_y.values)\n",
    "\n",
    "# plot error vs number of predictors\n",
    "bar_df = pd.DataFrame({'RMSE' : rmses,'number of predictors' : np.arange(0, len(rmses))})\n",
    "sns.barplot(y='number of predictors', x='RMSE', data=bar_df, orient='h')"
   ]
  },
  {
   "cell_type": "markdown",
   "metadata": {},
   "source": [
    "Example 1: **Backward stepwise** - all predictors are equally associated with the outcome"
   ]
  },
  {
   "cell_type": "code",
   "execution_count": 5,
   "metadata": {},
   "outputs": [
    {
     "name": "stdout",
     "output_type": "stream",
     "text": [
      "Searching over 56 models\n"
     ]
    },
    {
     "data": {
      "text/plain": [
       "<matplotlib.axes._subplots.AxesSubplot at 0x1170aa3c8>"
      ]
     },
     "execution_count": 5,
     "metadata": {},
     "output_type": "execute_result"
    },
    {
     "data": {
      "image/png": "[encoded data removed]",
      "text/plain": [
       "<Figure size 432x288 with 1 Axes>"
      ]
     },
     "metadata": {},
     "output_type": "display_data"
    }
   ],
   "source": [
    "# generate data\n",
    "n = 10000\n",
    "p = 10\n",
    "beta = np.repeat(2, p)\n",
    "train, test = generate_example_data(n, p, beta, 0.2)\n",
    "\n",
    "# Search for best predictors with training set\n",
    "train_X, train_y = train.drop('y', axis=1), train.y\n",
    "scores, models, vectors = stepwise(train_X ,train_y, forward=False)\n",
    "\n",
    "# Evaluate best predictors with test set\n",
    "test_X, test_y = test.drop('y', axis=1), test.y\n",
    "rmses = compute_rmses(models, vectors, test_X.values, test_y.values, False)\n",
    "\n",
    "# plot error vs number of predictors\n",
    "bar_df = pd.DataFrame({'RMSE' : rmses, 'number of predictors' : list(reversed(range(0,len(rmses))))})\n",
    "sns.barplot(y='number of predictors', x='RMSE', data=bar_df, orient='h')"
   ]
  },
  {
   "cell_type": "markdown",
   "metadata": {},
   "source": [
    "Example 2: **Forward stepwise** - Half of the predictors are equally associated with the respone, the rest are not associated with the response"
   ]
  },
  {
   "cell_type": "code",
   "execution_count": 6,
   "metadata": {},
   "outputs": [
    {
     "name": "stdout",
     "output_type": "stream",
     "text": [
      "Searching over 56 models\n"
     ]
    },
    {
     "data": {
      "text/plain": [
       "<matplotlib.axes._subplots.AxesSubplot at 0x1105e2438>"
      ]
     },
     "execution_count": 6,
     "metadata": {},
     "output_type": "execute_result"
    },
    {
     "data": {
      "image/png": "[encoded data removed]",
      "text/plain": [
       "<Figure size 432x288 with 1 Axes>"
      ]
     },
     "metadata": {},
     "output_type": "display_data"
    }
   ],
   "source": [
    "# generate data\n",
    "n = 10000\n",
    "p = 10\n",
    "beta = np.append(np.repeat(0, 5), np.repeat(2, 5))\n",
    "train, test = generate_example_data(n, p, beta, 0.2)\n",
    "\n",
    "# Search for best predictors with training set\n",
    "train_X, train_y = train.drop('y', axis=1), train.y\n",
    "scores, models, vectors = stepwise(train_X ,train_y, forward=True)\n",
    "\n",
    "# Evaluate best predictors with test set\n",
    "test_X, test_y = test.drop('y', axis=1), test.y\n",
    "rmses = compute_rmses(models, vectors, test_X.values, test_y.values)\n",
    "\n",
    "# plot error vs number of predictors\n",
    "bar_df = pd.DataFrame({'RMSE' : rmses,'number of predictors' : np.arange(0, len(rmses))})\n",
    "sns.barplot(y='number of predictors', x='RMSE', data=bar_df, orient='h')"
   ]
  },
  {
   "cell_type": "markdown",
   "metadata": {},
   "source": [
    "Example 2: **Backward stepwise** - Half of the predictors are equally associated with the respone, the rest are not associated with the response"
   ]
  },
  {
   "cell_type": "code",
   "execution_count": 7,
   "metadata": {},
   "outputs": [
    {
     "name": "stdout",
     "output_type": "stream",
     "text": [
      "Searching over 56 models\n"
     ]
    },
    {
     "data": {
      "text/plain": [
       "<matplotlib.axes._subplots.AxesSubplot at 0x118d63b70>"
      ]
     },
     "execution_count": 7,
     "metadata": {},
     "output_type": "execute_result"
    },
    {
     "data": {
      "image/png": "[encoded data removed]",
      "text/plain": [
       "<Figure size 432x288 with 1 Axes>"
      ]
     },
     "metadata": {},
     "output_type": "display_data"
    }
   ],
   "source": [
    "# generate data\n",
    "n = 10000\n",
    "p = 10\n",
    "beta = np.append(np.repeat(0, 5), np.repeat(2, 5))\n",
    "train, test = generate_example_data(n, p, beta, 0.2)\n",
    "\n",
    "# Search for best predictors with training set\n",
    "train_X, train_y = train.drop('y', axis=1), train.y\n",
    "scores, models, vectors = stepwise(train_X ,train_y, forward=False)\n",
    "\n",
    "# Evaluate best predictors with test set\n",
    "test_X, test_y = test.drop('y', axis=1), test.y\n",
    "rmses = compute_rmses(models, vectors, test_X.values, test_y.values, False)\n",
    "\n",
    "# plot error vs number of predictors\n",
    "bar_df = pd.DataFrame({'RMSE' : rmses, 'number of predictors' : list(reversed(range(0,len(rmses))))})\n",
    "sns.barplot(y='number of predictors', x='RMSE', data=bar_df, orient='h')"
   ]
  }
 ],
 "metadata": {
  "kernelspec": {
   "display_name": "Python 3",
   "language": "python",
   "name": "python3"
  },
  "language_info": {
   "codemirror_mode": {
    "name": "ipython",
    "version": 3
   },
   "file_extension": ".py",
   "mimetype": "text/x-python",
   "name": "python",
   "nbconvert_exporter": "python",
   "pygments_lexer": "ipython3",
   "version": "3.6.5"
  }
 },
 "nbformat": 4,
 "nbformat_minor": 2
}
