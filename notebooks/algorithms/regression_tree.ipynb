{
 "cells": [
  {
   "cell_type": "code",
   "execution_count": 9,
   "metadata": {},
   "outputs": [],
   "source": [
    "import numpy as np\n",
    "import pandas as pd\n",
    "import seaborn as sns\n",
    "import sys\n",
    "import matplotlib.pyplot as plt\n",
    "sns.set(rc={'figure.figsize':(10,10)})"
   ]
  },
  {
   "cell_type": "markdown",
   "metadata": {},
   "source": [
    "The CART (classification and regression tree) algorithm was cooked up by Leo Breiman, Jerome Friedman and Charles J. Stone in 1984."
   ]
  },
  {
   "cell_type": "markdown",
   "metadata": {},
   "source": [
    "### Algorithm"
   ]
  },
  {
   "cell_type": "code",
   "execution_count": 43,
   "metadata": {},
   "outputs": [],
   "source": [
    "def compute_sum_split_variance(xs, y, v):\n",
    "    '''xs - 1D array of scalars\n",
    "        v - scalar to split on'''\n",
    "    left = y[xs <= v]\n",
    "    right = y[xs > v]\n",
    "    left_var = 0 if len(left) == 0 else ((left - left.mean()) ** 2).sum()\n",
    "    right_var = 0 if len(right) == 0 else ((right - right.mean()) ** 2).sum()\n",
    "    return  left_var + right_var\n",
    "\n",
    "def node(i, s, p, c, l, r):\n",
    "    return {'internal': i,\n",
    "            'split': s,\n",
    "            'p': p,\n",
    "            'c':c,\n",
    "            'l':l,\n",
    "            'r':r}\n",
    "\n",
    "def splitf(X, y, max_leaf_n):\n",
    "    if X.shape[0] <= max_leaf_n:\n",
    "        return node(False, None, None, y.mean(), None, None)\n",
    "    \n",
    "    lowest_var, best_p_idx, best_split = sys.float_info.max, None, None\n",
    "    for p_idx in range(0, X.shape[1]):\n",
    "        for n_idx in range(0, X.shape[0]):\n",
    "            split = X[n_idx][p_idx]\n",
    "            var = compute_sum_split_variance(X[:,p_idx], y, split)\n",
    "            if var < lowest_var:\n",
    "                lowest_var = var\n",
    "                best_p_idx = p_idx\n",
    "                best_split = split\n",
    "    left_idxs = X[:, best_p_idx] <= best_split\n",
    "    right_idxs = X[:, best_p_idx] > best_split\n",
    "    \n",
    "    if len(y[left_idxs]) == 0 or len(y[right_idxs]) == 0:\n",
    "        # this can only happen if yi = yi+1 ... = yn\n",
    "        # in which case.. there is no benefit to branching more.\n",
    "        assert(np.unique(y).size == 1)\n",
    "        return node(False, None, None, y.mean(), None, None)\n",
    "    \n",
    "    l = splitf(X[left_idxs], y[left_idxs], max_leaf_n)\n",
    "    r = splitf(X[right_idxs], y[right_idxs], max_leaf_n)\n",
    "    return node(True, best_split, best_p_idx, None, l, r)\n",
    "\n",
    "def predict(x, model):\n",
    "    if not model['internal']:\n",
    "        return model['c']\n",
    "    if x[model['p']] <= model['split']:\n",
    "        return predict(x, model['l'])\n",
    "    else:\n",
    "        return predict(x, model['r'])"
   ]
  },
  {
   "cell_type": "markdown",
   "metadata": {},
   "source": [
    "### Visualisation"
   ]
  },
  {
   "cell_type": "code",
   "execution_count": 44,
   "metadata": {},
   "outputs": [],
   "source": [
    "def plot_boundries(tree, xmin, xmax, ymin, ymax):\n",
    "    if not tree['internal']:\n",
    "        x = xmin + (0.5 * (xmax - xmin))\n",
    "        y = ymin + (0.5 * (ymax - ymin))\n",
    "        plt.text(x, y, round(tree['c'], 3))\n",
    "        return\n",
    "    s = tree['split']\n",
    "    if tree['p'] == 0:\n",
    "        plt.plot([s, s], [ymin, ymax], c='black')\n",
    "        plot_boundries(tree['l'], xmin, s, ymin, ymax)\n",
    "        plot_boundries(tree['r'], s, xmax, ymin, ymax)\n",
    "    else:\n",
    "        plt.plot([xmin, xmax],[s, s], c='black')\n",
    "        plot_boundries(tree['l'], xmin, xmax, ymin, s)\n",
    "        plot_boundries(tree['r'], xmin, xmax, s, ymax)\n",
    "        \n",
    "def fit_n_plot_boundries(X, y, max_leaf_n):\n",
    "    scatter_df = pd.concat([pd.DataFrame(X, columns=['x1', 'x2']), pd.Series(y, name='y')], axis=1)\n",
    "    ax = sns.scatterplot(x='x1', y='x2', hue='y' ,data=scatter_df, palette='rocket')\n",
    "    xmin, xmax = ax.get_xlim()\n",
    "    ymin, ymax = ax.get_ylim()\n",
    "    tree = splitf(X, y, max_leaf_n)\n",
    "    plot_boundries(tree, xmin, xmax, ymin, ymax)"
   ]
  },
  {
   "cell_type": "code",
   "execution_count": 45,
   "metadata": {},
   "outputs": [
    {
     "data": {
      "image/png": "[encoded data removed]",
      "text/plain": [
       "<Figure size 720x720 with 1 Axes>"
      ]
     },
     "metadata": {},
     "output_type": "display_data"
    }
   ],
   "source": [
    "n = 100\n",
    "k = 4\n",
    "class_1 = np.random.normal([0, 1], 1, (n//k, 2))\n",
    "class_2 = np.random.normal([0, 10], 1,(n//k, 2))\n",
    "df = pd.concat([pd.DataFrame(class_1), pd.DataFrame(class_2)], axis=0, ignore_index=True)\n",
    "X = df.values\n",
    "y = X.sum(axis=1)\n",
    "max_leaf_n = 20\n",
    "fit_n_plot_boundries(X,y, max_leaf_n)"
   ]
  }
 ],
 "metadata": {
  "kernelspec": {
   "display_name": "Python 3",
   "language": "python",
   "name": "python3"
  },
  "language_info": {
   "codemirror_mode": {
    "name": "ipython",
    "version": 3
   },
   "file_extension": ".py",
   "mimetype": "text/x-python",
   "name": "python",
   "nbconvert_exporter": "python",
   "pygments_lexer": "ipython3",
   "version": "3.6.5"
  }
 },
 "nbformat": 4,
 "nbformat_minor": 2
}
