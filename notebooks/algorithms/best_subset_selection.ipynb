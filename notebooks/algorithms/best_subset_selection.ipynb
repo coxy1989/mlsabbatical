{
 "cells": [
  {
   "cell_type": "code",
   "execution_count": 6,
   "metadata": {},
   "outputs": [],
   "source": [
    "import pandas as pd\n",
    "import numpy as np\n",
    "import time\n",
    "import seaborn as sns\n",
    "from itertools import combinations\n",
    "from sklearn import model_selection, linear_model, metrics\n",
    "sns.set(rc={'figure.figsize':(10,10)})"
   ]
  },
  {
   "cell_type": "markdown",
   "metadata": {},
   "source": [
    "### Naive Algorithm"
   ]
  },
  {
   "cell_type": "code",
   "execution_count": 9,
   "metadata": {},
   "outputs": [],
   "source": [
    "def n_choose_k(n, k):\n",
    "    return int(np.math.factorial(n) / (np.math.factorial(n - k) * np.math.factorial(k)))\n",
    "\n",
    "def n_choose_upto_k_sum(n, up_to_k):\n",
    "    return np.array([n_choose_k(n, k) for k in range(1, up_to_k + 1)]).sum()\n",
    "    \n",
    "def best_subset(n_predictors, target_column, data):\n",
    "    i = 1\n",
    "    predictors = data.drop(target_column, axis=1).columns\n",
    "    search_size = n_choose_upto_k_sum(len(predictors), n_predictors)\n",
    "    single_fit_time = 0.0012\n",
    "    print('searching over {} models'.format(search_size))\n",
    "    print('estimated time: {} seconds'.format(single_fit_time * search_size))\n",
    "    top_models = []\n",
    "    top_combs = []\n",
    "    loop_tick = time.time() \n",
    "    while i <= n_predictors:\n",
    "        print('-----------')\n",
    "        print('{} choose: {}'.format(n_predictors, i))\n",
    "        cmbs = list(combinations(predictors, i))\n",
    "        print('{} combinations'.format(len(cmbs)))\n",
    "        tick = time.time()\n",
    "        top_model = None\n",
    "        top_score = None\n",
    "        top_comb = None\n",
    "        for s in cmbs:\n",
    "            x = data[list(s)]\n",
    "            model = linear_model.LinearRegression().fit(x, data[target_column])\n",
    "            # `score` calculates R^2\n",
    "            score = model.score(x, data[target_column])\n",
    "            if top_score == None or score > top_score:\n",
    "                top_model = model\n",
    "                top_score = score\n",
    "                top_comb = s\n",
    "        tock = time.time()\n",
    "        print('done: {} seconds ({} secs/model)'.format(tock - tick, (tock - tick) / len(cmbs)))\n",
    "        top_models.append(top_model)\n",
    "        top_combs.append(top_comb)\n",
    "        tock = time.time()\n",
    "        i += 1\n",
    "    \n",
    "    print('--- FINISHED ---')\n",
    "    loop_tock = time.time()\n",
    "    print('total time: {} seconds'.format((loop_tock-loop_tick)))\n",
    "    print('secs/model: {}'.format((loop_tock-loop_tick)/ search_size))\n",
    "    return pd.DataFrame({'model' : top_models, 'n_predictors' : range(1, n_predictors + 1)}), top_combs"
   ]
  },
  {
   "cell_type": "markdown",
   "metadata": {},
   "source": [
    "### Generate some data"
   ]
  },
  {
   "cell_type": "code",
   "execution_count": 10,
   "metadata": {},
   "outputs": [],
   "source": [
    "def generate_example_data(n, p, beta, epsilon):\n",
    "    x = np.random.normal(0, 1, (n, p))\n",
    "    eps = np.random.normal(0, epsilon, n)\n",
    "    y = (x @ beta.reshape(-1, 1)) + eps.reshape(-1, 1)\n",
    "    data = pd.DataFrame(x, columns= ['x' + str(i) for i in range(0, x.shape[1])])\n",
    "    data['y'] = y\n",
    "    return model_selection.train_test_split(data, test_size=0.9)\n",
    "\n",
    "def compute_rmses(combs, df, test):\n",
    "    rmses = []\n",
    "    for idx, m in enumerate(df['model']):\n",
    "        comb = combs[idx]\n",
    "        x = test[list(comb)]\n",
    "        preds = m.predict(x)\n",
    "        rmses.append(np.sqrt(metrics.mean_squared_error(test['y'], preds)))\n",
    "    return rmses"
   ]
  },
  {
   "cell_type": "markdown",
   "metadata": {},
   "source": [
    "Example 1: All the predictors are equally associated with the respone"
   ]
  },
  {
   "cell_type": "code",
   "execution_count": 11,
   "metadata": {},
   "outputs": [
    {
     "name": "stdout",
     "output_type": "stream",
     "text": [
      "searching over 1023 models\n",
      "estimated time: 1.2275999999999998 seconds\n",
      "-----------\n",
      "10 choose: 1\n",
      "10 combinations\n",
      "done: 0.019714832305908203 seconds (0.0019714832305908203 secs/model)\n",
      "-----------\n",
      "10 choose: 2\n",
      "45 combinations\n",
      "done: 0.04935574531555176 seconds (0.0010967943403455947 secs/model)\n",
      "-----------\n",
      "10 choose: 3\n",
      "120 combinations\n",
      "done: 0.14224720001220703 seconds (0.0011853933334350585 secs/model)\n",
      "-----------\n",
      "10 choose: 4\n",
      "210 combinations\n",
      "done: 0.253493070602417 seconds (0.0012071098600115095 secs/model)\n",
      "-----------\n",
      "10 choose: 5\n",
      "252 combinations\n",
      "done: 0.31765222549438477 seconds (0.0012605247043427966 secs/model)\n",
      "-----------\n",
      "10 choose: 6\n",
      "210 combinations\n",
      "done: 0.2761421203613281 seconds (0.0013149624779110864 secs/model)\n",
      "-----------\n",
      "10 choose: 7\n",
      "120 combinations\n",
      "done: 0.1645829677581787 seconds (0.0013715247313181558 secs/model)\n",
      "-----------\n",
      "10 choose: 8\n",
      "45 combinations\n",
      "done: 0.06039309501647949 seconds (0.0013420687781439888 secs/model)\n",
      "-----------\n",
      "10 choose: 9\n",
      "10 combinations\n",
      "done: 0.017360925674438477 seconds (0.0017360925674438476 secs/model)\n",
      "-----------\n",
      "10 choose: 10\n",
      "1 combinations\n",
      "done: 0.0024619102478027344 seconds (0.0024619102478027344 secs/model)\n",
      "--- FINISHED ---\n",
      "total time: 1.3060688972473145 seconds\n",
      "secs/model: 0.0012767046893913143\n"
     ]
    },
    {
     "data": {
      "text/plain": [
       "<matplotlib.axes._subplots.AxesSubplot at 0x117ac8278>"
      ]
     },
     "execution_count": 11,
     "metadata": {},
     "output_type": "execute_result"
    },
    {
     "data": {
      "image/png": "[encoded data removed]",
      "text/plain": [
       "<Figure size 720x720 with 1 Axes>"
      ]
     },
     "metadata": {},
     "output_type": "display_data"
    }
   ],
   "source": [
    "# generate data\n",
    "n = 10000\n",
    "p = 10\n",
    "beta = np.repeat(2, p)\n",
    "train, test = generate_example_data(n, p, beta, 0.2)\n",
    "# search for best subset\n",
    "df, combs = best_subset(10, 'y', train)\n",
    "\n",
    "# evalutate test error for best model for each k\n",
    "rmses = compute_rmses(combs, df, test)\n",
    "    \n",
    "# plot error vs k\n",
    "bar_df = pd.DataFrame({'RMSE' : rmses,'k' : np.arange(1, len(rmses) + 1)})\n",
    "sns.barplot(y='k', x='RMSE', data=bar_df, orient='h')"
   ]
  },
  {
   "cell_type": "markdown",
   "metadata": {},
   "source": [
    "Example 2: Half of the predictors are equally associated with the respone, the rest are not associated with the response"
   ]
  },
  {
   "cell_type": "code",
   "execution_count": 12,
   "metadata": {},
   "outputs": [
    {
     "name": "stdout",
     "output_type": "stream",
     "text": [
      "searching over 1023 models\n",
      "estimated time: 1.2275999999999998 seconds\n",
      "-----------\n",
      "10 choose: 1\n",
      "10 combinations\n",
      "done: 0.013470172882080078 seconds (0.0013470172882080079 secs/model)\n",
      "-----------\n",
      "10 choose: 2\n",
      "45 combinations\n",
      "done: 0.05158400535583496 seconds (0.0011463112301296659 secs/model)\n",
      "-----------\n",
      "10 choose: 3\n",
      "120 combinations\n",
      "done: 0.13752007484436035 seconds (0.001146000623703003 secs/model)\n",
      "-----------\n",
      "10 choose: 4\n",
      "210 combinations\n",
      "done: 0.25676608085632324 seconds (0.0012226956231253488 secs/model)\n",
      "-----------\n",
      "10 choose: 5\n",
      "252 combinations\n",
      "done: 0.3118247985839844 seconds (0.0012373999943808905 secs/model)\n",
      "-----------\n",
      "10 choose: 6\n",
      "210 combinations\n",
      "done: 0.2667369842529297 seconds (0.0012701761154901414 secs/model)\n",
      "-----------\n",
      "10 choose: 7\n",
      "120 combinations\n",
      "done: 0.1490161418914795 seconds (0.0012418011824289958 secs/model)\n",
      "-----------\n",
      "10 choose: 8\n",
      "45 combinations\n",
      "done: 0.056954145431518555 seconds (0.0012656476762559678 secs/model)\n",
      "-----------\n",
      "10 choose: 9\n",
      "10 combinations\n",
      "done: 0.013975143432617188 seconds (0.0013975143432617188 secs/model)\n",
      "-----------\n",
      "10 choose: 10\n",
      "1 combinations\n",
      "done: 0.0019330978393554688 seconds (0.0019330978393554688 secs/model)\n",
      "--- FINISHED ---\n",
      "total time: 1.2624120712280273 seconds\n",
      "secs/model: 0.0012340293951398117\n"
     ]
    },
    {
     "data": {
      "text/plain": [
       "<matplotlib.axes._subplots.AxesSubplot at 0x117cdbdd8>"
      ]
     },
     "execution_count": 12,
     "metadata": {},
     "output_type": "execute_result"
    },
    {
     "data": {
      "image/png": "[encoded data removed]",
      "text/plain": [
       "<Figure size 720x720 with 1 Axes>"
      ]
     },
     "metadata": {},
     "output_type": "display_data"
    }
   ],
   "source": [
    "# generate data\n",
    "n = 10000\n",
    "p = 10\n",
    "beta = np.append(np.repeat(0, 5), np.repeat(2, 5))\n",
    "train, test = generate_example_data(n, p, beta, 0.2)\n",
    "# search for best subset\n",
    "df, combs = best_subset(10, 'y', train)\n",
    "\n",
    "# evalutate test error for best model for each k\n",
    "rmses = compute_rmses(combs, df, test)\n",
    "    \n",
    "# plot error vs k\n",
    "bar_df = pd.DataFrame({'RMSE' : rmses,'k' : np.arange(1, len(rmses) + 1)})\n",
    "sns.barplot(y='k', x='RMSE', data=bar_df, orient='h')"
   ]
  },
  {
   "cell_type": "markdown",
   "metadata": {},
   "source": [
    "### Leaps and Bounds Algorithm"
   ]
  },
  {
   "cell_type": "markdown",
   "metadata": {},
   "source": [
    "The algorithm described by Furnival, G. M. and Wilson, R. W., Jr. in their paper: *Regressions by leaps and bounds* can efficiently compute best subsets for `p` up to 30 or 40. [This](https://www.stat.umn.edu/geyer/8054/slide/leaps.pdf) deck describes the original paper as *\"almost maximally unreadable\"* but recommends Hand (1981) as a better penned alternative."
   ]
  }
 ],
 "metadata": {
  "kernelspec": {
   "display_name": "Python 3",
   "language": "python",
   "name": "python3"
  },
  "language_info": {
   "codemirror_mode": {
    "name": "ipython",
    "version": 3
   },
   "file_extension": ".py",
   "mimetype": "text/x-python",
   "name": "python",
   "nbconvert_exporter": "python",
   "pygments_lexer": "ipython3",
   "version": "3.6.5"
  }
 },
 "nbformat": 4,
 "nbformat_minor": 2
}
