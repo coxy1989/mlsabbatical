{
 "cells": [
  {
   "cell_type": "code",
   "execution_count": 1,
   "metadata": {},
   "outputs": [],
   "source": [
    "import numpy as np"
   ]
  },
  {
   "cell_type": "markdown",
   "metadata": {},
   "source": [
    "Ridge Regression has been invented independently in many different contexts - Andrey Tikhonov (1906 - 1993) takes most of the credit."
   ]
  },
  {
   "cell_type": "markdown",
   "metadata": {},
   "source": [
    "### Generate some data"
   ]
  },
  {
   "cell_type": "code",
   "execution_count": 2,
   "metadata": {},
   "outputs": [],
   "source": [
    "intercept = 10\n",
    "coefficient = 2\n",
    "x = np.random.normal(0, 1, 100)\n",
    "eps = np.random.normal(0, 1, 100)\n",
    "y = (coefficient * x) + intercept + eps\n",
    "# Add intercept term to x for convenience of notation\n",
    "i = np.repeat(1, x.shape[0])\n",
    "X = np.vstack([i,x]).T"
   ]
  },
  {
   "cell_type": "markdown",
   "metadata": {},
   "source": [
    "### Model"
   ]
  },
  {
   "cell_type": "markdown",
   "metadata": {},
   "source": [
    "Our objective takes on the familiar *loss and penalty* structure. We seek to find paramaters $\\beta$ that minimize the RSS loss subject to an L2 penalty:\n",
    "\n",
    "\n",
    "$\\beta^{ridge} = argmin_\\beta \\bigg\\{ \\sum_\\limits{i=1}^N (y_i - \\beta_0 - \\sum_\\limits{j=1}^p x_{ij}\\beta_j)^2 + \\lambda \\sum_\\limits{j=1}^p \\beta_j^2 \\bigg\\}$"
   ]
  },
  {
   "cell_type": "markdown",
   "metadata": {},
   "source": [
    "Which can equivalently be expressed as:\n",
    "\n",
    "$\\beta^{ridge} = argmin_\\beta \\sum_\\limits{i=1}^N (y_i - \\beta_0 - \\sum_\\limits{j=1}^p x_{ij}\\beta_j)^2$\n",
    "\n",
    "*subject to:*\n",
    "\n",
    "$\\sum_\\limits{j=1}^p \\beta_j^2 \\leq t$"
   ]
  },
  {
   "cell_type": "markdown",
   "metadata": {},
   "source": [
    "### Analytical Solution"
   ]
  },
  {
   "cell_type": "markdown",
   "metadata": {},
   "source": [
    "In matrix notation we have:\n",
    "\n",
    "$RSS(\\lambda) = (\\mathbf{y} - \\mathbf{X}\\beta)^T (\\mathbf{y} - \\mathbf{X}\\beta) + \\lambda \\beta ^T \\beta$"
   ]
  },
  {
   "cell_type": "markdown",
   "metadata": {},
   "source": [
    "Differentiating with respect to our parameters $\\beta$:\n",
    "\n",
    "$\\frac{\\partial RSS}{\\partial \\beta} = -2\\mathbf{X}^T (y - \\mathbf{X} \\beta) + 2 \\lambda \\beta$"
   ]
  },
  {
   "cell_type": "markdown",
   "metadata": {},
   "source": [
    "Setting to zero and solving for $\\beta$ yields the analytical solution:\n",
    "\n",
    "$\\beta^{ridge} = (\\mathbf{X}^T \\mathbf{X} + \\lambda \\mathbf{I})^{-1} \\mathbf{X}^T \\mathbf{y}$"
   ]
  },
  {
   "cell_type": "code",
   "execution_count": 3,
   "metadata": {},
   "outputs": [
    {
     "name": "stdout",
     "output_type": "stream",
     "text": [
      "intercept: 10.100778031650291\n",
      "coefficient: 1.8578351773690924\n"
     ]
    }
   ],
   "source": [
    "lambdav = 0.1\n",
    "beta = np.linalg.inv(((X.T @ X) + np.identity(X.shape[1]) * lambdav)) @ X.T  @ y\n",
    "print('intercept: {}'.format(beta[0]))\n",
    "print('coefficient: {}'.format(beta[1]))"
   ]
  },
  {
   "cell_type": "markdown",
   "metadata": {},
   "source": [
    "### Numerical Solution - Gradient Descent"
   ]
  },
  {
   "cell_type": "code",
   "execution_count": 11,
   "metadata": {},
   "outputs": [],
   "source": [
    "def partial_rss_wrt_beta(X, lambdav ,beta):\n",
    "    opr1 =  -2 * X.T @ (y - (X @ beta))\n",
    "    opr2 = 2 * lambdav * beta\n",
    "    return opr1 + opr2"
   ]
  },
  {
   "cell_type": "code",
   "execution_count": 12,
   "metadata": {},
   "outputs": [
    {
     "name": "stdout",
     "output_type": "stream",
     "text": [
      "intercept: 10.100778031650288\n",
      "coefficient: 1.8578351773690915\n"
     ]
    }
   ],
   "source": [
    "lambdav = 0.1\n",
    "beta = np.repeat(0, 2)\n",
    "alpha = 0.001\n",
    "i = 0  \n",
    "while i < (10 ** 5):\n",
    "    partial = partial_rss_wrt_beta(X, lambdav, beta)\n",
    "    partial\n",
    "    beta = beta - (alpha * partial)\n",
    "    i += 1\n",
    "\n",
    "print('intercept: {}'.format(beta[0]))\n",
    "print('coefficient: {}'.format(beta[1]))"
   ]
  }
 ],
 "metadata": {
  "kernelspec": {
   "display_name": "Python 3",
   "language": "python",
   "name": "python3"
  },
  "language_info": {
   "codemirror_mode": {
    "name": "ipython",
    "version": 3
   },
   "file_extension": ".py",
   "mimetype": "text/x-python",
   "name": "python",
   "nbconvert_exporter": "python",
   "pygments_lexer": "ipython3",
   "version": "3.6.5"
  }
 },
 "nbformat": 4,
 "nbformat_minor": 2
}
