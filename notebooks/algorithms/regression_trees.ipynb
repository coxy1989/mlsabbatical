{
 "cells": [
  {
   "cell_type": "code",
   "execution_count": 18,
   "metadata": {},
   "outputs": [],
   "source": [
    "import numpy as np\n",
    "import pandas as pd\n",
    "import seaborn as sns\n",
    "import sys\n",
    "import matplotlib.pyplot as plt\n",
    "from sklearn import datasets, model_selection\n",
    "sns.set(rc={'figure.figsize':(10,10)})"
   ]
  },
  {
   "cell_type": "code",
   "execution_count": 19,
   "metadata": {},
   "outputs": [
    {
     "data": {
      "text/html": [
       "<div>\n",
       "<style scoped>\n",
       "    .dataframe tbody tr th:only-of-type {\n",
       "        vertical-align: middle;\n",
       "    }\n",
       "\n",
       "    .dataframe tbody tr th {\n",
       "        vertical-align: top;\n",
       "    }\n",
       "\n",
       "    .dataframe thead th {\n",
       "        text-align: right;\n",
       "    }\n",
       "</style>\n",
       "<table border=\"1\" class=\"dataframe\">\n",
       "  <thead>\n",
       "    <tr style=\"text-align: right;\">\n",
       "      <th></th>\n",
       "      <th>CRIM</th>\n",
       "      <th>ZN</th>\n",
       "      <th>INDUS</th>\n",
       "      <th>CHAS</th>\n",
       "      <th>NOX</th>\n",
       "      <th>RM</th>\n",
       "      <th>AGE</th>\n",
       "      <th>DIS</th>\n",
       "      <th>RAD</th>\n",
       "      <th>TAX</th>\n",
       "      <th>PTRATIO</th>\n",
       "      <th>B</th>\n",
       "      <th>LSTAT</th>\n",
       "      <th>target</th>\n",
       "    </tr>\n",
       "  </thead>\n",
       "  <tbody>\n",
       "    <tr>\n",
       "      <th>289</th>\n",
       "      <td>0.04297</td>\n",
       "      <td>52.5</td>\n",
       "      <td>5.32</td>\n",
       "      <td>0.0</td>\n",
       "      <td>0.405</td>\n",
       "      <td>6.565</td>\n",
       "      <td>22.9</td>\n",
       "      <td>7.3172</td>\n",
       "      <td>6.0</td>\n",
       "      <td>293.0</td>\n",
       "      <td>16.6</td>\n",
       "      <td>371.72</td>\n",
       "      <td>9.51</td>\n",
       "      <td>24.8</td>\n",
       "    </tr>\n",
       "    <tr>\n",
       "      <th>176</th>\n",
       "      <td>0.07022</td>\n",
       "      <td>0.0</td>\n",
       "      <td>4.05</td>\n",
       "      <td>0.0</td>\n",
       "      <td>0.510</td>\n",
       "      <td>6.020</td>\n",
       "      <td>47.2</td>\n",
       "      <td>3.5549</td>\n",
       "      <td>5.0</td>\n",
       "      <td>296.0</td>\n",
       "      <td>16.6</td>\n",
       "      <td>393.23</td>\n",
       "      <td>10.11</td>\n",
       "      <td>23.2</td>\n",
       "    </tr>\n",
       "    <tr>\n",
       "      <th>477</th>\n",
       "      <td>15.02340</td>\n",
       "      <td>0.0</td>\n",
       "      <td>18.10</td>\n",
       "      <td>0.0</td>\n",
       "      <td>0.614</td>\n",
       "      <td>5.304</td>\n",
       "      <td>97.3</td>\n",
       "      <td>2.1007</td>\n",
       "      <td>24.0</td>\n",
       "      <td>666.0</td>\n",
       "      <td>20.2</td>\n",
       "      <td>349.48</td>\n",
       "      <td>24.91</td>\n",
       "      <td>12.0</td>\n",
       "    </tr>\n",
       "    <tr>\n",
       "      <th>391</th>\n",
       "      <td>5.29305</td>\n",
       "      <td>0.0</td>\n",
       "      <td>18.10</td>\n",
       "      <td>0.0</td>\n",
       "      <td>0.700</td>\n",
       "      <td>6.051</td>\n",
       "      <td>82.5</td>\n",
       "      <td>2.1678</td>\n",
       "      <td>24.0</td>\n",
       "      <td>666.0</td>\n",
       "      <td>20.2</td>\n",
       "      <td>378.38</td>\n",
       "      <td>18.76</td>\n",
       "      <td>23.2</td>\n",
       "    </tr>\n",
       "    <tr>\n",
       "      <th>384</th>\n",
       "      <td>20.08490</td>\n",
       "      <td>0.0</td>\n",
       "      <td>18.10</td>\n",
       "      <td>0.0</td>\n",
       "      <td>0.700</td>\n",
       "      <td>4.368</td>\n",
       "      <td>91.2</td>\n",
       "      <td>1.4395</td>\n",
       "      <td>24.0</td>\n",
       "      <td>666.0</td>\n",
       "      <td>20.2</td>\n",
       "      <td>285.83</td>\n",
       "      <td>30.63</td>\n",
       "      <td>8.8</td>\n",
       "    </tr>\n",
       "  </tbody>\n",
       "</table>\n",
       "</div>"
      ],
      "text/plain": [
       "         CRIM    ZN  INDUS  CHAS    NOX     RM   AGE     DIS   RAD    TAX  \\\n",
       "289   0.04297  52.5   5.32   0.0  0.405  6.565  22.9  7.3172   6.0  293.0   \n",
       "176   0.07022   0.0   4.05   0.0  0.510  6.020  47.2  3.5549   5.0  296.0   \n",
       "477  15.02340   0.0  18.10   0.0  0.614  5.304  97.3  2.1007  24.0  666.0   \n",
       "391   5.29305   0.0  18.10   0.0  0.700  6.051  82.5  2.1678  24.0  666.0   \n",
       "384  20.08490   0.0  18.10   0.0  0.700  4.368  91.2  1.4395  24.0  666.0   \n",
       "\n",
       "     PTRATIO       B  LSTAT  target  \n",
       "289     16.6  371.72   9.51    24.8  \n",
       "176     16.6  393.23  10.11    23.2  \n",
       "477     20.2  349.48  24.91    12.0  \n",
       "391     20.2  378.38  18.76    23.2  \n",
       "384     20.2  285.83  30.63     8.8  "
      ]
     },
     "execution_count": 19,
     "metadata": {},
     "output_type": "execute_result"
    }
   ],
   "source": [
    "boston_data = datasets.load_boston()\n",
    "df_boston = pd.DataFrame(boston_data.data,columns=boston_data.feature_names)\n",
    "df_boston['target'] = pd.Series(boston_data.target)\n",
    "train, test = model_selection.train_test_split(df_boston, test_size=0.2)\n",
    "train_X = train.drop('target', axis=1).values\n",
    "train_y = train['target'].values\n",
    "test_X = test.drop('target', axis=1).values\n",
    "test_y = test['target'].values\n",
    "train.head()"
   ]
  },
  {
   "cell_type": "markdown",
   "metadata": {},
   "source": [
    "### Algorithm - Regression Tree\n",
    "\n",
    "Regression trees were cooked up in the famous CART paper penned by Leo Breiman, Jerome Friedman and Charles J. Stone in 1984."
   ]
  },
  {
   "cell_type": "code",
   "execution_count": 21,
   "metadata": {},
   "outputs": [],
   "source": [
    "def compute_sum_split_variance(xs, y, v):\n",
    "    '''xs - 1D array of scalars\n",
    "        v - scalar to split on'''\n",
    "    left = y[xs <= v]\n",
    "    right = y[xs > v]\n",
    "    left_var = 0 if len(left) == 0 else ((left - left.mean()) ** 2).sum()\n",
    "    right_var = 0 if len(right) == 0 else ((right - right.mean()) ** 2).sum()\n",
    "    return  left_var + right_var\n",
    "\n",
    "def node(i, s, p, c, l, r):\n",
    "    return {'internal': i,\n",
    "            'split': s,\n",
    "            'p': p,\n",
    "            'c':c,\n",
    "            'l':l,\n",
    "            'r':r}\n",
    "\n",
    "def gen_reg_tree(X, y, max_leaf_n):\n",
    "    if X.shape[0] <= max_leaf_n:\n",
    "        return node(False, None, None, y.mean(), None, None) \n",
    "    lowest_var, best_p_idx, best_split = sys.float_info.max, None, None\n",
    "    for p_idx in range(0, X.shape[1]):\n",
    "        for n_idx in range(0, X.shape[0]):\n",
    "            split = X[n_idx][p_idx]\n",
    "            var = compute_sum_split_variance(X[:,p_idx], y, split)\n",
    "            if var < lowest_var:\n",
    "                lowest_var = var\n",
    "                best_p_idx = p_idx\n",
    "                best_split = split\n",
    "    left_idxs = X[:, best_p_idx] <= best_split\n",
    "    right_idxs = X[:, best_p_idx] > best_split    \n",
    "    if len(y[left_idxs]) == 0 or len(y[right_idxs]) == 0:\n",
    "        # this happens if yi = yi+1 ... = yn\n",
    "        # in which case.. there is no benefit to branching more.\n",
    "        assert(np.unique(y).size == 1)\n",
    "        return node(False, None, None, y.mean(), None, None)\n",
    "    l = gen_reg_tree(X[left_idxs], y[left_idxs], max_leaf_n)\n",
    "    r = gen_reg_tree(X[right_idxs], y[right_idxs], max_leaf_n)\n",
    "    return node(True, best_split, best_p_idx, None, l, r)\n",
    "\n",
    "def predict(x, model):\n",
    "    if not model['internal']:\n",
    "        return model['c']\n",
    "    return predict(x, model['l']) if x[model['p']] <= model['split'] else predict(x, model['r'])"
   ]
  },
  {
   "cell_type": "markdown",
   "metadata": {},
   "source": [
    "**Example 1**: Visualisation with a generated dataset"
   ]
  },
  {
   "cell_type": "code",
   "execution_count": 48,
   "metadata": {},
   "outputs": [
    {
     "data": {
      "image/png": "[encoded data removed]",
      "text/plain": [
       "<Figure size 720x720 with 1 Axes>"
      ]
     },
     "metadata": {},
     "output_type": "display_data"
    }
   ],
   "source": [
    "def plot_boundries(tree, xmin, xmax, ymin, ymax):\n",
    "    if not tree['internal']:\n",
    "        x = xmin + (0.5 * (xmax - xmin))\n",
    "        y = ymin + (0.5 * (ymax - ymin))\n",
    "        plt.text(x, y, round(tree['c'], 3))\n",
    "        return\n",
    "    s = tree['split']\n",
    "    if tree['p'] == 0:\n",
    "        plt.plot([s, s], [ymin, ymax], c='black')\n",
    "        plot_boundries(tree['l'], xmin, s, ymin, ymax)\n",
    "        plot_boundries(tree['r'], s, xmax, ymin, ymax)\n",
    "    else:\n",
    "        plt.plot([xmin, xmax],[s, s], c='black')\n",
    "        plot_boundries(tree['l'], xmin, xmax, ymin, s)\n",
    "        plot_boundries(tree['r'], xmin, xmax, s, ymax)\n",
    "        \n",
    "def fit_n_plot_boundries(X, y, max_leaf_n):\n",
    "    scatter_df = pd.concat([pd.DataFrame(X, columns=['x1', 'x2']), pd.Series(y, name='y')], axis=1)\n",
    "    ax = sns.scatterplot(x='x1', y='x2', hue='y' ,data=scatter_df, palette='rocket')\n",
    "    xmin, xmax = ax.get_xlim()\n",
    "    ymin, ymax = ax.get_ylim()\n",
    "    tree = gen_reg_tree(X, y, max_leaf_n)\n",
    "    plot_boundries(tree, xmin, xmax, ymin, ymax)\n",
    "    \n",
    "n = 100\n",
    "k = 4\n",
    "class_1 = np.random.normal([0, 1], 1, (n//k, 2))\n",
    "class_2 = np.random.normal([0, 10], 1,(n//k, 2))\n",
    "df = pd.concat([pd.DataFrame(class_1), pd.DataFrame(class_2)], axis=0, ignore_index=True)\n",
    "X = df.values\n",
    "y = X.sum(axis=1)\n",
    "max_leaf_n = 20\n",
    "fit_n_plot_boundries(X,y, max_leaf_n)"
   ]
  },
  {
   "cell_type": "markdown",
   "metadata": {},
   "source": [
    "**Example 2**: Performance on Boston "
   ]
  },
  {
   "cell_type": "code",
   "execution_count": 25,
   "metadata": {},
   "outputs": [
    {
     "name": "stdout",
     "output_type": "stream",
     "text": [
      "training error: 0.32033012056098287\n",
      "test error: 6.976984221246986\n"
     ]
    }
   ],
   "source": [
    "max_leaf_n = 2\n",
    "tree = gen_reg_tree(train_X, train_y, max_leaf_n)\n",
    "\n",
    "# evaluate training error\n",
    "preds = [predict(r, tree) for r in train_X]\n",
    "print('training error: {}'.format(np.sqrt(((train_y - preds) ** 2).sum() / train_y.shape[0])))\n",
    "\n",
    "# evaluate test error\n",
    "preds = [predict(r, tree) for r in test_X]\n",
    "print('test error: {}'.format(np.sqrt(((test_y - preds) ** 2).sum() / test_y.shape[0])))"
   ]
  },
  {
   "cell_type": "markdown",
   "metadata": {},
   "source": [
    "### Algorithm - Bagged Regression Trees\n",
    "\n",
    "Leo Brieman [first described bagging in 1996](https://link.springer.com/content/pdf/10.1023%2FA%3A1018054314350.pdf)."
   ]
  },
  {
   "cell_type": "code",
   "execution_count": 28,
   "metadata": {},
   "outputs": [],
   "source": [
    "def bagged_predict(x, trees):\n",
    "    return np.array([predict(x, t) for t in trees]).mean()\n",
    "    \n",
    "def bagged_trees(X, y, max_leaf_n, b):\n",
    "    n = X.shape[0]\n",
    "    trees = []\n",
    "    for _ in range(0,b):\n",
    "        b_sample = np.random.randint(0, n, n)\n",
    "        trees.append(gen_reg_tree(X[b_sample], y[b_sample], max_leaf_n))\n",
    "    return trees"
   ]
  },
  {
   "cell_type": "markdown",
   "metadata": {},
   "source": [
    "**Example**: Performance on Boston"
   ]
  },
  {
   "cell_type": "code",
   "execution_count": 46,
   "metadata": {},
   "outputs": [
    {
     "name": "stdout",
     "output_type": "stream",
     "text": [
      "test error: 4.766596508464903\n"
     ]
    }
   ],
   "source": [
    "max_leaf_n = 2\n",
    "b = 50\n",
    "trees = bagged_trees(train_X, train_y, max_leaf_n, b)\n",
    "\n",
    "# evaluate test error\n",
    "preds = [bagged_predict(x, trees) for x in test_X]\n",
    "print('test error: {}'.format(np.sqrt(((test_y - preds) ** 2).sum() / test_y.shape[0])))"
   ]
  },
  {
   "cell_type": "markdown",
   "metadata": {},
   "source": [
    "### Algorithm - Random Forests Regression\n",
    "\n",
    "Tin Kam Ho is credited with [the first description](https://web.archive.org/web/20160417030218/http://ect.bell-labs.com/who/tkh/publications/papers/odt.pdf) of random decision forests in 1995. Leo Brieman is credited with [the introduction of random forests proper]((https://link.springer.com/article/10.1023%2FA%3A1010933404324)) in 2001."
   ]
  },
  {
   "cell_type": "code",
   "execution_count": 36,
   "metadata": {},
   "outputs": [],
   "source": [
    "def gen_random_forest_tree(X, y, max_leaf_n, m):\n",
    "    if X.shape[0] <= max_leaf_n:\n",
    "        return node(False, None, None, y.mean(), None, None)\n",
    "    lowest_var, best_p_idx, best_split = sys.float_info.max, None, None\n",
    "    # Putting the 'random' in random forests..\n",
    "    ps = np.random.choice(np.arange(0,X.shape[1]), m, replace=False)\n",
    "    for p_idx in ps:\n",
    "        for n_idx in range(0, X.shape[0]):\n",
    "            split = X[n_idx][p_idx]\n",
    "            var = compute_sum_split_variance(X[:,p_idx], y, split)\n",
    "            if var < lowest_var:\n",
    "                lowest_var = var\n",
    "                best_p_idx = p_idx\n",
    "                best_split = split\n",
    "    left_idxs = X[:, best_p_idx] <= best_split\n",
    "    right_idxs = X[:, best_p_idx] > best_split\n",
    "    if len(y[left_idxs]) == 0 or len(y[right_idxs]) == 0:\n",
    "        # This happens when: yi = yi+1 ... = yn OR xi = xi+1 .... = xn\n",
    "        return node(False, None, None, y.mean(), None, None)\n",
    "    l = gen_random_forest_tree(X[left_idxs], y[left_idxs], max_leaf_n, m)\n",
    "    r = gen_random_forest_tree(X[right_idxs], y[right_idxs], max_leaf_n, m)\n",
    "    return node(True, best_split, best_p_idx, None, l, r)\n",
    "\n",
    "def random_forest_trees(X, y, max_leaf_n, b, m):\n",
    "    n = X.shape[0]\n",
    "    trees = []\n",
    "    for _ in range(0,b):\n",
    "        b_sample = np.random.randint(0, n, n)\n",
    "        trees.append(gen_random_forest_tree(X[b_sample], y[b_sample], max_leaf_n, m))\n",
    "    return trees"
   ]
  },
  {
   "cell_type": "markdown",
   "metadata": {},
   "source": [
    "**Example**: Performance on Boston"
   ]
  },
  {
   "cell_type": "code",
   "execution_count": 43,
   "metadata": {},
   "outputs": [
    {
     "name": "stdout",
     "output_type": "stream",
     "text": [
      "test error: 4.611756849044611\n"
     ]
    }
   ],
   "source": [
    "max_leaf_n = 2\n",
    "b = 100\n",
    "m = int(np.floor(np.sqrt(train_X.shape[1])))\n",
    "trees = random_forest_trees(train_X, train_y, max_leaf_n, b, m)\n",
    "\n",
    "# evaluate test error\n",
    "preds = [bagged_predict(x, trees) for x in test_X]\n",
    "print('test error: {}'.format(np.sqrt(((test_y - preds) ** 2).sum() / test_y.shape[0])))"
   ]
  }
 ],
 "metadata": {
  "kernelspec": {
   "display_name": "Python 3",
   "language": "python",
   "name": "python3"
  },
  "language_info": {
   "codemirror_mode": {
    "name": "ipython",
    "version": 3
   },
   "file_extension": ".py",
   "mimetype": "text/x-python",
   "name": "python",
   "nbconvert_exporter": "python",
   "pygments_lexer": "ipython3",
   "version": "3.6.5"
  }
 },
 "nbformat": 4,
 "nbformat_minor": 2
}
